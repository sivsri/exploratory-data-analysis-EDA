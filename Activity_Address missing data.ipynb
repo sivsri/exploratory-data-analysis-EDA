{
 "cells": [
  {
   "cell_type": "markdown",
   "metadata": {
    "id": "1WD1hC5MTRMS"
   },
   "source": [
    "# Activity: Address missing data "
   ]
  },
  {
   "cell_type": "markdown",
   "metadata": {
    "id": "ee31943b-274e-4c28-bce6-155cb6f4c334"
   },
   "source": [
    "## Introduction\n",
    "\n",
    "The datasets that data professionals use to solve problems typically contain missing values, which must be dealt with in order to achieve clean, useful data. This is particularly crucial in exploratory data analysis (EDA). In this activity, you will learn how to address missing data. \n",
    "\n",
    "You are a financial data consultant, and an investor has tasked your team with identifying new business opportunities. To help them decide which future companies to invest in, you will provide a list of current businesses valued at more than $1 billion. These are sometimes referred to as \"unicorns.\" Your client will use this information to learn about profitable businesses in general.\n",
    "\n",
    "The investor has asked you to provide them with the following data: \n",
    "- Companies in the `hardware` industry based in either `Beijing`, `San Francisco`, or `London` \n",
    "- Companies in the `artificial intelligence` industry based in `London`\n",
    "-  A list of the top 20 countries sorted by sum of company valuations in each country, excluding `United States`, `China`, `India`, and `United Kingdom`\n",
    "- A global valuation map of all countries with companies that joined the list after 2020\n",
    "- A global valuation map of all countries except `United States`, `China`, `India`, and `United Kingdom` (a separate map for Europe is also required)\n",
    "\n",
    "Your dataset includes a list of businesses and data points, such as the year they were founded; their industry; and their city, country, and continent. "
   ]
  },
  {
   "cell_type": "markdown",
   "metadata": {
    "id": "4bb9630e-b940-4835-a389-d39def1fa848"
   },
   "source": [
    "## **Step 1: Imports** "
   ]
  },
  {
   "cell_type": "markdown",
   "metadata": {
    "id": "aefe3c18"
   },
   "source": [
    "### Import libraries"
   ]
  },
  {
   "cell_type": "markdown",
   "metadata": {
    "id": "bc180686-4ae2-47ea-a292-3588ac60a820"
   },
   "source": [
    "Import the following relevant Python libraries:\n",
    "* `numpy`\n",
    "* `pandas`\n",
    "* `matplotlib.pyplot`\n",
    "* `plotly.express`\n",
    "* `seaborn`\n",
    "\n"
   ]
  },
  {
   "cell_type": "code",
   "execution_count": 26,
   "metadata": {
    "id": "8e7f1f2c-bbcc-4f3c-b927-b090ee8334c4"
   },
   "outputs": [],
   "source": [
    "# Import libraries and modules.\n",
    "import numpy as np\n",
    "import pandas as pd\n",
    "import matplotlib.pyplot as plt\n",
    "import seaborn as sns\n",
    "import plotly.express as px\n",
    "### YOUR CODE HERE ###"
   ]
  },
  {
   "cell_type": "markdown",
   "metadata": {
    "id": "1ecba4b6"
   },
   "source": [
    "### Load the dataset\n"
   ]
  },
  {
   "cell_type": "markdown",
   "metadata": {
    "id": "7d29c6bd-f194-46bb-b794-56dc20130473"
   },
   "source": [
    "The dataset is currently in CSV format and in a file named `Unicorn_Companies.csv`. As shown in this cell, the dataset has been automatically loaded in for you. You do not need to download the .csv file, or provide more code, in order to access the dataset and proceed with this lab. Please continue with this activity by completing the following instructions."
   ]
  },
  {
   "cell_type": "code",
   "execution_count": 27,
   "metadata": {
    "id": "3bd40d44-080f-4e49-b0c2-160dedc3c4df"
   },
   "outputs": [],
   "source": [
    "# RUN THIS CELL TO IMPORT YOUR DATA.\n",
    "\n",
    "### YOUR CODE HERE ###\n",
    "df_companies = pd.read_csv(\"Unicorn_Companies.csv\")"
   ]
  },
  {
   "cell_type": "markdown",
   "metadata": {
    "id": "95bf39c9-d05c-4324-a40b-bc692607b61b"
   },
   "source": [
    "## **Step 2: Data exploration** \n",
    "\n",
    "Explore the dataset and answer questions that will guide your management of missing values. "
   ]
  },
  {
   "cell_type": "markdown",
   "metadata": {
    "id": "fe813508"
   },
   "source": [
    "### Display top rows"
   ]
  },
  {
   "cell_type": "markdown",
   "metadata": {
    "id": "26561614-8e9b-4840-8dbf-b50131ae5314",
    "tags": []
   },
   "source": [
    "Display the first 10 rows of the data to understand how the dataset is structured."
   ]
  },
  {
   "cell_type": "code",
   "execution_count": 28,
   "metadata": {
    "id": "ad5210a5-7a64-4991-b004-de818cfaf506"
   },
   "outputs": [
    {
     "data": {
      "text/html": [
       "<div>\n",
       "<style scoped>\n",
       "    .dataframe tbody tr th:only-of-type {\n",
       "        vertical-align: middle;\n",
       "    }\n",
       "\n",
       "    .dataframe tbody tr th {\n",
       "        vertical-align: top;\n",
       "    }\n",
       "\n",
       "    .dataframe thead th {\n",
       "        text-align: right;\n",
       "    }\n",
       "</style>\n",
       "<table border=\"1\" class=\"dataframe\">\n",
       "  <thead>\n",
       "    <tr style=\"text-align: right;\">\n",
       "      <th></th>\n",
       "      <th>Company</th>\n",
       "      <th>Valuation</th>\n",
       "      <th>Date Joined</th>\n",
       "      <th>Industry</th>\n",
       "      <th>City</th>\n",
       "      <th>Country/Region</th>\n",
       "      <th>Continent</th>\n",
       "      <th>Year Founded</th>\n",
       "      <th>Funding</th>\n",
       "      <th>Select Investors</th>\n",
       "    </tr>\n",
       "  </thead>\n",
       "  <tbody>\n",
       "    <tr>\n",
       "      <th>0</th>\n",
       "      <td>Bytedance</td>\n",
       "      <td>$180B</td>\n",
       "      <td>4/7/17</td>\n",
       "      <td>Artificial intelligence</td>\n",
       "      <td>Beijing</td>\n",
       "      <td>China</td>\n",
       "      <td>Asia</td>\n",
       "      <td>2012</td>\n",
       "      <td>$8B</td>\n",
       "      <td>Sequoia Capital China, SIG Asia Investments, S...</td>\n",
       "    </tr>\n",
       "    <tr>\n",
       "      <th>1</th>\n",
       "      <td>SpaceX</td>\n",
       "      <td>$100B</td>\n",
       "      <td>12/1/12</td>\n",
       "      <td>Other</td>\n",
       "      <td>Hawthorne</td>\n",
       "      <td>United States</td>\n",
       "      <td>North America</td>\n",
       "      <td>2002</td>\n",
       "      <td>$7B</td>\n",
       "      <td>Founders Fund, Draper Fisher Jurvetson, Rothen...</td>\n",
       "    </tr>\n",
       "    <tr>\n",
       "      <th>2</th>\n",
       "      <td>SHEIN</td>\n",
       "      <td>$100B</td>\n",
       "      <td>7/3/18</td>\n",
       "      <td>E-commerce &amp; direct-to-consumer</td>\n",
       "      <td>Shenzhen</td>\n",
       "      <td>China</td>\n",
       "      <td>Asia</td>\n",
       "      <td>2008</td>\n",
       "      <td>$2B</td>\n",
       "      <td>Tiger Global Management, Sequoia Capital China...</td>\n",
       "    </tr>\n",
       "    <tr>\n",
       "      <th>3</th>\n",
       "      <td>Stripe</td>\n",
       "      <td>$95B</td>\n",
       "      <td>1/23/14</td>\n",
       "      <td>Fintech</td>\n",
       "      <td>San Francisco</td>\n",
       "      <td>United States</td>\n",
       "      <td>North America</td>\n",
       "      <td>2010</td>\n",
       "      <td>$2B</td>\n",
       "      <td>Khosla Ventures, LowercaseCapital, capitalG</td>\n",
       "    </tr>\n",
       "    <tr>\n",
       "      <th>4</th>\n",
       "      <td>Klarna</td>\n",
       "      <td>$46B</td>\n",
       "      <td>12/12/11</td>\n",
       "      <td>Fintech</td>\n",
       "      <td>Stockholm</td>\n",
       "      <td>Sweden</td>\n",
       "      <td>Europe</td>\n",
       "      <td>2005</td>\n",
       "      <td>$4B</td>\n",
       "      <td>Institutional Venture Partners, Sequoia Capita...</td>\n",
       "    </tr>\n",
       "    <tr>\n",
       "      <th>5</th>\n",
       "      <td>Canva</td>\n",
       "      <td>$40B</td>\n",
       "      <td>1/8/18</td>\n",
       "      <td>Internet software &amp; services</td>\n",
       "      <td>Surry Hills</td>\n",
       "      <td>Australia</td>\n",
       "      <td>Oceania</td>\n",
       "      <td>2012</td>\n",
       "      <td>$572M</td>\n",
       "      <td>Sequoia Capital China, Blackbird Ventures, Mat...</td>\n",
       "    </tr>\n",
       "    <tr>\n",
       "      <th>6</th>\n",
       "      <td>Checkout.com</td>\n",
       "      <td>$40B</td>\n",
       "      <td>5/2/19</td>\n",
       "      <td>Fintech</td>\n",
       "      <td>London</td>\n",
       "      <td>United Kingdom</td>\n",
       "      <td>Europe</td>\n",
       "      <td>2012</td>\n",
       "      <td>$2B</td>\n",
       "      <td>Tiger Global Management, Insight Partners, DST...</td>\n",
       "    </tr>\n",
       "    <tr>\n",
       "      <th>7</th>\n",
       "      <td>Instacart</td>\n",
       "      <td>$39B</td>\n",
       "      <td>12/30/14</td>\n",
       "      <td>Supply chain, logistics, &amp; delivery</td>\n",
       "      <td>San Francisco</td>\n",
       "      <td>United States</td>\n",
       "      <td>North America</td>\n",
       "      <td>2012</td>\n",
       "      <td>$3B</td>\n",
       "      <td>Khosla Ventures, Kleiner Perkins Caufield &amp; By...</td>\n",
       "    </tr>\n",
       "    <tr>\n",
       "      <th>8</th>\n",
       "      <td>JUUL Labs</td>\n",
       "      <td>$38B</td>\n",
       "      <td>12/20/17</td>\n",
       "      <td>Consumer &amp; retail</td>\n",
       "      <td>San Francisco</td>\n",
       "      <td>United States</td>\n",
       "      <td>North America</td>\n",
       "      <td>2015</td>\n",
       "      <td>$14B</td>\n",
       "      <td>Tiger Global Management</td>\n",
       "    </tr>\n",
       "    <tr>\n",
       "      <th>9</th>\n",
       "      <td>Databricks</td>\n",
       "      <td>$38B</td>\n",
       "      <td>2/5/19</td>\n",
       "      <td>Data management &amp; analytics</td>\n",
       "      <td>San Francisco</td>\n",
       "      <td>United States</td>\n",
       "      <td>North America</td>\n",
       "      <td>2013</td>\n",
       "      <td>$3B</td>\n",
       "      <td>Andreessen Horowitz, New Enterprise Associates...</td>\n",
       "    </tr>\n",
       "  </tbody>\n",
       "</table>\n",
       "</div>"
      ],
      "text/plain": [
       "        Company Valuation Date Joined                             Industry  \\\n",
       "0     Bytedance     $180B      4/7/17              Artificial intelligence   \n",
       "1        SpaceX     $100B     12/1/12                                Other   \n",
       "2         SHEIN     $100B      7/3/18      E-commerce & direct-to-consumer   \n",
       "3        Stripe      $95B     1/23/14                              Fintech   \n",
       "4        Klarna      $46B    12/12/11                              Fintech   \n",
       "5         Canva      $40B      1/8/18         Internet software & services   \n",
       "6  Checkout.com      $40B      5/2/19                              Fintech   \n",
       "7     Instacart      $39B    12/30/14  Supply chain, logistics, & delivery   \n",
       "8     JUUL Labs      $38B    12/20/17                    Consumer & retail   \n",
       "9    Databricks      $38B      2/5/19          Data management & analytics   \n",
       "\n",
       "            City  Country/Region      Continent  Year Founded Funding  \\\n",
       "0        Beijing           China           Asia          2012     $8B   \n",
       "1      Hawthorne   United States  North America          2002     $7B   \n",
       "2       Shenzhen           China           Asia          2008     $2B   \n",
       "3  San Francisco   United States  North America          2010     $2B   \n",
       "4      Stockholm          Sweden         Europe          2005     $4B   \n",
       "5    Surry Hills       Australia        Oceania          2012   $572M   \n",
       "6         London  United Kingdom         Europe          2012     $2B   \n",
       "7  San Francisco   United States  North America          2012     $3B   \n",
       "8  San Francisco   United States  North America          2015    $14B   \n",
       "9  San Francisco   United States  North America          2013     $3B   \n",
       "\n",
       "                                    Select Investors  \n",
       "0  Sequoia Capital China, SIG Asia Investments, S...  \n",
       "1  Founders Fund, Draper Fisher Jurvetson, Rothen...  \n",
       "2  Tiger Global Management, Sequoia Capital China...  \n",
       "3        Khosla Ventures, LowercaseCapital, capitalG  \n",
       "4  Institutional Venture Partners, Sequoia Capita...  \n",
       "5  Sequoia Capital China, Blackbird Ventures, Mat...  \n",
       "6  Tiger Global Management, Insight Partners, DST...  \n",
       "7  Khosla Ventures, Kleiner Perkins Caufield & By...  \n",
       "8                            Tiger Global Management  \n",
       "9  Andreessen Horowitz, New Enterprise Associates...  "
      ]
     },
     "execution_count": 28,
     "metadata": {},
     "output_type": "execute_result"
    }
   ],
   "source": [
    "# Display the first 10 rows of the data.\n",
    "df_companies.head(10)\n",
    "### YOUR CODE HERE ###"
   ]
  },
  {
   "cell_type": "markdown",
   "metadata": {
    "id": "55766062"
   },
   "source": [
    "### Statistical properties of the dataset"
   ]
  },
  {
   "cell_type": "markdown",
   "metadata": {
    "id": "6d423621-c14b-4987-a76d-feee76046144"
   },
   "source": [
    "Use `pandas` library to get a better sense of the data, including range, data types, mean values, and shape. \n",
    "\n",
    "Review this information about the dataset by using the `pandas` library on the `df_companies` DataFrame and answering the following questions."
   ]
  },
  {
   "cell_type": "code",
   "execution_count": 29,
   "metadata": {
    "id": "66809360"
   },
   "outputs": [
    {
     "data": {
      "text/plain": [
       "(1074, 10)"
      ]
     },
     "execution_count": 29,
     "metadata": {},
     "output_type": "execute_result"
    }
   ],
   "source": [
    "# Get the shape of the dataset.\n",
    "df_companies.shape\n",
    "### YOUR CODE HERE ###"
   ]
  },
  {
   "cell_type": "markdown",
   "metadata": {
    "id": "0f7a87f9"
   },
   "source": [
    "**Question: What is the shape of the dataset?**"
   ]
  },
  {
   "cell_type": "markdown",
   "metadata": {
    "id": "FS9XVrkhSkl1"
   },
   "source": [
    "The dataset has 1074 rows and 10 columns"
   ]
  },
  {
   "cell_type": "code",
   "execution_count": 30,
   "metadata": {
    "id": "9d85fc26"
   },
   "outputs": [
    {
     "name": "stdout",
     "output_type": "stream",
     "text": [
      "<class 'pandas.core.frame.DataFrame'>\n",
      "RangeIndex: 1074 entries, 0 to 1073\n",
      "Data columns (total 10 columns):\n",
      " #   Column            Non-Null Count  Dtype \n",
      "---  ------            --------------  ----- \n",
      " 0   Company           1074 non-null   object\n",
      " 1   Valuation         1074 non-null   object\n",
      " 2   Date Joined       1074 non-null   object\n",
      " 3   Industry          1074 non-null   object\n",
      " 4   City              1058 non-null   object\n",
      " 5   Country/Region    1074 non-null   object\n",
      " 6   Continent         1074 non-null   object\n",
      " 7   Year Founded      1074 non-null   int64 \n",
      " 8   Funding           1074 non-null   object\n",
      " 9   Select Investors  1073 non-null   object\n",
      "dtypes: int64(1), object(9)\n",
      "memory usage: 84.0+ KB\n"
     ]
    }
   ],
   "source": [
    "# Get the data types and number of non-null values in the dataset.\n",
    "df_companies.info()\n",
    "### YOUR CODE HERE ###"
   ]
  },
  {
   "cell_type": "markdown",
   "metadata": {
    "id": "m2CDG1n_IXt9"
   },
   "source": [
    "**Question: What are the data types of various columns?**\n"
   ]
  },
  {
   "cell_type": "markdown",
   "metadata": {
    "id": "su74q1ZjSoO7"
   },
   "source": [
    "Only the Year Founded column has int dtype and rest of all are str dtype"
   ]
  },
  {
   "cell_type": "markdown",
   "metadata": {
    "id": "jlp9whhwIXt9"
   },
   "source": [
    "**Question: How many columns contain non-null values less than the total rows in the dataset?**"
   ]
  },
  {
   "cell_type": "markdown",
   "metadata": {
    "id": "QHKFOOKwSqil"
   },
   "source": [
    "City and Select Investors columns contain non-null values less than the total rows in the dataset"
   ]
  },
  {
   "cell_type": "code",
   "execution_count": 31,
   "metadata": {
    "id": "sfR-1rlkIXt-"
   },
   "outputs": [
    {
     "data": {
      "text/html": [
       "<div>\n",
       "<style scoped>\n",
       "    .dataframe tbody tr th:only-of-type {\n",
       "        vertical-align: middle;\n",
       "    }\n",
       "\n",
       "    .dataframe tbody tr th {\n",
       "        vertical-align: top;\n",
       "    }\n",
       "\n",
       "    .dataframe thead th {\n",
       "        text-align: right;\n",
       "    }\n",
       "</style>\n",
       "<table border=\"1\" class=\"dataframe\">\n",
       "  <thead>\n",
       "    <tr style=\"text-align: right;\">\n",
       "      <th></th>\n",
       "      <th>Year Founded</th>\n",
       "    </tr>\n",
       "  </thead>\n",
       "  <tbody>\n",
       "    <tr>\n",
       "      <th>count</th>\n",
       "      <td>1074.000000</td>\n",
       "    </tr>\n",
       "    <tr>\n",
       "      <th>mean</th>\n",
       "      <td>2012.895717</td>\n",
       "    </tr>\n",
       "    <tr>\n",
       "      <th>std</th>\n",
       "      <td>5.698573</td>\n",
       "    </tr>\n",
       "    <tr>\n",
       "      <th>min</th>\n",
       "      <td>1919.000000</td>\n",
       "    </tr>\n",
       "    <tr>\n",
       "      <th>25%</th>\n",
       "      <td>2011.000000</td>\n",
       "    </tr>\n",
       "    <tr>\n",
       "      <th>50%</th>\n",
       "      <td>2014.000000</td>\n",
       "    </tr>\n",
       "    <tr>\n",
       "      <th>75%</th>\n",
       "      <td>2016.000000</td>\n",
       "    </tr>\n",
       "    <tr>\n",
       "      <th>max</th>\n",
       "      <td>2021.000000</td>\n",
       "    </tr>\n",
       "  </tbody>\n",
       "</table>\n",
       "</div>"
      ],
      "text/plain": [
       "       Year Founded\n",
       "count   1074.000000\n",
       "mean    2012.895717\n",
       "std        5.698573\n",
       "min     1919.000000\n",
       "25%     2011.000000\n",
       "50%     2014.000000\n",
       "75%     2016.000000\n",
       "max     2021.000000"
      ]
     },
     "execution_count": 31,
     "metadata": {},
     "output_type": "execute_result"
    }
   ],
   "source": [
    "# Get the range of different values in the dataset.\n",
    "df_companies.describe()\n",
    "### YOUR CODE HERE ###"
   ]
  },
  {
   "cell_type": "markdown",
   "metadata": {
    "id": "23f7e167"
   },
   "source": [
    "**Question: In what year was the oldest company founded?**"
   ]
  },
  {
   "cell_type": "markdown",
   "metadata": {
    "id": "wBrQSH8VSt0T"
   },
   "source": [
    "1919, which is the minimum value of the column Year Founded"
   ]
  },
  {
   "cell_type": "markdown",
   "metadata": {
    "id": "a885babf"
   },
   "source": [
    "### Data preprocessing"
   ]
  },
  {
   "cell_type": "markdown",
   "metadata": {
    "id": "f46cb991"
   },
   "source": [
    "In order to answer the investor's questions, some data preprocessing steps are required. The first step is to add the `Year Joined` column to the dataset."
   ]
  },
  {
   "cell_type": "code",
   "execution_count": 32,
   "metadata": {
    "id": "15bfeecc"
   },
   "outputs": [],
   "source": [
    "# Create a new column \"Year Joined\" from \"Date Joined\".\n",
    "df_companies['Year Joined'] = pd.to_datetime(df_companies['Date Joined']).dt.year\n",
    "### YOUR CODE HERE ###"
   ]
  },
  {
   "cell_type": "markdown",
   "metadata": {
    "id": "5949c474"
   },
   "source": [
    "Now, prepare the dataset to create a sum of valuations in each country. Currently, the `Valuation` is a string that starts with a `$` and ends with a `B`. Because this column is not in a numeric datatype, it is impossible to properly sum these values. To convert `Valuation` column to numeric, first remove the `$` and `B` symbols from the column and save the results to a new `Valuation_num` column. "
   ]
  },
  {
   "cell_type": "code",
   "execution_count": 33,
   "metadata": {
    "id": "1856c3c8-dd7e-4b0f-8e30-06e8ed6b9885"
   },
   "outputs": [],
   "source": [
    "# Remove the extra characters from the Valuation column.\n",
    "df_companies['Valuation_num'] = df_companies['Valuation'].str[1:-1]\n",
    "### YOUR CODE HERE ###"
   ]
  },
  {
   "cell_type": "code",
   "execution_count": 34,
   "metadata": {
    "id": "MwTSlqAdIXuA"
   },
   "outputs": [],
   "source": [
    "# Convert the column to numeric\n",
    "df_companies['Valuation_num'] = pd.to_numeric(df_companies['Valuation_num'])\n",
    "### YOUR CODE HERE ###"
   ]
  },
  {
   "cell_type": "markdown",
   "metadata": {
    "id": "b27ef252"
   },
   "source": [
    "### Find missing values"
   ]
  },
  {
   "cell_type": "markdown",
   "metadata": {
    "id": "9bad4e67"
   },
   "source": [
    "The unicorn companies dataset is fairly clean, with few missing values. "
   ]
  },
  {
   "cell_type": "code",
   "execution_count": 35,
   "metadata": {
    "id": "939ded7d"
   },
   "outputs": [
    {
     "data": {
      "text/plain": [
       "Company              0\n",
       "Valuation            0\n",
       "Date Joined          0\n",
       "Industry             0\n",
       "City                16\n",
       "Country/Region       0\n",
       "Continent            0\n",
       "Year Founded         0\n",
       "Funding              0\n",
       "Select Investors     1\n",
       "Year Joined          0\n",
       "Valuation_num        0\n",
       "dtype: int64"
      ]
     },
     "execution_count": 35,
     "metadata": {},
     "output_type": "execute_result"
    }
   ],
   "source": [
    "# Find the number of missing values in each column in this dataset.\n",
    "df_companies.isna().sum()\n",
    "### YOUR CODE HERE ###"
   ]
  },
  {
   "cell_type": "markdown",
   "metadata": {
    "id": "a99680f5"
   },
   "source": [
    " **Question: How many missing values are in each column in the dataset?**"
   ]
  },
  {
   "cell_type": "markdown",
   "metadata": {
    "id": "T_JQnZ5uS4Pm"
   },
   "source": [
    "There are 16 missing values in City column and one in Select Investors"
   ]
  },
  {
   "cell_type": "markdown",
   "metadata": {
    "id": "e1e91864"
   },
   "source": [
    "### Review rows with missing values"
   ]
  },
  {
   "cell_type": "markdown",
   "metadata": {
    "id": "84a779e9"
   },
   "source": [
    "Before dealing with missing values, it's important to understand the nature of the missing value that is being filled. Display all rows with missing values from `df_companies`."
   ]
  },
  {
   "cell_type": "code",
   "execution_count": 36,
   "metadata": {},
   "outputs": [
    {
     "data": {
      "text/html": [
       "<div>\n",
       "<style scoped>\n",
       "    .dataframe tbody tr th:only-of-type {\n",
       "        vertical-align: middle;\n",
       "    }\n",
       "\n",
       "    .dataframe tbody tr th {\n",
       "        vertical-align: top;\n",
       "    }\n",
       "\n",
       "    .dataframe thead th {\n",
       "        text-align: right;\n",
       "    }\n",
       "</style>\n",
       "<table border=\"1\" class=\"dataframe\">\n",
       "  <thead>\n",
       "    <tr style=\"text-align: right;\">\n",
       "      <th></th>\n",
       "      <th>Company</th>\n",
       "      <th>Valuation</th>\n",
       "      <th>Date Joined</th>\n",
       "      <th>Industry</th>\n",
       "      <th>City</th>\n",
       "      <th>Country/Region</th>\n",
       "      <th>Continent</th>\n",
       "      <th>Year Founded</th>\n",
       "      <th>Funding</th>\n",
       "      <th>Select Investors</th>\n",
       "      <th>Year Joined</th>\n",
       "      <th>Valuation_num</th>\n",
       "    </tr>\n",
       "  </thead>\n",
       "  <tbody>\n",
       "    <tr>\n",
       "      <th>12</th>\n",
       "      <td>FTX</td>\n",
       "      <td>$32B</td>\n",
       "      <td>7/20/21</td>\n",
       "      <td>Fintech</td>\n",
       "      <td>NaN</td>\n",
       "      <td>Bahamas</td>\n",
       "      <td>North America</td>\n",
       "      <td>2018</td>\n",
       "      <td>$2B</td>\n",
       "      <td>Sequoia Capital, Thoma Bravo, Softbank</td>\n",
       "      <td>2021</td>\n",
       "      <td>32</td>\n",
       "    </tr>\n",
       "    <tr>\n",
       "      <th>170</th>\n",
       "      <td>HyalRoute</td>\n",
       "      <td>$4B</td>\n",
       "      <td>5/26/20</td>\n",
       "      <td>Mobile &amp; telecommunications</td>\n",
       "      <td>NaN</td>\n",
       "      <td>Singapore</td>\n",
       "      <td>Asia</td>\n",
       "      <td>2015</td>\n",
       "      <td>$263M</td>\n",
       "      <td>Kuang-Chi</td>\n",
       "      <td>2020</td>\n",
       "      <td>4</td>\n",
       "    </tr>\n",
       "    <tr>\n",
       "      <th>242</th>\n",
       "      <td>Moglix</td>\n",
       "      <td>$3B</td>\n",
       "      <td>5/17/21</td>\n",
       "      <td>E-commerce &amp; direct-to-consumer</td>\n",
       "      <td>NaN</td>\n",
       "      <td>Singapore</td>\n",
       "      <td>Asia</td>\n",
       "      <td>2015</td>\n",
       "      <td>$471M</td>\n",
       "      <td>Jungle Ventures, Accel, Venture Highway</td>\n",
       "      <td>2021</td>\n",
       "      <td>3</td>\n",
       "    </tr>\n",
       "    <tr>\n",
       "      <th>251</th>\n",
       "      <td>Trax</td>\n",
       "      <td>$3B</td>\n",
       "      <td>7/22/19</td>\n",
       "      <td>Artificial intelligence</td>\n",
       "      <td>NaN</td>\n",
       "      <td>Singapore</td>\n",
       "      <td>Asia</td>\n",
       "      <td>2010</td>\n",
       "      <td>$1B</td>\n",
       "      <td>Hopu Investment Management, Boyu Capital, DC T...</td>\n",
       "      <td>2019</td>\n",
       "      <td>3</td>\n",
       "    </tr>\n",
       "    <tr>\n",
       "      <th>325</th>\n",
       "      <td>Amber Group</td>\n",
       "      <td>$3B</td>\n",
       "      <td>6/21/21</td>\n",
       "      <td>Fintech</td>\n",
       "      <td>NaN</td>\n",
       "      <td>Hong Kong</td>\n",
       "      <td>Asia</td>\n",
       "      <td>2015</td>\n",
       "      <td>$328M</td>\n",
       "      <td>Tiger Global Management, Tiger Brokers, DCM Ve...</td>\n",
       "      <td>2021</td>\n",
       "      <td>3</td>\n",
       "    </tr>\n",
       "    <tr>\n",
       "      <th>382</th>\n",
       "      <td>Ninja Van</td>\n",
       "      <td>$2B</td>\n",
       "      <td>9/27/21</td>\n",
       "      <td>Supply chain, logistics, &amp; delivery</td>\n",
       "      <td>NaN</td>\n",
       "      <td>Singapore</td>\n",
       "      <td>Asia</td>\n",
       "      <td>2014</td>\n",
       "      <td>$975M</td>\n",
       "      <td>B Capital Group, Monk's Hill Ventures, Dynamic...</td>\n",
       "      <td>2021</td>\n",
       "      <td>2</td>\n",
       "    </tr>\n",
       "    <tr>\n",
       "      <th>541</th>\n",
       "      <td>Advance Intelligence Group</td>\n",
       "      <td>$2B</td>\n",
       "      <td>9/23/21</td>\n",
       "      <td>Artificial intelligence</td>\n",
       "      <td>NaN</td>\n",
       "      <td>Singapore</td>\n",
       "      <td>Asia</td>\n",
       "      <td>2016</td>\n",
       "      <td>$536M</td>\n",
       "      <td>Vision Plus Capital, GSR Ventures, ZhenFund</td>\n",
       "      <td>2021</td>\n",
       "      <td>2</td>\n",
       "    </tr>\n",
       "    <tr>\n",
       "      <th>629</th>\n",
       "      <td>LinkSure Network</td>\n",
       "      <td>$1B</td>\n",
       "      <td>1/1/15</td>\n",
       "      <td>Mobile &amp; telecommunications</td>\n",
       "      <td>Shanghai</td>\n",
       "      <td>China</td>\n",
       "      <td>Asia</td>\n",
       "      <td>2013</td>\n",
       "      <td>$52M</td>\n",
       "      <td>NaN</td>\n",
       "      <td>2015</td>\n",
       "      <td>1</td>\n",
       "    </tr>\n",
       "    <tr>\n",
       "      <th>811</th>\n",
       "      <td>Carousell</td>\n",
       "      <td>$1B</td>\n",
       "      <td>9/15/21</td>\n",
       "      <td>E-commerce &amp; direct-to-consumer</td>\n",
       "      <td>NaN</td>\n",
       "      <td>Singapore</td>\n",
       "      <td>Asia</td>\n",
       "      <td>2012</td>\n",
       "      <td>$288M</td>\n",
       "      <td>500 Global, Rakuten Ventures, Golden Gate Vent...</td>\n",
       "      <td>2021</td>\n",
       "      <td>1</td>\n",
       "    </tr>\n",
       "    <tr>\n",
       "      <th>848</th>\n",
       "      <td>Matrixport</td>\n",
       "      <td>$1B</td>\n",
       "      <td>6/1/21</td>\n",
       "      <td>Fintech</td>\n",
       "      <td>NaN</td>\n",
       "      <td>Singapore</td>\n",
       "      <td>Asia</td>\n",
       "      <td>2019</td>\n",
       "      <td>$100M</td>\n",
       "      <td>Dragonfly Captial, Qiming Venture Partners, DS...</td>\n",
       "      <td>2021</td>\n",
       "      <td>1</td>\n",
       "    </tr>\n",
       "    <tr>\n",
       "      <th>880</th>\n",
       "      <td>bolttech</td>\n",
       "      <td>$1B</td>\n",
       "      <td>7/1/21</td>\n",
       "      <td>Fintech</td>\n",
       "      <td>NaN</td>\n",
       "      <td>Singapore</td>\n",
       "      <td>Asia</td>\n",
       "      <td>2018</td>\n",
       "      <td>$210M</td>\n",
       "      <td>Mundi Ventures, Doqling Capital Partners, Acti...</td>\n",
       "      <td>2021</td>\n",
       "      <td>1</td>\n",
       "    </tr>\n",
       "    <tr>\n",
       "      <th>889</th>\n",
       "      <td>Carro</td>\n",
       "      <td>$1B</td>\n",
       "      <td>6/14/21</td>\n",
       "      <td>E-commerce &amp; direct-to-consumer</td>\n",
       "      <td>NaN</td>\n",
       "      <td>Singapore</td>\n",
       "      <td>Asia</td>\n",
       "      <td>2015</td>\n",
       "      <td>$595M</td>\n",
       "      <td>SingTel Innov8, Alpha JWC Ventures, Golden Gat...</td>\n",
       "      <td>2021</td>\n",
       "      <td>1</td>\n",
       "    </tr>\n",
       "    <tr>\n",
       "      <th>893</th>\n",
       "      <td>Cider</td>\n",
       "      <td>$1B</td>\n",
       "      <td>9/2/21</td>\n",
       "      <td>E-commerce &amp; direct-to-consumer</td>\n",
       "      <td>NaN</td>\n",
       "      <td>Hong Kong</td>\n",
       "      <td>Asia</td>\n",
       "      <td>2020</td>\n",
       "      <td>$140M</td>\n",
       "      <td>Andreessen Horowitz, DST Global, IDG Capital</td>\n",
       "      <td>2021</td>\n",
       "      <td>1</td>\n",
       "    </tr>\n",
       "    <tr>\n",
       "      <th>980</th>\n",
       "      <td>NIUM</td>\n",
       "      <td>$1B</td>\n",
       "      <td>7/13/21</td>\n",
       "      <td>Fintech</td>\n",
       "      <td>NaN</td>\n",
       "      <td>Singapore</td>\n",
       "      <td>Asia</td>\n",
       "      <td>2014</td>\n",
       "      <td>$285M</td>\n",
       "      <td>Vertex Ventures SE Asia, Global Founders Capit...</td>\n",
       "      <td>2021</td>\n",
       "      <td>1</td>\n",
       "    </tr>\n",
       "    <tr>\n",
       "      <th>986</th>\n",
       "      <td>ONE</td>\n",
       "      <td>$1B</td>\n",
       "      <td>12/8/21</td>\n",
       "      <td>Internet software &amp; services</td>\n",
       "      <td>NaN</td>\n",
       "      <td>Singapore</td>\n",
       "      <td>Asia</td>\n",
       "      <td>2011</td>\n",
       "      <td>$515M</td>\n",
       "      <td>Temasek, Guggenheim Investments, Qatar Investm...</td>\n",
       "      <td>2021</td>\n",
       "      <td>1</td>\n",
       "    </tr>\n",
       "    <tr>\n",
       "      <th>994</th>\n",
       "      <td>PatSnap</td>\n",
       "      <td>$1B</td>\n",
       "      <td>3/16/21</td>\n",
       "      <td>Internet software &amp; services</td>\n",
       "      <td>NaN</td>\n",
       "      <td>Singapore</td>\n",
       "      <td>Asia</td>\n",
       "      <td>2007</td>\n",
       "      <td>$352M</td>\n",
       "      <td>Sequoia Capital China, Shunwei Capital Partner...</td>\n",
       "      <td>2021</td>\n",
       "      <td>1</td>\n",
       "    </tr>\n",
       "    <tr>\n",
       "      <th>1061</th>\n",
       "      <td>WeLab</td>\n",
       "      <td>$1B</td>\n",
       "      <td>11/8/17</td>\n",
       "      <td>Fintech</td>\n",
       "      <td>NaN</td>\n",
       "      <td>Hong Kong</td>\n",
       "      <td>Asia</td>\n",
       "      <td>2013</td>\n",
       "      <td>$871M</td>\n",
       "      <td>Sequoia Capital China, ING, Alibaba Entreprene...</td>\n",
       "      <td>2017</td>\n",
       "      <td>1</td>\n",
       "    </tr>\n",
       "  </tbody>\n",
       "</table>\n",
       "</div>"
      ],
      "text/plain": [
       "                         Company Valuation Date Joined  \\\n",
       "12                           FTX      $32B     7/20/21   \n",
       "170                    HyalRoute       $4B     5/26/20   \n",
       "242                       Moglix       $3B     5/17/21   \n",
       "251                         Trax       $3B     7/22/19   \n",
       "325                  Amber Group       $3B     6/21/21   \n",
       "382                    Ninja Van       $2B     9/27/21   \n",
       "541   Advance Intelligence Group       $2B     9/23/21   \n",
       "629             LinkSure Network       $1B      1/1/15   \n",
       "811                    Carousell       $1B     9/15/21   \n",
       "848                   Matrixport       $1B      6/1/21   \n",
       "880                     bolttech       $1B      7/1/21   \n",
       "889                        Carro       $1B     6/14/21   \n",
       "893                        Cider       $1B      9/2/21   \n",
       "980                         NIUM       $1B     7/13/21   \n",
       "986                          ONE       $1B     12/8/21   \n",
       "994                      PatSnap       $1B     3/16/21   \n",
       "1061                       WeLab       $1B     11/8/17   \n",
       "\n",
       "                                 Industry      City Country/Region  \\\n",
       "12                                Fintech       NaN        Bahamas   \n",
       "170           Mobile & telecommunications       NaN      Singapore   \n",
       "242       E-commerce & direct-to-consumer       NaN      Singapore   \n",
       "251               Artificial intelligence       NaN      Singapore   \n",
       "325                               Fintech       NaN      Hong Kong   \n",
       "382   Supply chain, logistics, & delivery       NaN      Singapore   \n",
       "541               Artificial intelligence       NaN      Singapore   \n",
       "629           Mobile & telecommunications  Shanghai          China   \n",
       "811       E-commerce & direct-to-consumer       NaN      Singapore   \n",
       "848                               Fintech       NaN      Singapore   \n",
       "880                               Fintech       NaN      Singapore   \n",
       "889       E-commerce & direct-to-consumer       NaN      Singapore   \n",
       "893       E-commerce & direct-to-consumer       NaN      Hong Kong   \n",
       "980                               Fintech       NaN      Singapore   \n",
       "986          Internet software & services       NaN      Singapore   \n",
       "994          Internet software & services       NaN      Singapore   \n",
       "1061                              Fintech       NaN      Hong Kong   \n",
       "\n",
       "          Continent  Year Founded Funding  \\\n",
       "12    North America          2018     $2B   \n",
       "170            Asia          2015   $263M   \n",
       "242            Asia          2015   $471M   \n",
       "251            Asia          2010     $1B   \n",
       "325            Asia          2015   $328M   \n",
       "382            Asia          2014   $975M   \n",
       "541            Asia          2016   $536M   \n",
       "629            Asia          2013    $52M   \n",
       "811            Asia          2012   $288M   \n",
       "848            Asia          2019   $100M   \n",
       "880            Asia          2018   $210M   \n",
       "889            Asia          2015   $595M   \n",
       "893            Asia          2020   $140M   \n",
       "980            Asia          2014   $285M   \n",
       "986            Asia          2011   $515M   \n",
       "994            Asia          2007   $352M   \n",
       "1061           Asia          2013   $871M   \n",
       "\n",
       "                                       Select Investors  Year Joined  \\\n",
       "12               Sequoia Capital, Thoma Bravo, Softbank         2021   \n",
       "170                                           Kuang-Chi         2020   \n",
       "242             Jungle Ventures, Accel, Venture Highway         2021   \n",
       "251   Hopu Investment Management, Boyu Capital, DC T...         2019   \n",
       "325   Tiger Global Management, Tiger Brokers, DCM Ve...         2021   \n",
       "382   B Capital Group, Monk's Hill Ventures, Dynamic...         2021   \n",
       "541         Vision Plus Capital, GSR Ventures, ZhenFund         2021   \n",
       "629                                                 NaN         2015   \n",
       "811   500 Global, Rakuten Ventures, Golden Gate Vent...         2021   \n",
       "848   Dragonfly Captial, Qiming Venture Partners, DS...         2021   \n",
       "880   Mundi Ventures, Doqling Capital Partners, Acti...         2021   \n",
       "889   SingTel Innov8, Alpha JWC Ventures, Golden Gat...         2021   \n",
       "893        Andreessen Horowitz, DST Global, IDG Capital         2021   \n",
       "980   Vertex Ventures SE Asia, Global Founders Capit...         2021   \n",
       "986   Temasek, Guggenheim Investments, Qatar Investm...         2021   \n",
       "994   Sequoia Capital China, Shunwei Capital Partner...         2021   \n",
       "1061  Sequoia Capital China, ING, Alibaba Entreprene...         2017   \n",
       "\n",
       "      Valuation_num  \n",
       "12               32  \n",
       "170               4  \n",
       "242               3  \n",
       "251               3  \n",
       "325               3  \n",
       "382               2  \n",
       "541               2  \n",
       "629               1  \n",
       "811               1  \n",
       "848               1  \n",
       "880               1  \n",
       "889               1  \n",
       "893               1  \n",
       "980               1  \n",
       "986               1  \n",
       "994               1  \n",
       "1061              1  "
      ]
     },
     "execution_count": 36,
     "metadata": {},
     "output_type": "execute_result"
    }
   ],
   "source": [
    "# Filter the DataFrame to only include rows with at least one missing value.\n",
    "# Assign the filtered results to a variable named \"df_rows_missing\" and display the contents of the variable.\n",
    "df_rows_missing = df_companies[df_companies.isna().any(axis=1)]\n",
    "### YOUR CODE HERE ###\n",
    "df_rows_missing"
   ]
  },
  {
   "cell_type": "markdown",
   "metadata": {
    "id": "d267da5d"
   },
   "source": [
    "**Question: Which column has the most data missing?**"
   ]
  },
  {
   "cell_type": "markdown",
   "metadata": {
    "id": "I6Wfa6A0TB1r"
   },
   "source": [
    "City column"
   ]
  },
  {
   "cell_type": "markdown",
   "metadata": {
    "id": "34021f9c"
   },
   "source": [
    "### Context-specific missing values"
   ]
  },
  {
   "cell_type": "markdown",
   "metadata": {
    "id": "1b7ff426"
   },
   "source": [
    "Sometimes, there may be other types of values that are considered missing, such as empty strings and `-1`, `0`, `NaN`, and `NA`. Using one representation for all these missing values is beneficial. Replace any missing values in the dataset with `np.nan`, accessed from the `numpy` library, to simplify the missing values imputation process. \n",
    "\n",
    "\n",
    "Without replacing the original DataFrame, replace 'Asia' with `np.nan`. Then, find the number of missing values in the dataset.\n"
   ]
  },
  {
   "cell_type": "code",
   "execution_count": 37,
   "metadata": {
    "id": "cd63abb1"
   },
   "outputs": [
    {
     "data": {
      "text/plain": [
       "Company               0\n",
       "Valuation             0\n",
       "Date Joined           0\n",
       "Industry              0\n",
       "City                 16\n",
       "Country/Region        0\n",
       "Continent           310\n",
       "Year Founded          0\n",
       "Funding               0\n",
       "Select Investors      1\n",
       "Year Joined           0\n",
       "Valuation_num         0\n",
       "dtype: int64"
      ]
     },
     "execution_count": 37,
     "metadata": {},
     "output_type": "execute_result"
    }
   ],
   "source": [
    "# Find the number of missing values after replacing 'Asia' with `np.nan`.\n",
    "df_companies.replace('Asia', np.nan).isna().sum()\n",
    "### YOUR CODE HERE ###"
   ]
  },
  {
   "cell_type": "markdown",
   "metadata": {
    "id": "bb93f8fb"
   },
   "source": [
    "**Question: How many values went missing after changing 'Asia' with `np.nan`?**\n"
   ]
  },
  {
   "cell_type": "markdown",
   "metadata": {
    "id": "U4qVEZgBTGp9"
   },
   "source": [
    "310 rows now contain missing values"
   ]
  },
  {
   "cell_type": "markdown",
   "metadata": {
    "id": "sXXdMlYmjcDr"
   },
   "source": [
    "**Question: What steps did you take to find missing data?**"
   ]
  },
  {
   "cell_type": "markdown",
   "metadata": {
    "id": "QyXPsATlTItn"
   },
   "source": [
    "isna()"
   ]
  },
  {
   "cell_type": "markdown",
   "metadata": {
    "id": "bc2d9f17"
   },
   "source": [
    "## Step 3: Model building\n",
    "\n",
    "Think of the model you are building as the completed dataset, which you will then use to inform the questions the investor has asked of you.  "
   ]
  },
  {
   "cell_type": "markdown",
   "metadata": {
    "id": "7048a99e"
   },
   "source": [
    "### Two ways to address missing values\n",
    "\n",
    "There are several ways to address missing values, which is critical in EDA. The two primary methods are removing them and missing values imputation. Choosing the proper method depends on the business problem and the value the solution will add or take away from the dataset.\n",
    "\n",
    "Here, you will try both. "
   ]
  },
  {
   "cell_type": "markdown",
   "metadata": {
    "id": "2943c32a"
   },
   "source": [
    "To compare the the effect of different actions, first store the original number of values in a variable."
   ]
  },
  {
   "cell_type": "code",
   "execution_count": 38,
   "metadata": {
    "id": "e122aeff"
   },
   "outputs": [],
   "source": [
    "# Store the total number of values in a variable.\n",
    "count_total = df_companies.size\n",
    "### YOUR CODE HERE ###"
   ]
  },
  {
   "cell_type": "markdown",
   "metadata": {
    "id": "e271488d"
   },
   "source": [
    "Now, remove the missing values and count the total number of values in the dataset. Remove all rows containing missing values and store the total number of cells in a variable called `count_dropna_rows`."
   ]
  },
  {
   "cell_type": "code",
   "execution_count": 39,
   "metadata": {
    "id": "2ae0744f"
   },
   "outputs": [],
   "source": [
    "# Drop the rows containing missing values. \n",
    "count_dropna_rows = df_companies.dropna().size\n",
    "### YOUR CODE HERE ###"
   ]
  },
  {
   "cell_type": "markdown",
   "metadata": {
    "id": "CTr82QQCIXuE"
   },
   "source": [
    "Now, remove all columns containing missing values and store the total number of cells in a variable called `count_dropna_columns`."
   ]
  },
  {
   "cell_type": "code",
   "execution_count": 40,
   "metadata": {
    "id": "bc5121ec"
   },
   "outputs": [],
   "source": [
    "# Drop the columns containing missing values.\n",
    "count_dropna_columns = df_companies.dropna(axis=1).size\n",
    "### YOUR CODE HERE ###"
   ]
  },
  {
   "cell_type": "markdown",
   "metadata": {
    "id": "254d4291"
   },
   "source": [
    "Next, print the percentage of values removed by each method and compare them."
   ]
  },
  {
   "cell_type": "code",
   "execution_count": 41,
   "metadata": {
    "id": "ad03cabf"
   },
   "outputs": [
    {
     "name": "stdout",
     "output_type": "stream",
     "text": [
      "98.4171322160149\n",
      "83.33333333333334\n"
     ]
    }
   ],
   "source": [
    "# Print the percentage of values removed by dropping rows.\n",
    "print(count_dropna_rows/count_total*100)\n",
    "### YOUR CODE HERE ###\n",
    "print(count_dropna_columns/count_total*100)\n",
    "# Print the percentage of values removed by dropping columns.\n",
    "\n",
    "### YOUR CODE HERE ###"
   ]
  },
  {
   "cell_type": "markdown",
   "metadata": {
    "id": "VE3No7W2Wr3w"
   },
   "source": [
    "**Question: Which method was most effective? Why?**"
   ]
  },
  {
   "cell_type": "markdown",
   "metadata": {
    "id": "d5vE0ZTITXqr"
   },
   "source": [
    "Percentage removed was higher for columns than rows, so columns method would be more effective at removing more values"
   ]
  },
  {
   "cell_type": "markdown",
   "metadata": {},
   "source": [
    "Try the second method: imputation. Begin by filling missing values using the backfill method. Then, show the rows that previously had missing values."
   ]
  },
  {
   "cell_type": "code",
   "execution_count": 42,
   "metadata": {
    "id": "c16ebc56"
   },
   "outputs": [
    {
     "data": {
      "text/html": [
       "<div>\n",
       "<style scoped>\n",
       "    .dataframe tbody tr th:only-of-type {\n",
       "        vertical-align: middle;\n",
       "    }\n",
       "\n",
       "    .dataframe tbody tr th {\n",
       "        vertical-align: top;\n",
       "    }\n",
       "\n",
       "    .dataframe thead th {\n",
       "        text-align: right;\n",
       "    }\n",
       "</style>\n",
       "<table border=\"1\" class=\"dataframe\">\n",
       "  <thead>\n",
       "    <tr style=\"text-align: right;\">\n",
       "      <th></th>\n",
       "      <th>Company</th>\n",
       "      <th>Valuation</th>\n",
       "      <th>Date Joined</th>\n",
       "      <th>Industry</th>\n",
       "      <th>City</th>\n",
       "      <th>Country/Region</th>\n",
       "      <th>Continent</th>\n",
       "      <th>Year Founded</th>\n",
       "      <th>Funding</th>\n",
       "      <th>Select Investors</th>\n",
       "      <th>Year Joined</th>\n",
       "      <th>Valuation_num</th>\n",
       "    </tr>\n",
       "  </thead>\n",
       "  <tbody>\n",
       "    <tr>\n",
       "      <th>12</th>\n",
       "      <td>FTX</td>\n",
       "      <td>$32B</td>\n",
       "      <td>7/20/21</td>\n",
       "      <td>Fintech</td>\n",
       "      <td>Jacksonville</td>\n",
       "      <td>Bahamas</td>\n",
       "      <td>North America</td>\n",
       "      <td>2018</td>\n",
       "      <td>$2B</td>\n",
       "      <td>Sequoia Capital, Thoma Bravo, Softbank</td>\n",
       "      <td>2021</td>\n",
       "      <td>32</td>\n",
       "    </tr>\n",
       "    <tr>\n",
       "      <th>170</th>\n",
       "      <td>HyalRoute</td>\n",
       "      <td>$4B</td>\n",
       "      <td>5/26/20</td>\n",
       "      <td>Mobile &amp; telecommunications</td>\n",
       "      <td>El Segundo</td>\n",
       "      <td>Singapore</td>\n",
       "      <td>Asia</td>\n",
       "      <td>2015</td>\n",
       "      <td>$263M</td>\n",
       "      <td>Kuang-Chi</td>\n",
       "      <td>2020</td>\n",
       "      <td>4</td>\n",
       "    </tr>\n",
       "    <tr>\n",
       "      <th>242</th>\n",
       "      <td>Moglix</td>\n",
       "      <td>$3B</td>\n",
       "      <td>5/17/21</td>\n",
       "      <td>E-commerce &amp; direct-to-consumer</td>\n",
       "      <td>San Francisco</td>\n",
       "      <td>Singapore</td>\n",
       "      <td>Asia</td>\n",
       "      <td>2015</td>\n",
       "      <td>$471M</td>\n",
       "      <td>Jungle Ventures, Accel, Venture Highway</td>\n",
       "      <td>2021</td>\n",
       "      <td>3</td>\n",
       "    </tr>\n",
       "    <tr>\n",
       "      <th>251</th>\n",
       "      <td>Trax</td>\n",
       "      <td>$3B</td>\n",
       "      <td>7/22/19</td>\n",
       "      <td>Artificial intelligence</td>\n",
       "      <td>Amsterdam</td>\n",
       "      <td>Singapore</td>\n",
       "      <td>Asia</td>\n",
       "      <td>2010</td>\n",
       "      <td>$1B</td>\n",
       "      <td>Hopu Investment Management, Boyu Capital, DC T...</td>\n",
       "      <td>2019</td>\n",
       "      <td>3</td>\n",
       "    </tr>\n",
       "    <tr>\n",
       "      <th>325</th>\n",
       "      <td>Amber Group</td>\n",
       "      <td>$3B</td>\n",
       "      <td>6/21/21</td>\n",
       "      <td>Fintech</td>\n",
       "      <td>San Francisco</td>\n",
       "      <td>Hong Kong</td>\n",
       "      <td>Asia</td>\n",
       "      <td>2015</td>\n",
       "      <td>$328M</td>\n",
       "      <td>Tiger Global Management, Tiger Brokers, DCM Ve...</td>\n",
       "      <td>2021</td>\n",
       "      <td>3</td>\n",
       "    </tr>\n",
       "    <tr>\n",
       "      <th>382</th>\n",
       "      <td>Ninja Van</td>\n",
       "      <td>$2B</td>\n",
       "      <td>9/27/21</td>\n",
       "      <td>Supply chain, logistics, &amp; delivery</td>\n",
       "      <td>San Francisco</td>\n",
       "      <td>Singapore</td>\n",
       "      <td>Asia</td>\n",
       "      <td>2014</td>\n",
       "      <td>$975M</td>\n",
       "      <td>B Capital Group, Monk's Hill Ventures, Dynamic...</td>\n",
       "      <td>2021</td>\n",
       "      <td>2</td>\n",
       "    </tr>\n",
       "    <tr>\n",
       "      <th>541</th>\n",
       "      <td>Advance Intelligence Group</td>\n",
       "      <td>$2B</td>\n",
       "      <td>9/23/21</td>\n",
       "      <td>Artificial intelligence</td>\n",
       "      <td>Helsinki</td>\n",
       "      <td>Singapore</td>\n",
       "      <td>Asia</td>\n",
       "      <td>2016</td>\n",
       "      <td>$536M</td>\n",
       "      <td>Vision Plus Capital, GSR Ventures, ZhenFund</td>\n",
       "      <td>2021</td>\n",
       "      <td>2</td>\n",
       "    </tr>\n",
       "    <tr>\n",
       "      <th>629</th>\n",
       "      <td>LinkSure Network</td>\n",
       "      <td>$1B</td>\n",
       "      <td>1/1/15</td>\n",
       "      <td>Mobile &amp; telecommunications</td>\n",
       "      <td>Shanghai</td>\n",
       "      <td>China</td>\n",
       "      <td>Asia</td>\n",
       "      <td>2013</td>\n",
       "      <td>$52M</td>\n",
       "      <td>Sequoia Capital India, The Times Group, GMO Ve...</td>\n",
       "      <td>2015</td>\n",
       "      <td>1</td>\n",
       "    </tr>\n",
       "    <tr>\n",
       "      <th>811</th>\n",
       "      <td>Carousell</td>\n",
       "      <td>$1B</td>\n",
       "      <td>9/15/21</td>\n",
       "      <td>E-commerce &amp; direct-to-consumer</td>\n",
       "      <td>New York</td>\n",
       "      <td>Singapore</td>\n",
       "      <td>Asia</td>\n",
       "      <td>2012</td>\n",
       "      <td>$288M</td>\n",
       "      <td>500 Global, Rakuten Ventures, Golden Gate Vent...</td>\n",
       "      <td>2021</td>\n",
       "      <td>1</td>\n",
       "    </tr>\n",
       "    <tr>\n",
       "      <th>848</th>\n",
       "      <td>Matrixport</td>\n",
       "      <td>$1B</td>\n",
       "      <td>6/1/21</td>\n",
       "      <td>Fintech</td>\n",
       "      <td>San Francisco</td>\n",
       "      <td>Singapore</td>\n",
       "      <td>Asia</td>\n",
       "      <td>2019</td>\n",
       "      <td>$100M</td>\n",
       "      <td>Dragonfly Captial, Qiming Venture Partners, DS...</td>\n",
       "      <td>2021</td>\n",
       "      <td>1</td>\n",
       "    </tr>\n",
       "    <tr>\n",
       "      <th>880</th>\n",
       "      <td>bolttech</td>\n",
       "      <td>$1B</td>\n",
       "      <td>7/1/21</td>\n",
       "      <td>Fintech</td>\n",
       "      <td>Englewood</td>\n",
       "      <td>Singapore</td>\n",
       "      <td>Asia</td>\n",
       "      <td>2018</td>\n",
       "      <td>$210M</td>\n",
       "      <td>Mundi Ventures, Doqling Capital Partners, Acti...</td>\n",
       "      <td>2021</td>\n",
       "      <td>1</td>\n",
       "    </tr>\n",
       "    <tr>\n",
       "      <th>889</th>\n",
       "      <td>Carro</td>\n",
       "      <td>$1B</td>\n",
       "      <td>6/14/21</td>\n",
       "      <td>E-commerce &amp; direct-to-consumer</td>\n",
       "      <td>Lincoln</td>\n",
       "      <td>Singapore</td>\n",
       "      <td>Asia</td>\n",
       "      <td>2015</td>\n",
       "      <td>$595M</td>\n",
       "      <td>SingTel Innov8, Alpha JWC Ventures, Golden Gat...</td>\n",
       "      <td>2021</td>\n",
       "      <td>1</td>\n",
       "    </tr>\n",
       "    <tr>\n",
       "      <th>893</th>\n",
       "      <td>Cider</td>\n",
       "      <td>$1B</td>\n",
       "      <td>9/2/21</td>\n",
       "      <td>E-commerce &amp; direct-to-consumer</td>\n",
       "      <td>Mexico City</td>\n",
       "      <td>Hong Kong</td>\n",
       "      <td>Asia</td>\n",
       "      <td>2020</td>\n",
       "      <td>$140M</td>\n",
       "      <td>Andreessen Horowitz, DST Global, IDG Capital</td>\n",
       "      <td>2021</td>\n",
       "      <td>1</td>\n",
       "    </tr>\n",
       "    <tr>\n",
       "      <th>980</th>\n",
       "      <td>NIUM</td>\n",
       "      <td>$1B</td>\n",
       "      <td>7/13/21</td>\n",
       "      <td>Fintech</td>\n",
       "      <td>Bengaluru</td>\n",
       "      <td>Singapore</td>\n",
       "      <td>Asia</td>\n",
       "      <td>2014</td>\n",
       "      <td>$285M</td>\n",
       "      <td>Vertex Ventures SE Asia, Global Founders Capit...</td>\n",
       "      <td>2021</td>\n",
       "      <td>1</td>\n",
       "    </tr>\n",
       "    <tr>\n",
       "      <th>986</th>\n",
       "      <td>ONE</td>\n",
       "      <td>$1B</td>\n",
       "      <td>12/8/21</td>\n",
       "      <td>Internet software &amp; services</td>\n",
       "      <td>New York</td>\n",
       "      <td>Singapore</td>\n",
       "      <td>Asia</td>\n",
       "      <td>2011</td>\n",
       "      <td>$515M</td>\n",
       "      <td>Temasek, Guggenheim Investments, Qatar Investm...</td>\n",
       "      <td>2021</td>\n",
       "      <td>1</td>\n",
       "    </tr>\n",
       "    <tr>\n",
       "      <th>994</th>\n",
       "      <td>PatSnap</td>\n",
       "      <td>$1B</td>\n",
       "      <td>3/16/21</td>\n",
       "      <td>Internet software &amp; services</td>\n",
       "      <td>London</td>\n",
       "      <td>Singapore</td>\n",
       "      <td>Asia</td>\n",
       "      <td>2007</td>\n",
       "      <td>$352M</td>\n",
       "      <td>Sequoia Capital China, Shunwei Capital Partner...</td>\n",
       "      <td>2021</td>\n",
       "      <td>1</td>\n",
       "    </tr>\n",
       "    <tr>\n",
       "      <th>1061</th>\n",
       "      <td>WeLab</td>\n",
       "      <td>$1B</td>\n",
       "      <td>11/8/17</td>\n",
       "      <td>Fintech</td>\n",
       "      <td>Beijing</td>\n",
       "      <td>Hong Kong</td>\n",
       "      <td>Asia</td>\n",
       "      <td>2013</td>\n",
       "      <td>$871M</td>\n",
       "      <td>Sequoia Capital China, ING, Alibaba Entreprene...</td>\n",
       "      <td>2017</td>\n",
       "      <td>1</td>\n",
       "    </tr>\n",
       "  </tbody>\n",
       "</table>\n",
       "</div>"
      ],
      "text/plain": [
       "                         Company Valuation Date Joined  \\\n",
       "12                           FTX      $32B     7/20/21   \n",
       "170                    HyalRoute       $4B     5/26/20   \n",
       "242                       Moglix       $3B     5/17/21   \n",
       "251                         Trax       $3B     7/22/19   \n",
       "325                  Amber Group       $3B     6/21/21   \n",
       "382                    Ninja Van       $2B     9/27/21   \n",
       "541   Advance Intelligence Group       $2B     9/23/21   \n",
       "629             LinkSure Network       $1B      1/1/15   \n",
       "811                    Carousell       $1B     9/15/21   \n",
       "848                   Matrixport       $1B      6/1/21   \n",
       "880                     bolttech       $1B      7/1/21   \n",
       "889                        Carro       $1B     6/14/21   \n",
       "893                        Cider       $1B      9/2/21   \n",
       "980                         NIUM       $1B     7/13/21   \n",
       "986                          ONE       $1B     12/8/21   \n",
       "994                      PatSnap       $1B     3/16/21   \n",
       "1061                       WeLab       $1B     11/8/17   \n",
       "\n",
       "                                 Industry           City Country/Region  \\\n",
       "12                                Fintech   Jacksonville        Bahamas   \n",
       "170           Mobile & telecommunications     El Segundo      Singapore   \n",
       "242       E-commerce & direct-to-consumer  San Francisco      Singapore   \n",
       "251               Artificial intelligence      Amsterdam      Singapore   \n",
       "325                               Fintech  San Francisco      Hong Kong   \n",
       "382   Supply chain, logistics, & delivery  San Francisco      Singapore   \n",
       "541               Artificial intelligence       Helsinki      Singapore   \n",
       "629           Mobile & telecommunications       Shanghai          China   \n",
       "811       E-commerce & direct-to-consumer       New York      Singapore   \n",
       "848                               Fintech  San Francisco      Singapore   \n",
       "880                               Fintech      Englewood      Singapore   \n",
       "889       E-commerce & direct-to-consumer        Lincoln      Singapore   \n",
       "893       E-commerce & direct-to-consumer    Mexico City      Hong Kong   \n",
       "980                               Fintech      Bengaluru      Singapore   \n",
       "986          Internet software & services       New York      Singapore   \n",
       "994          Internet software & services         London      Singapore   \n",
       "1061                              Fintech        Beijing      Hong Kong   \n",
       "\n",
       "          Continent  Year Founded Funding  \\\n",
       "12    North America          2018     $2B   \n",
       "170            Asia          2015   $263M   \n",
       "242            Asia          2015   $471M   \n",
       "251            Asia          2010     $1B   \n",
       "325            Asia          2015   $328M   \n",
       "382            Asia          2014   $975M   \n",
       "541            Asia          2016   $536M   \n",
       "629            Asia          2013    $52M   \n",
       "811            Asia          2012   $288M   \n",
       "848            Asia          2019   $100M   \n",
       "880            Asia          2018   $210M   \n",
       "889            Asia          2015   $595M   \n",
       "893            Asia          2020   $140M   \n",
       "980            Asia          2014   $285M   \n",
       "986            Asia          2011   $515M   \n",
       "994            Asia          2007   $352M   \n",
       "1061           Asia          2013   $871M   \n",
       "\n",
       "                                       Select Investors  Year Joined  \\\n",
       "12               Sequoia Capital, Thoma Bravo, Softbank         2021   \n",
       "170                                           Kuang-Chi         2020   \n",
       "242             Jungle Ventures, Accel, Venture Highway         2021   \n",
       "251   Hopu Investment Management, Boyu Capital, DC T...         2019   \n",
       "325   Tiger Global Management, Tiger Brokers, DCM Ve...         2021   \n",
       "382   B Capital Group, Monk's Hill Ventures, Dynamic...         2021   \n",
       "541         Vision Plus Capital, GSR Ventures, ZhenFund         2021   \n",
       "629   Sequoia Capital India, The Times Group, GMO Ve...         2015   \n",
       "811   500 Global, Rakuten Ventures, Golden Gate Vent...         2021   \n",
       "848   Dragonfly Captial, Qiming Venture Partners, DS...         2021   \n",
       "880   Mundi Ventures, Doqling Capital Partners, Acti...         2021   \n",
       "889   SingTel Innov8, Alpha JWC Ventures, Golden Gat...         2021   \n",
       "893        Andreessen Horowitz, DST Global, IDG Capital         2021   \n",
       "980   Vertex Ventures SE Asia, Global Founders Capit...         2021   \n",
       "986   Temasek, Guggenheim Investments, Qatar Investm...         2021   \n",
       "994   Sequoia Capital China, Shunwei Capital Partner...         2021   \n",
       "1061  Sequoia Capital China, ING, Alibaba Entreprene...         2017   \n",
       "\n",
       "      Valuation_num  \n",
       "12               32  \n",
       "170               4  \n",
       "242               3  \n",
       "251               3  \n",
       "325               3  \n",
       "382               2  \n",
       "541               2  \n",
       "629               1  \n",
       "811               1  \n",
       "848               1  \n",
       "880               1  \n",
       "889               1  \n",
       "893               1  \n",
       "980               1  \n",
       "986               1  \n",
       "994               1  \n",
       "1061              1  "
      ]
     },
     "execution_count": 42,
     "metadata": {},
     "output_type": "execute_result"
    }
   ],
   "source": [
    "# Fill missing values using 'backfill' method.\n",
    "df_companies_backfill=df_companies.fillna(method='backfill')\n",
    "### YOUR CODE HERE ###\n",
    "\n",
    "# Showing the rows that previously had missing values.\n",
    "df_companies_backfill.loc[df_rows_missing.index]\n",
    "### YOUR CODE HERE ###"
   ]
  },
  {
   "cell_type": "markdown",
   "metadata": {
    "id": "2a0fab88"
   },
   "source": [
    "**Question: Do the values that were used to fill in for the missing values make sense?**"
   ]
  },
  {
   "cell_type": "markdown",
   "metadata": {
    "id": "LdLspa5oTc2a"
   },
   "source": [
    "No, the cities and countries do not match"
   ]
  },
  {
   "cell_type": "markdown",
   "metadata": {
    "id": "4fd78ecf"
   },
   "source": [
    "Another option is to fill the values with a certain value, such as 'Unknown'. However, doing so doesn’t add any value to the dataset and could make finding the missing values difficult in the future. Reviewing the missing values in this dataset determines that it is fine to leave the values as they are. This also avoids adding bias to the dataset."
   ]
  },
  {
   "cell_type": "markdown",
   "metadata": {
    "id": "f09108ed"
   },
   "source": [
    "## Step 4: Results and evaluation"
   ]
  },
  {
   "cell_type": "markdown",
   "metadata": {
    "id": "2ff21c18"
   },
   "source": [
    "Now that you've addressed your missing values, provide your investor with their requested data points."
   ]
  },
  {
   "cell_type": "markdown",
   "metadata": {
    "id": "54438f3c"
   },
   "source": [
    "### Companies in the `Hardware` Industry\n",
    "Your investor is interested in identifying unicorn companies in the `Hardware` industry and one of the following cities: `Beijing`, `San Francisco`, and `London`. They are also interested in companies in the `artificial intelligence` industry in `London`. This information is provided in the following DataFrame. \n",
    "\n",
    "You have learned that the `pandas` library can be used to `merge()` DataFrames. Merging is useful when two or more DataFrames with similar columns exist that can be combined to create new DataFrames. \n",
    "\n",
    "Complete the code by merging this DataFrame with `df_companies` DataFrame and create a new DataFrame called `df_invest`.\n"
   ]
  },
  {
   "cell_type": "code",
   "execution_count": 43,
   "metadata": {
    "id": "HTcm42EMIXuG"
   },
   "outputs": [
    {
     "name": "stdout",
     "output_type": "stream",
     "text": [
      "            City                 Industry              Company\n",
      "0        Beijing                 Hardware              Bitmain\n",
      "1        Beijing                 Hardware              Chipone\n",
      "2        Beijing                 Hardware                Geek+\n",
      "3        Beijing                 Hardware  TERMINUS Technology\n",
      "4  San Francisco                 Hardware              Density\n",
      "5         London  Artificial intelligence         BenevolentAI\n",
      "6         London  Artificial intelligence            Tractable\n",
      "7         London                 Hardware        Global Switch\n"
     ]
    }
   ],
   "source": [
    "# Investing search criteria provided as a DataFrame.\n",
    "\n",
    "### YOUR CODE HERE ###\n",
    "\n",
    "df_search=pd.DataFrame({\n",
    "        'City':['Beijing', 'San Francisco', 'London', 'London'],\n",
    "        'Industry':['Hardware', 'Hardware', 'Artificial intelligence', 'Hardware']\n",
    "        })\n",
    "\n",
    "df_invest=df_search.merge(df_companies, on=['City', 'Industry'])\n",
    "\n",
    "print(df_invest[['City', 'Industry', 'Company']])"
   ]
  },
  {
   "cell_type": "markdown",
   "metadata": {
    "id": "5446b7aa"
   },
   "source": [
    "### List of countries by sum of valuation"
   ]
  },
  {
   "cell_type": "markdown",
   "metadata": {
    "id": "5606ef21"
   },
   "source": [
    "Group the data by `Country/Region` and sort them by the sum of 'Valuation_num' column. "
   ]
  },
  {
   "cell_type": "code",
   "execution_count": 44,
   "metadata": {
    "id": "097dfa19"
   },
   "outputs": [
    {
     "data": {
      "text/html": [
       "<div>\n",
       "<style scoped>\n",
       "    .dataframe tbody tr th:only-of-type {\n",
       "        vertical-align: middle;\n",
       "    }\n",
       "\n",
       "    .dataframe tbody tr th {\n",
       "        vertical-align: top;\n",
       "    }\n",
       "\n",
       "    .dataframe thead th {\n",
       "        text-align: right;\n",
       "    }\n",
       "</style>\n",
       "<table border=\"1\" class=\"dataframe\">\n",
       "  <thead>\n",
       "    <tr style=\"text-align: right;\">\n",
       "      <th></th>\n",
       "      <th>Country/Region</th>\n",
       "      <th>Valuation_num</th>\n",
       "    </tr>\n",
       "  </thead>\n",
       "  <tbody>\n",
       "    <tr>\n",
       "      <th>0</th>\n",
       "      <td>United States</td>\n",
       "      <td>1933</td>\n",
       "    </tr>\n",
       "    <tr>\n",
       "      <th>1</th>\n",
       "      <td>China</td>\n",
       "      <td>696</td>\n",
       "    </tr>\n",
       "    <tr>\n",
       "      <th>2</th>\n",
       "      <td>India</td>\n",
       "      <td>196</td>\n",
       "    </tr>\n",
       "    <tr>\n",
       "      <th>3</th>\n",
       "      <td>United Kingdom</td>\n",
       "      <td>195</td>\n",
       "    </tr>\n",
       "    <tr>\n",
       "      <th>4</th>\n",
       "      <td>Germany</td>\n",
       "      <td>72</td>\n",
       "    </tr>\n",
       "    <tr>\n",
       "      <th>5</th>\n",
       "      <td>Sweden</td>\n",
       "      <td>63</td>\n",
       "    </tr>\n",
       "    <tr>\n",
       "      <th>6</th>\n",
       "      <td>Australia</td>\n",
       "      <td>56</td>\n",
       "    </tr>\n",
       "    <tr>\n",
       "      <th>7</th>\n",
       "      <td>France</td>\n",
       "      <td>55</td>\n",
       "    </tr>\n",
       "    <tr>\n",
       "      <th>8</th>\n",
       "      <td>Canada</td>\n",
       "      <td>49</td>\n",
       "    </tr>\n",
       "    <tr>\n",
       "      <th>9</th>\n",
       "      <td>South Korea</td>\n",
       "      <td>41</td>\n",
       "    </tr>\n",
       "    <tr>\n",
       "      <th>10</th>\n",
       "      <td>Israel</td>\n",
       "      <td>39</td>\n",
       "    </tr>\n",
       "    <tr>\n",
       "      <th>11</th>\n",
       "      <td>Brazil</td>\n",
       "      <td>37</td>\n",
       "    </tr>\n",
       "    <tr>\n",
       "      <th>12</th>\n",
       "      <td>Bahamas</td>\n",
       "      <td>32</td>\n",
       "    </tr>\n",
       "    <tr>\n",
       "      <th>13</th>\n",
       "      <td>Indonesia</td>\n",
       "      <td>28</td>\n",
       "    </tr>\n",
       "    <tr>\n",
       "      <th>14</th>\n",
       "      <td>Singapore</td>\n",
       "      <td>21</td>\n",
       "    </tr>\n",
       "  </tbody>\n",
       "</table>\n",
       "</div>"
      ],
      "text/plain": [
       "    Country/Region  Valuation_num\n",
       "0    United States           1933\n",
       "1            China            696\n",
       "2            India            196\n",
       "3   United Kingdom            195\n",
       "4          Germany             72\n",
       "5           Sweden             63\n",
       "6        Australia             56\n",
       "7           France             55\n",
       "8           Canada             49\n",
       "9      South Korea             41\n",
       "10          Israel             39\n",
       "11          Brazil             37\n",
       "12         Bahamas             32\n",
       "13       Indonesia             28\n",
       "14       Singapore             21"
      ]
     },
     "execution_count": 44,
     "metadata": {},
     "output_type": "execute_result"
    }
   ],
   "source": [
    "#Group the data by`Country/Region`\n",
    "df_companies_sum = df_companies.groupby('Country/Region')['Valuation_num'].sum().sort_values(ascending=False).reset_index()\n",
    "### YOUR CODE HERE ###\n",
    "\n",
    "#Print the top 15 values of the DataFrame.\n",
    "df_companies_sum.head(15)\n",
    "### YOUR CODE HERE ###"
   ]
  },
  {
   "cell_type": "markdown",
   "metadata": {
    "id": "ePL-Wvprcjiz"
   },
   "source": [
    "**Question: Which countries have the highest sum of valuation?**"
   ]
  },
  {
   "cell_type": "markdown",
   "metadata": {
    "id": "bwc5EGrPTk6U"
   },
   "source": [
    "US, China, India & UK have highest sum of valuation"
   ]
  },
  {
   "cell_type": "markdown",
   "metadata": {
    "id": "JM0yLhuXeXb4"
   },
   "source": [
    "Your investor specified that the 4 countries with the highest sum of valuation should not be included in the list. Start by creating a boxplot to visualize the outliers. "
   ]
  },
  {
   "cell_type": "code",
   "execution_count": 45,
   "metadata": {
    "id": "94223263"
   },
   "outputs": [
    {
     "data": {
      "image/png": "[encoded data removed]",
      "text/plain": [
       "<Figure size 432x288 with 1 Axes>"
      ]
     },
     "metadata": {
      "needs_background": "light"
     },
     "output_type": "display_data"
    }
   ],
   "source": [
    "# Create a boxlot to identify outliers.\n",
    "plt.boxplot(df_companies_sum['Valuation_num'])\n",
    "### YOUR CODE HERE ###\n",
    "\n",
    "# Show the plot.\n",
    "plt.show()\n",
    "### YOUR CODE HERE ###"
   ]
  },
  {
   "cell_type": "markdown",
   "metadata": {
    "id": "bb8e3be2"
   },
   "source": [
    "In order to visualize the rest of the data properly, consider United States, China, India, and the United Kingdom outliers and remove them."
   ]
  },
  {
   "cell_type": "code",
   "execution_count": 46,
   "metadata": {
    "id": "a782354c"
   },
   "outputs": [],
   "source": [
    "# Remove outlier countries.\n",
    "\n",
    "### YOUR CODE HERE ###\n",
    "\n",
    "df_companies_sum_outliers_removed=df_companies_sum[ ~ df_companies_sum['Country/Region'].isin(['China', 'United States','India','United Kingdom'])]"
   ]
  },
  {
   "cell_type": "markdown",
   "metadata": {
    "id": "fa5f245b"
   },
   "source": [
    "Now, the data is ready to reveal the top 20 countries with highest company valuations. A data visualization, `sns.barplot` can be used. Complete the following code to plot the data."
   ]
  },
  {
   "cell_type": "code",
   "execution_count": 47,
   "metadata": {
    "id": "4cd359c4"
   },
   "outputs": [
    {
     "data": {
      "image/png": "[encoded data removed]",
      "text/plain": [
       "<Figure size 432x288 with 1 Axes>"
      ]
     },
     "metadata": {
      "needs_background": "light"
     },
     "output_type": "display_data"
    }
   ],
   "source": [
    "# Create a barplot to compare the top 20 countries with highest company valuations.\n",
    "sns.barplot(data=df_companies_sum_outliers_removed.head(20),\n",
    "            y='Country/Region',\n",
    "            x='Valuation_num')\n",
    "### YOUR CODE HERE ###\n",
    "\n",
    "# Show the plot.\n",
    "plt.show()\n",
    "### YOUR CODE HERE ###"
   ]
  },
  {
   "cell_type": "markdown",
   "metadata": {
    "id": "aca44e9f"
   },
   "source": [
    "### Plot maps"
   ]
  },
  {
   "cell_type": "markdown",
   "metadata": {
    "id": "6875df3e"
   },
   "source": [
    "Your investor has also asked for: \n",
    " - A global valuation map of all countries with companies that joined the list after 2020\n",
    " - A global valuation map of all countries except `United States`, `China`, `India`, and `United Kingdom` and a separate map for Europe \n",
    "\n",
    "To create these, plot the data onto maps. "
   ]
  },
  {
   "cell_type": "markdown",
   "metadata": {
    "id": "5563aa78"
   },
   "source": [
    "You have learned about using `scatter_geo()` from `plotly.express` library to create plot data on a map. Create a `scatter_geo()` plot that depicts the countries with valuation of companies joined after 2020."
   ]
  },
  {
   "cell_type": "code",
   "execution_count": 48,
   "metadata": {
    "id": "c5089cf7"
   },
   "outputs": [
    {
     "data": {
      "application/vnd.plotly.v1+json": {
       "config": {
        "plotlyServerURL": "https://plot.ly"
       },
       "data": [
        {
         "geo": "geo",
         "hovertemplate": "Country/Region=%{location}<br>Valuation_num=%{marker.size}<extra></extra>",
         "legendgroup": "Bahamas",
         "locationmode": "country names",
         "locations": [
          "Bahamas"
         ],
         "marker": {
          "color": "#636efa",
          "size": [
           32
          ],
          "sizemode": "area",
          "sizeref": 0.08,
          "symbol": "circle"
         },
         "mode": "markers",
         "name": "Bahamas",
         "showlegend": true,
         "type": "scattergeo"
        },
        {
         "geo": "geo",
         "hovertemplate": "Country/Region=%{location}<br>Valuation_num=%{marker.size}<extra></extra>",
         "legendgroup": "Hong Kong",
         "locationmode": "country names",
         "locations": [
          "Hong Kong"
         ],
         "marker": {
          "color": "#EF553B",
          "size": [
           18
          ],
          "sizemode": "area",
          "sizeref": 0.08,
          "symbol": "circle"
         },
         "mode": "markers",
         "name": "Hong Kong",
         "showlegend": true,
         "type": "scattergeo"
        },
        {
         "geo": "geo",
         "hovertemplate": "Country/Region=%{location}<br>Valuation_num=%{marker.size}<extra></extra>",
         "legendgroup": "Mexico",
         "locationmode": "country names",
         "locations": [
          "Mexico"
         ],
         "marker": {
          "color": "#00cc96",
          "size": [
           16
          ],
          "sizemode": "area",
          "sizeref": 0.08,
          "symbol": "circle"
         },
         "mode": "markers",
         "name": "Mexico",
         "showlegend": true,
         "type": "scattergeo"
        },
        {
         "geo": "geo",
         "hovertemplate": "Country/Region=%{location}<br>Valuation_num=%{marker.size}<extra></extra>",
         "legendgroup": "Belgium",
         "locationmode": "country names",
         "locations": [
          "Belgium"
         ],
         "marker": {
          "color": "#ab63fa",
          "size": [
           8
          ],
          "sizemode": "area",
          "sizeref": 0.08,
          "symbol": "circle"
         },
         "mode": "markers",
         "name": "Belgium",
         "showlegend": true,
         "type": "scattergeo"
        },
        {
         "geo": "geo",
         "hovertemplate": "Country/Region=%{location}<br>Valuation_num=%{marker.size}<extra></extra>",
         "legendgroup": "Colombia",
         "locationmode": "country names",
         "locations": [
          "Colombia"
         ],
         "marker": {
          "color": "#FFA15A",
          "size": [
           6
          ],
          "sizemode": "area",
          "sizeref": 0.08,
          "symbol": "circle"
         },
         "mode": "markers",
         "name": "Colombia",
         "showlegend": true,
         "type": "scattergeo"
        },
        {
         "geo": "geo",
         "hovertemplate": "Country/Region=%{location}<br>Valuation_num=%{marker.size}<extra></extra>",
         "legendgroup": "Philippines",
         "locationmode": "country names",
         "locations": [
          "Philippines"
         ],
         "marker": {
          "color": "#19d3f3",
          "size": [
           3
          ],
          "sizemode": "area",
          "sizeref": 0.08,
          "symbol": "circle"
         },
         "mode": "markers",
         "name": "Philippines",
         "showlegend": true,
         "type": "scattergeo"
        },
        {
         "geo": "geo",
         "hovertemplate": "Country/Region=%{location}<br>Valuation_num=%{marker.size}<extra></extra>",
         "legendgroup": "Argentina",
         "locationmode": "country names",
         "locations": [
          "Argentina"
         ],
         "marker": {
          "color": "#FF6692",
          "size": [
           2
          ],
          "sizemode": "area",
          "sizeref": 0.08,
          "symbol": "circle"
         },
         "mode": "markers",
         "name": "Argentina",
         "showlegend": true,
         "type": "scattergeo"
        },
        {
         "geo": "geo",
         "hovertemplate": "Country/Region=%{location}<br>Valuation_num=%{marker.size}<extra></extra>",
         "legendgroup": "Nigeria",
         "locationmode": "country names",
         "locations": [
          "Nigeria"
         ],
         "marker": {
          "color": "#B6E880",
          "size": [
           2
          ],
          "sizemode": "area",
          "sizeref": 0.08,
          "symbol": "circle"
         },
         "mode": "markers",
         "name": "Nigeria",
         "showlegend": true,
         "type": "scattergeo"
        },
        {
         "geo": "geo",
         "hovertemplate": "Country/Region=%{location}<br>Valuation_num=%{marker.size}<extra></extra>",
         "legendgroup": "Bermuda",
         "locationmode": "country names",
         "locations": [
          "Bermuda"
         ],
         "marker": {
          "color": "#FF97FF",
          "size": [
           2
          ],
          "sizemode": "area",
          "sizeref": 0.08,
          "symbol": "circle"
         },
         "mode": "markers",
         "name": "Bermuda",
         "showlegend": true,
         "type": "scattergeo"
        },
        {
         "geo": "geo",
         "hovertemplate": "Country/Region=%{location}<br>Valuation_num=%{marker.size}<extra></extra>",
         "legendgroup": "Croatia",
         "locationmode": "country names",
         "locations": [
          "Croatia"
         ],
         "marker": {
          "color": "#FECB52",
          "size": [
           1
          ],
          "sizemode": "area",
          "sizeref": 0.08,
          "symbol": "circle"
         },
         "mode": "markers",
         "name": "Croatia",
         "showlegend": true,
         "type": "scattergeo"
        }
       ],
       "layout": {
        "geo": {
         "center": {},
         "domain": {
          "x": [
           0,
           1
          ],
          "y": [
           0,
           1
          ]
         }
        },
        "legend": {
         "itemsizing": "constant",
         "title": {
          "text": "Country/Region"
         },
         "tracegroupgap": 0
        },
        "margin": {
         "t": 60
        },
        "template": {
         "data": {
          "bar": [
           {
            "error_x": {
             "color": "#2a3f5f"
            },
            "error_y": {
             "color": "#2a3f5f"
            },
            "marker": {
             "line": {
              "color": "#E5ECF6",
              "width": 0.5
             },
             "pattern": {
              "fillmode": "overlay",
              "size": 10,
              "solidity": 0.2
             }
            },
            "type": "bar"
           }
          ],
          "barpolar": [
           {
            "marker": {
             "line": {
              "color": "#E5ECF6",
              "width": 0.5
             },
             "pattern": {
              "fillmode": "overlay",
              "size": 10,
              "solidity": 0.2
             }
            },
            "type": "barpolar"
           }
          ],
          "carpet": [
           {
            "aaxis": {
             "endlinecolor": "#2a3f5f",
             "gridcolor": "white",
             "linecolor": "white",
             "minorgridcolor": "white",
             "startlinecolor": "#2a3f5f"
            },
            "baxis": {
             "endlinecolor": "#2a3f5f",
             "gridcolor": "white",
             "linecolor": "white",
             "minorgridcolor": "white",
             "startlinecolor": "#2a3f5f"
            },
            "type": "carpet"
           }
          ],
          "choropleth": [
           {
            "colorbar": {
             "outlinewidth": 0,
             "ticks": ""
            },
            "type": "choropleth"
           }
          ],
          "contour": [
           {
            "colorbar": {
             "outlinewidth": 0,
             "ticks": ""
            },
            "colorscale": [
             [
              0,
              "#0d0887"
             ],
             [
              0.1111111111111111,
              "#46039f"
             ],
             [
              0.2222222222222222,
              "#7201a8"
             ],
             [
              0.3333333333333333,
              "#9c179e"
             ],
             [
              0.4444444444444444,
              "#bd3786"
             ],
             [
              0.5555555555555556,
              "#d8576b"
             ],
             [
              0.6666666666666666,
              "#ed7953"
             ],
             [
              0.7777777777777778,
              "#fb9f3a"
             ],
             [
              0.8888888888888888,
              "#fdca26"
             ],
             [
              1,
              "#f0f921"
             ]
            ],
            "type": "contour"
           }
          ],
          "contourcarpet": [
           {
            "colorbar": {
             "outlinewidth": 0,
             "ticks": ""
            },
            "type": "contourcarpet"
           }
          ],
          "heatmap": [
           {
            "colorbar": {
             "outlinewidth": 0,
             "ticks": ""
            },
            "colorscale": [
             [
              0,
              "#0d0887"
             ],
             [
              0.1111111111111111,
              "#46039f"
             ],
             [
              0.2222222222222222,
              "#7201a8"
             ],
             [
              0.3333333333333333,
              "#9c179e"
             ],
             [
              0.4444444444444444,
              "#bd3786"
             ],
             [
              0.5555555555555556,
              "#d8576b"
             ],
             [
              0.6666666666666666,
              "#ed7953"
             ],
             [
              0.7777777777777778,
              "#fb9f3a"
             ],
             [
              0.8888888888888888,
              "#fdca26"
             ],
             [
              1,
              "#f0f921"
             ]
            ],
            "type": "heatmap"
           }
          ],
          "heatmapgl": [
           {
            "colorbar": {
             "outlinewidth": 0,
             "ticks": ""
            },
            "colorscale": [
             [
              0,
              "#0d0887"
             ],
             [
              0.1111111111111111,
              "#46039f"
             ],
             [
              0.2222222222222222,
              "#7201a8"
             ],
             [
              0.3333333333333333,
              "#9c179e"
             ],
             [
              0.4444444444444444,
              "#bd3786"
             ],
             [
              0.5555555555555556,
              "#d8576b"
             ],
             [
              0.6666666666666666,
              "#ed7953"
             ],
             [
              0.7777777777777778,
              "#fb9f3a"
             ],
             [
              0.8888888888888888,
              "#fdca26"
             ],
             [
              1,
              "#f0f921"
             ]
            ],
            "type": "heatmapgl"
           }
          ],
          "histogram": [
           {
            "marker": {
             "pattern": {
              "fillmode": "overlay",
              "size": 10,
              "solidity": 0.2
             }
            },
            "type": "histogram"
           }
          ],
          "histogram2d": [
           {
            "colorbar": {
             "outlinewidth": 0,
             "ticks": ""
            },
            "colorscale": [
             [
              0,
              "#0d0887"
             ],
             [
              0.1111111111111111,
              "#46039f"
             ],
             [
              0.2222222222222222,
              "#7201a8"
             ],
             [
              0.3333333333333333,
              "#9c179e"
             ],
             [
              0.4444444444444444,
              "#bd3786"
             ],
             [
              0.5555555555555556,
              "#d8576b"
             ],
             [
              0.6666666666666666,
              "#ed7953"
             ],
             [
              0.7777777777777778,
              "#fb9f3a"
             ],
             [
              0.8888888888888888,
              "#fdca26"
             ],
             [
              1,
              "#f0f921"
             ]
            ],
            "type": "histogram2d"
           }
          ],
          "histogram2dcontour": [
           {
            "colorbar": {
             "outlinewidth": 0,
             "ticks": ""
            },
            "colorscale": [
             [
              0,
              "#0d0887"
             ],
             [
              0.1111111111111111,
              "#46039f"
             ],
             [
              0.2222222222222222,
              "#7201a8"
             ],
             [
              0.3333333333333333,
              "#9c179e"
             ],
             [
              0.4444444444444444,
              "#bd3786"
             ],
             [
              0.5555555555555556,
              "#d8576b"
             ],
             [
              0.6666666666666666,
              "#ed7953"
             ],
             [
              0.7777777777777778,
              "#fb9f3a"
             ],
             [
              0.8888888888888888,
              "#fdca26"
             ],
             [
              1,
              "#f0f921"
             ]
            ],
            "type": "histogram2dcontour"
           }
          ],
          "mesh3d": [
           {
            "colorbar": {
             "outlinewidth": 0,
             "ticks": ""
            },
            "type": "mesh3d"
           }
          ],
          "parcoords": [
           {
            "line": {
             "colorbar": {
              "outlinewidth": 0,
              "ticks": ""
             }
            },
            "type": "parcoords"
           }
          ],
          "pie": [
           {
            "automargin": true,
            "type": "pie"
           }
          ],
          "scatter": [
           {
            "fillpattern": {
             "fillmode": "overlay",
             "size": 10,
             "solidity": 0.2
            },
            "type": "scatter"
           }
          ],
          "scatter3d": [
           {
            "line": {
             "colorbar": {
              "outlinewidth": 0,
              "ticks": ""
             }
            },
            "marker": {
             "colorbar": {
              "outlinewidth": 0,
              "ticks": ""
             }
            },
            "type": "scatter3d"
           }
          ],
          "scattercarpet": [
           {
            "marker": {
             "colorbar": {
              "outlinewidth": 0,
              "ticks": ""
             }
            },
            "type": "scattercarpet"
           }
          ],
          "scattergeo": [
           {
            "marker": {
             "colorbar": {
              "outlinewidth": 0,
              "ticks": ""
             }
            },
            "type": "scattergeo"
           }
          ],
          "scattergl": [
           {
            "marker": {
             "colorbar": {
              "outlinewidth": 0,
              "ticks": ""
             }
            },
            "type": "scattergl"
           }
          ],
          "scattermapbox": [
           {
            "marker": {
             "colorbar": {
              "outlinewidth": 0,
              "ticks": ""
             }
            },
            "type": "scattermapbox"
           }
          ],
          "scatterpolar": [
           {
            "marker": {
             "colorbar": {
              "outlinewidth": 0,
              "ticks": ""
             }
            },
            "type": "scatterpolar"
           }
          ],
          "scatterpolargl": [
           {
            "marker": {
             "colorbar": {
              "outlinewidth": 0,
              "ticks": ""
             }
            },
            "type": "scatterpolargl"
           }
          ],
          "scatterternary": [
           {
            "marker": {
             "colorbar": {
              "outlinewidth": 0,
              "ticks": ""
             }
            },
            "type": "scatterternary"
           }
          ],
          "surface": [
           {
            "colorbar": {
             "outlinewidth": 0,
             "ticks": ""
            },
            "colorscale": [
             [
              0,
              "#0d0887"
             ],
             [
              0.1111111111111111,
              "#46039f"
             ],
             [
              0.2222222222222222,
              "#7201a8"
             ],
             [
              0.3333333333333333,
              "#9c179e"
             ],
             [
              0.4444444444444444,
              "#bd3786"
             ],
             [
              0.5555555555555556,
              "#d8576b"
             ],
             [
              0.6666666666666666,
              "#ed7953"
             ],
             [
              0.7777777777777778,
              "#fb9f3a"
             ],
             [
              0.8888888888888888,
              "#fdca26"
             ],
             [
              1,
              "#f0f921"
             ]
            ],
            "type": "surface"
           }
          ],
          "table": [
           {
            "cells": {
             "fill": {
              "color": "#EBF0F8"
             },
             "line": {
              "color": "white"
             }
            },
            "header": {
             "fill": {
              "color": "#C8D4E3"
             },
             "line": {
              "color": "white"
             }
            },
            "type": "table"
           }
          ]
         },
         "layout": {
          "annotationdefaults": {
           "arrowcolor": "#2a3f5f",
           "arrowhead": 0,
           "arrowwidth": 1
          },
          "autotypenumbers": "strict",
          "coloraxis": {
           "colorbar": {
            "outlinewidth": 0,
            "ticks": ""
           }
          },
          "colorscale": {
           "diverging": [
            [
             0,
             "#8e0152"
            ],
            [
             0.1,
             "#c51b7d"
            ],
            [
             0.2,
             "#de77ae"
            ],
            [
             0.3,
             "#f1b6da"
            ],
            [
             0.4,
             "#fde0ef"
            ],
            [
             0.5,
             "#f7f7f7"
            ],
            [
             0.6,
             "#e6f5d0"
            ],
            [
             0.7,
             "#b8e186"
            ],
            [
             0.8,
             "#7fbc41"
            ],
            [
             0.9,
             "#4d9221"
            ],
            [
             1,
             "#276419"
            ]
           ],
           "sequential": [
            [
             0,
             "#0d0887"
            ],
            [
             0.1111111111111111,
             "#46039f"
            ],
            [
             0.2222222222222222,
             "#7201a8"
            ],
            [
             0.3333333333333333,
             "#9c179e"
            ],
            [
             0.4444444444444444,
             "#bd3786"
            ],
            [
             0.5555555555555556,
             "#d8576b"
            ],
            [
             0.6666666666666666,
             "#ed7953"
            ],
            [
             0.7777777777777778,
             "#fb9f3a"
            ],
            [
             0.8888888888888888,
             "#fdca26"
            ],
            [
             1,
             "#f0f921"
            ]
           ],
           "sequentialminus": [
            [
             0,
             "#0d0887"
            ],
            [
             0.1111111111111111,
             "#46039f"
            ],
            [
             0.2222222222222222,
             "#7201a8"
            ],
            [
             0.3333333333333333,
             "#9c179e"
            ],
            [
             0.4444444444444444,
             "#bd3786"
            ],
            [
             0.5555555555555556,
             "#d8576b"
            ],
            [
             0.6666666666666666,
             "#ed7953"
            ],
            [
             0.7777777777777778,
             "#fb9f3a"
            ],
            [
             0.8888888888888888,
             "#fdca26"
            ],
            [
             1,
             "#f0f921"
            ]
           ]
          },
          "colorway": [
           "#636efa",
           "#EF553B",
           "#00cc96",
           "#ab63fa",
           "#FFA15A",
           "#19d3f3",
           "#FF6692",
           "#B6E880",
           "#FF97FF",
           "#FECB52"
          ],
          "font": {
           "color": "#2a3f5f"
          },
          "geo": {
           "bgcolor": "white",
           "lakecolor": "white",
           "landcolor": "#E5ECF6",
           "showlakes": true,
           "showland": true,
           "subunitcolor": "white"
          },
          "hoverlabel": {
           "align": "left"
          },
          "hovermode": "closest",
          "mapbox": {
           "style": "light"
          },
          "paper_bgcolor": "white",
          "plot_bgcolor": "#E5ECF6",
          "polar": {
           "angularaxis": {
            "gridcolor": "white",
            "linecolor": "white",
            "ticks": ""
           },
           "bgcolor": "#E5ECF6",
           "radialaxis": {
            "gridcolor": "white",
            "linecolor": "white",
            "ticks": ""
           }
          },
          "scene": {
           "xaxis": {
            "backgroundcolor": "#E5ECF6",
            "gridcolor": "white",
            "gridwidth": 2,
            "linecolor": "white",
            "showbackground": true,
            "ticks": "",
            "zerolinecolor": "white"
           },
           "yaxis": {
            "backgroundcolor": "#E5ECF6",
            "gridcolor": "white",
            "gridwidth": 2,
            "linecolor": "white",
            "showbackground": true,
            "ticks": "",
            "zerolinecolor": "white"
           },
           "zaxis": {
            "backgroundcolor": "#E5ECF6",
            "gridcolor": "white",
            "gridwidth": 2,
            "linecolor": "white",
            "showbackground": true,
            "ticks": "",
            "zerolinecolor": "white"
           }
          },
          "shapedefaults": {
           "line": {
            "color": "#2a3f5f"
           }
          },
          "ternary": {
           "aaxis": {
            "gridcolor": "white",
            "linecolor": "white",
            "ticks": ""
           },
           "baxis": {
            "gridcolor": "white",
            "linecolor": "white",
            "ticks": ""
           },
           "bgcolor": "#E5ECF6",
           "caxis": {
            "gridcolor": "white",
            "linecolor": "white",
            "ticks": ""
           }
          },
          "title": {
           "x": 0.05
          },
          "xaxis": {
           "automargin": true,
           "gridcolor": "white",
           "linecolor": "white",
           "ticks": "",
           "title": {
            "standoff": 15
           },
           "zerolinecolor": "white",
           "zerolinewidth": 2
          },
          "yaxis": {
           "automargin": true,
           "gridcolor": "white",
           "linecolor": "white",
           "ticks": "",
           "title": {
            "standoff": 15
           },
           "zerolinecolor": "white",
           "zerolinewidth": 2
          }
         }
        }
       }
      },
      "text/html": [
       "<div>                            <div id=\"b7a0f320-1887-4264-ad16-e013b98551cb\" class=\"plotly-graph-div\" style=\"height:525px; width:100%;\"></div>            <script type=\"text/javascript\">                require([\"plotly\"], function(Plotly) {                    window.PLOTLYENV=window.PLOTLYENV || {};                                    if (document.getElementById(\"b7a0f320-1887-4264-ad16-e013b98551cb\")) {                    Plotly.newPlot(                        \"b7a0f320-1887-4264-ad16-e013b98551cb\",                        [{\"geo\":\"geo\",\"hovertemplate\":\"Country/Region=%{location}<br>Valuation_num=%{marker.size}<extra></extra>\",\"legendgroup\":\"Bahamas\",\"locationmode\":\"country names\",\"locations\":[\"Bahamas\"],\"marker\":{\"color\":\"#636efa\",\"size\":[32],\"sizemode\":\"area\",\"sizeref\":0.08,\"symbol\":\"circle\"},\"mode\":\"markers\",\"name\":\"Bahamas\",\"showlegend\":true,\"type\":\"scattergeo\"},{\"geo\":\"geo\",\"hovertemplate\":\"Country/Region=%{location}<br>Valuation_num=%{marker.size}<extra></extra>\",\"legendgroup\":\"Hong Kong\",\"locationmode\":\"country names\",\"locations\":[\"Hong Kong\"],\"marker\":{\"color\":\"#EF553B\",\"size\":[18],\"sizemode\":\"area\",\"sizeref\":0.08,\"symbol\":\"circle\"},\"mode\":\"markers\",\"name\":\"Hong Kong\",\"showlegend\":true,\"type\":\"scattergeo\"},{\"geo\":\"geo\",\"hovertemplate\":\"Country/Region=%{location}<br>Valuation_num=%{marker.size}<extra></extra>\",\"legendgroup\":\"Mexico\",\"locationmode\":\"country names\",\"locations\":[\"Mexico\"],\"marker\":{\"color\":\"#00cc96\",\"size\":[16],\"sizemode\":\"area\",\"sizeref\":0.08,\"symbol\":\"circle\"},\"mode\":\"markers\",\"name\":\"Mexico\",\"showlegend\":true,\"type\":\"scattergeo\"},{\"geo\":\"geo\",\"hovertemplate\":\"Country/Region=%{location}<br>Valuation_num=%{marker.size}<extra></extra>\",\"legendgroup\":\"Belgium\",\"locationmode\":\"country names\",\"locations\":[\"Belgium\"],\"marker\":{\"color\":\"#ab63fa\",\"size\":[8],\"sizemode\":\"area\",\"sizeref\":0.08,\"symbol\":\"circle\"},\"mode\":\"markers\",\"name\":\"Belgium\",\"showlegend\":true,\"type\":\"scattergeo\"},{\"geo\":\"geo\",\"hovertemplate\":\"Country/Region=%{location}<br>Valuation_num=%{marker.size}<extra></extra>\",\"legendgroup\":\"Colombia\",\"locationmode\":\"country names\",\"locations\":[\"Colombia\"],\"marker\":{\"color\":\"#FFA15A\",\"size\":[6],\"sizemode\":\"area\",\"sizeref\":0.08,\"symbol\":\"circle\"},\"mode\":\"markers\",\"name\":\"Colombia\",\"showlegend\":true,\"type\":\"scattergeo\"},{\"geo\":\"geo\",\"hovertemplate\":\"Country/Region=%{location}<br>Valuation_num=%{marker.size}<extra></extra>\",\"legendgroup\":\"Philippines\",\"locationmode\":\"country names\",\"locations\":[\"Philippines\"],\"marker\":{\"color\":\"#19d3f3\",\"size\":[3],\"sizemode\":\"area\",\"sizeref\":0.08,\"symbol\":\"circle\"},\"mode\":\"markers\",\"name\":\"Philippines\",\"showlegend\":true,\"type\":\"scattergeo\"},{\"geo\":\"geo\",\"hovertemplate\":\"Country/Region=%{location}<br>Valuation_num=%{marker.size}<extra></extra>\",\"legendgroup\":\"Argentina\",\"locationmode\":\"country names\",\"locations\":[\"Argentina\"],\"marker\":{\"color\":\"#FF6692\",\"size\":[2],\"sizemode\":\"area\",\"sizeref\":0.08,\"symbol\":\"circle\"},\"mode\":\"markers\",\"name\":\"Argentina\",\"showlegend\":true,\"type\":\"scattergeo\"},{\"geo\":\"geo\",\"hovertemplate\":\"Country/Region=%{location}<br>Valuation_num=%{marker.size}<extra></extra>\",\"legendgroup\":\"Nigeria\",\"locationmode\":\"country names\",\"locations\":[\"Nigeria\"],\"marker\":{\"color\":\"#B6E880\",\"size\":[2],\"sizemode\":\"area\",\"sizeref\":0.08,\"symbol\":\"circle\"},\"mode\":\"markers\",\"name\":\"Nigeria\",\"showlegend\":true,\"type\":\"scattergeo\"},{\"geo\":\"geo\",\"hovertemplate\":\"Country/Region=%{location}<br>Valuation_num=%{marker.size}<extra></extra>\",\"legendgroup\":\"Bermuda\",\"locationmode\":\"country names\",\"locations\":[\"Bermuda\"],\"marker\":{\"color\":\"#FF97FF\",\"size\":[2],\"sizemode\":\"area\",\"sizeref\":0.08,\"symbol\":\"circle\"},\"mode\":\"markers\",\"name\":\"Bermuda\",\"showlegend\":true,\"type\":\"scattergeo\"},{\"geo\":\"geo\",\"hovertemplate\":\"Country/Region=%{location}<br>Valuation_num=%{marker.size}<extra></extra>\",\"legendgroup\":\"Croatia\",\"locationmode\":\"country names\",\"locations\":[\"Croatia\"],\"marker\":{\"color\":\"#FECB52\",\"size\":[1],\"sizemode\":\"area\",\"sizeref\":0.08,\"symbol\":\"circle\"},\"mode\":\"markers\",\"name\":\"Croatia\",\"showlegend\":true,\"type\":\"scattergeo\"}],                        {\"template\":{\"data\":{\"histogram2dcontour\":[{\"type\":\"histogram2dcontour\",\"colorbar\":{\"outlinewidth\":0,\"ticks\":\"\"},\"colorscale\":[[0.0,\"#0d0887\"],[0.1111111111111111,\"#46039f\"],[0.2222222222222222,\"#7201a8\"],[0.3333333333333333,\"#9c179e\"],[0.4444444444444444,\"#bd3786\"],[0.5555555555555556,\"#d8576b\"],[0.6666666666666666,\"#ed7953\"],[0.7777777777777778,\"#fb9f3a\"],[0.8888888888888888,\"#fdca26\"],[1.0,\"#f0f921\"]]}],\"choropleth\":[{\"type\":\"choropleth\",\"colorbar\":{\"outlinewidth\":0,\"ticks\":\"\"}}],\"histogram2d\":[{\"type\":\"histogram2d\",\"colorbar\":{\"outlinewidth\":0,\"ticks\":\"\"},\"colorscale\":[[0.0,\"#0d0887\"],[0.1111111111111111,\"#46039f\"],[0.2222222222222222,\"#7201a8\"],[0.3333333333333333,\"#9c179e\"],[0.4444444444444444,\"#bd3786\"],[0.5555555555555556,\"#d8576b\"],[0.6666666666666666,\"#ed7953\"],[0.7777777777777778,\"#fb9f3a\"],[0.8888888888888888,\"#fdca26\"],[1.0,\"#f0f921\"]]}],\"heatmap\":[{\"type\":\"heatmap\",\"colorbar\":{\"outlinewidth\":0,\"ticks\":\"\"},\"colorscale\":[[0.0,\"#0d0887\"],[0.1111111111111111,\"#46039f\"],[0.2222222222222222,\"#7201a8\"],[0.3333333333333333,\"#9c179e\"],[0.4444444444444444,\"#bd3786\"],[0.5555555555555556,\"#d8576b\"],[0.6666666666666666,\"#ed7953\"],[0.7777777777777778,\"#fb9f3a\"],[0.8888888888888888,\"#fdca26\"],[1.0,\"#f0f921\"]]}],\"heatmapgl\":[{\"type\":\"heatmapgl\",\"colorbar\":{\"outlinewidth\":0,\"ticks\":\"\"},\"colorscale\":[[0.0,\"#0d0887\"],[0.1111111111111111,\"#46039f\"],[0.2222222222222222,\"#7201a8\"],[0.3333333333333333,\"#9c179e\"],[0.4444444444444444,\"#bd3786\"],[0.5555555555555556,\"#d8576b\"],[0.6666666666666666,\"#ed7953\"],[0.7777777777777778,\"#fb9f3a\"],[0.8888888888888888,\"#fdca26\"],[1.0,\"#f0f921\"]]}],\"contourcarpet\":[{\"type\":\"contourcarpet\",\"colorbar\":{\"outlinewidth\":0,\"ticks\":\"\"}}],\"contour\":[{\"type\":\"contour\",\"colorbar\":{\"outlinewidth\":0,\"ticks\":\"\"},\"colorscale\":[[0.0,\"#0d0887\"],[0.1111111111111111,\"#46039f\"],[0.2222222222222222,\"#7201a8\"],[0.3333333333333333,\"#9c179e\"],[0.4444444444444444,\"#bd3786\"],[0.5555555555555556,\"#d8576b\"],[0.6666666666666666,\"#ed7953\"],[0.7777777777777778,\"#fb9f3a\"],[0.8888888888888888,\"#fdca26\"],[1.0,\"#f0f921\"]]}],\"surface\":[{\"type\":\"surface\",\"colorbar\":{\"outlinewidth\":0,\"ticks\":\"\"},\"colorscale\":[[0.0,\"#0d0887\"],[0.1111111111111111,\"#46039f\"],[0.2222222222222222,\"#7201a8\"],[0.3333333333333333,\"#9c179e\"],[0.4444444444444444,\"#bd3786\"],[0.5555555555555556,\"#d8576b\"],[0.6666666666666666,\"#ed7953\"],[0.7777777777777778,\"#fb9f3a\"],[0.8888888888888888,\"#fdca26\"],[1.0,\"#f0f921\"]]}],\"mesh3d\":[{\"type\":\"mesh3d\",\"colorbar\":{\"outlinewidth\":0,\"ticks\":\"\"}}],\"scatter\":[{\"fillpattern\":{\"fillmode\":\"overlay\",\"size\":10,\"solidity\":0.2},\"type\":\"scatter\"}],\"parcoords\":[{\"type\":\"parcoords\",\"line\":{\"colorbar\":{\"outlinewidth\":0,\"ticks\":\"\"}}}],\"scatterpolargl\":[{\"type\":\"scatterpolargl\",\"marker\":{\"colorbar\":{\"outlinewidth\":0,\"ticks\":\"\"}}}],\"bar\":[{\"error_x\":{\"color\":\"#2a3f5f\"},\"error_y\":{\"color\":\"#2a3f5f\"},\"marker\":{\"line\":{\"color\":\"#E5ECF6\",\"width\":0.5},\"pattern\":{\"fillmode\":\"overlay\",\"size\":10,\"solidity\":0.2}},\"type\":\"bar\"}],\"scattergeo\":[{\"type\":\"scattergeo\",\"marker\":{\"colorbar\":{\"outlinewidth\":0,\"ticks\":\"\"}}}],\"scatterpolar\":[{\"type\":\"scatterpolar\",\"marker\":{\"colorbar\":{\"outlinewidth\":0,\"ticks\":\"\"}}}],\"histogram\":[{\"marker\":{\"pattern\":{\"fillmode\":\"overlay\",\"size\":10,\"solidity\":0.2}},\"type\":\"histogram\"}],\"scattergl\":[{\"type\":\"scattergl\",\"marker\":{\"colorbar\":{\"outlinewidth\":0,\"ticks\":\"\"}}}],\"scatter3d\":[{\"type\":\"scatter3d\",\"line\":{\"colorbar\":{\"outlinewidth\":0,\"ticks\":\"\"}},\"marker\":{\"colorbar\":{\"outlinewidth\":0,\"ticks\":\"\"}}}],\"scattermapbox\":[{\"type\":\"scattermapbox\",\"marker\":{\"colorbar\":{\"outlinewidth\":0,\"ticks\":\"\"}}}],\"scatterternary\":[{\"type\":\"scatterternary\",\"marker\":{\"colorbar\":{\"outlinewidth\":0,\"ticks\":\"\"}}}],\"scattercarpet\":[{\"type\":\"scattercarpet\",\"marker\":{\"colorbar\":{\"outlinewidth\":0,\"ticks\":\"\"}}}],\"carpet\":[{\"aaxis\":{\"endlinecolor\":\"#2a3f5f\",\"gridcolor\":\"white\",\"linecolor\":\"white\",\"minorgridcolor\":\"white\",\"startlinecolor\":\"#2a3f5f\"},\"baxis\":{\"endlinecolor\":\"#2a3f5f\",\"gridcolor\":\"white\",\"linecolor\":\"white\",\"minorgridcolor\":\"white\",\"startlinecolor\":\"#2a3f5f\"},\"type\":\"carpet\"}],\"table\":[{\"cells\":{\"fill\":{\"color\":\"#EBF0F8\"},\"line\":{\"color\":\"white\"}},\"header\":{\"fill\":{\"color\":\"#C8D4E3\"},\"line\":{\"color\":\"white\"}},\"type\":\"table\"}],\"barpolar\":[{\"marker\":{\"line\":{\"color\":\"#E5ECF6\",\"width\":0.5},\"pattern\":{\"fillmode\":\"overlay\",\"size\":10,\"solidity\":0.2}},\"type\":\"barpolar\"}],\"pie\":[{\"automargin\":true,\"type\":\"pie\"}]},\"layout\":{\"autotypenumbers\":\"strict\",\"colorway\":[\"#636efa\",\"#EF553B\",\"#00cc96\",\"#ab63fa\",\"#FFA15A\",\"#19d3f3\",\"#FF6692\",\"#B6E880\",\"#FF97FF\",\"#FECB52\"],\"font\":{\"color\":\"#2a3f5f\"},\"hovermode\":\"closest\",\"hoverlabel\":{\"align\":\"left\"},\"paper_bgcolor\":\"white\",\"plot_bgcolor\":\"#E5ECF6\",\"polar\":{\"bgcolor\":\"#E5ECF6\",\"angularaxis\":{\"gridcolor\":\"white\",\"linecolor\":\"white\",\"ticks\":\"\"},\"radialaxis\":{\"gridcolor\":\"white\",\"linecolor\":\"white\",\"ticks\":\"\"}},\"ternary\":{\"bgcolor\":\"#E5ECF6\",\"aaxis\":{\"gridcolor\":\"white\",\"linecolor\":\"white\",\"ticks\":\"\"},\"baxis\":{\"gridcolor\":\"white\",\"linecolor\":\"white\",\"ticks\":\"\"},\"caxis\":{\"gridcolor\":\"white\",\"linecolor\":\"white\",\"ticks\":\"\"}},\"coloraxis\":{\"colorbar\":{\"outlinewidth\":0,\"ticks\":\"\"}},\"colorscale\":{\"sequential\":[[0.0,\"#0d0887\"],[0.1111111111111111,\"#46039f\"],[0.2222222222222222,\"#7201a8\"],[0.3333333333333333,\"#9c179e\"],[0.4444444444444444,\"#bd3786\"],[0.5555555555555556,\"#d8576b\"],[0.6666666666666666,\"#ed7953\"],[0.7777777777777778,\"#fb9f3a\"],[0.8888888888888888,\"#fdca26\"],[1.0,\"#f0f921\"]],\"sequentialminus\":[[0.0,\"#0d0887\"],[0.1111111111111111,\"#46039f\"],[0.2222222222222222,\"#7201a8\"],[0.3333333333333333,\"#9c179e\"],[0.4444444444444444,\"#bd3786\"],[0.5555555555555556,\"#d8576b\"],[0.6666666666666666,\"#ed7953\"],[0.7777777777777778,\"#fb9f3a\"],[0.8888888888888888,\"#fdca26\"],[1.0,\"#f0f921\"]],\"diverging\":[[0,\"#8e0152\"],[0.1,\"#c51b7d\"],[0.2,\"#de77ae\"],[0.3,\"#f1b6da\"],[0.4,\"#fde0ef\"],[0.5,\"#f7f7f7\"],[0.6,\"#e6f5d0\"],[0.7,\"#b8e186\"],[0.8,\"#7fbc41\"],[0.9,\"#4d9221\"],[1,\"#276419\"]]},\"xaxis\":{\"gridcolor\":\"white\",\"linecolor\":\"white\",\"ticks\":\"\",\"title\":{\"standoff\":15},\"zerolinecolor\":\"white\",\"automargin\":true,\"zerolinewidth\":2},\"yaxis\":{\"gridcolor\":\"white\",\"linecolor\":\"white\",\"ticks\":\"\",\"title\":{\"standoff\":15},\"zerolinecolor\":\"white\",\"automargin\":true,\"zerolinewidth\":2},\"scene\":{\"xaxis\":{\"backgroundcolor\":\"#E5ECF6\",\"gridcolor\":\"white\",\"linecolor\":\"white\",\"showbackground\":true,\"ticks\":\"\",\"zerolinecolor\":\"white\",\"gridwidth\":2},\"yaxis\":{\"backgroundcolor\":\"#E5ECF6\",\"gridcolor\":\"white\",\"linecolor\":\"white\",\"showbackground\":true,\"ticks\":\"\",\"zerolinecolor\":\"white\",\"gridwidth\":2},\"zaxis\":{\"backgroundcolor\":\"#E5ECF6\",\"gridcolor\":\"white\",\"linecolor\":\"white\",\"showbackground\":true,\"ticks\":\"\",\"zerolinecolor\":\"white\",\"gridwidth\":2}},\"shapedefaults\":{\"line\":{\"color\":\"#2a3f5f\"}},\"annotationdefaults\":{\"arrowcolor\":\"#2a3f5f\",\"arrowhead\":0,\"arrowwidth\":1},\"geo\":{\"bgcolor\":\"white\",\"landcolor\":\"#E5ECF6\",\"subunitcolor\":\"white\",\"showland\":true,\"showlakes\":true,\"lakecolor\":\"white\"},\"title\":{\"x\":0.05},\"mapbox\":{\"style\":\"light\"}}},\"geo\":{\"domain\":{\"x\":[0.0,1.0],\"y\":[0.0,1.0]},\"center\":{}},\"legend\":{\"title\":{\"text\":\"Country/Region\"},\"tracegroupgap\":0,\"itemsizing\":\"constant\"},\"margin\":{\"t\":60}},                        {\"responsive\": true}                    ).then(function(){\n",
       "                            \n",
       "var gd = document.getElementById('b7a0f320-1887-4264-ad16-e013b98551cb');\n",
       "var x = new MutationObserver(function (mutations, observer) {{\n",
       "        var display = window.getComputedStyle(gd).display;\n",
       "        if (!display || display === 'none') {{\n",
       "            console.log([gd, 'removed!']);\n",
       "            Plotly.purge(gd);\n",
       "            observer.disconnect();\n",
       "        }}\n",
       "}});\n",
       "\n",
       "// Listen for the removal of the full notebook cells\n",
       "var notebookContainer = gd.closest('#notebook-container');\n",
       "if (notebookContainer) {{\n",
       "    x.observe(notebookContainer, {childList: true});\n",
       "}}\n",
       "\n",
       "// Listen for the clearing of the current output cell\n",
       "var outputEl = gd.closest('.output');\n",
       "if (outputEl) {{\n",
       "    x.observe(outputEl, {childList: true});\n",
       "}}\n",
       "\n",
       "                        })                };                });            </script>        </div>"
      ]
     },
     "metadata": {},
     "output_type": "display_data"
    }
   ],
   "source": [
    "# Plot the sum of valuations per country.\n",
    "\n",
    "### YOUR CODE HERE ###\n",
    "\n",
    "px.scatter_geo(df_companies_sum[df_companies[\"Year Joined\"] > 2020], \n",
    "    locations='Country/Region', size='Valuation_num', locationmode='country names', color='Country/Region')"
   ]
  },
  {
   "cell_type": "code",
   "execution_count": 49,
   "metadata": {
    "id": "5cb321e9"
   },
   "outputs": [
    {
     "data": {
      "application/vnd.plotly.v1+json": {
       "config": {
        "plotlyServerURL": "https://plot.ly"
       },
       "data": [
        {
         "geo": "geo",
         "hovertemplate": "Country/Region=%{location}<br>Valuation_num=%{marker.size}<extra></extra>",
         "legendgroup": "Germany",
         "locationmode": "country names",
         "locations": [
          "Germany"
         ],
         "marker": {
          "color": "#636efa",
          "size": [
           72
          ],
          "sizemode": "area",
          "sizeref": 0.18,
          "symbol": "circle"
         },
         "mode": "markers",
         "name": "Germany",
         "showlegend": true,
         "type": "scattergeo"
        },
        {
         "geo": "geo",
         "hovertemplate": "Country/Region=%{location}<br>Valuation_num=%{marker.size}<extra></extra>",
         "legendgroup": "Sweden",
         "locationmode": "country names",
         "locations": [
          "Sweden"
         ],
         "marker": {
          "color": "#EF553B",
          "size": [
           63
          ],
          "sizemode": "area",
          "sizeref": 0.18,
          "symbol": "circle"
         },
         "mode": "markers",
         "name": "Sweden",
         "showlegend": true,
         "type": "scattergeo"
        },
        {
         "geo": "geo",
         "hovertemplate": "Country/Region=%{location}<br>Valuation_num=%{marker.size}<extra></extra>",
         "legendgroup": "Australia",
         "locationmode": "country names",
         "locations": [
          "Australia"
         ],
         "marker": {
          "color": "#00cc96",
          "size": [
           56
          ],
          "sizemode": "area",
          "sizeref": 0.18,
          "symbol": "circle"
         },
         "mode": "markers",
         "name": "Australia",
         "showlegend": true,
         "type": "scattergeo"
        },
        {
         "geo": "geo",
         "hovertemplate": "Country/Region=%{location}<br>Valuation_num=%{marker.size}<extra></extra>",
         "legendgroup": "France",
         "locationmode": "country names",
         "locations": [
          "France"
         ],
         "marker": {
          "color": "#ab63fa",
          "size": [
           55
          ],
          "sizemode": "area",
          "sizeref": 0.18,
          "symbol": "circle"
         },
         "mode": "markers",
         "name": "France",
         "showlegend": true,
         "type": "scattergeo"
        },
        {
         "geo": "geo",
         "hovertemplate": "Country/Region=%{location}<br>Valuation_num=%{marker.size}<extra></extra>",
         "legendgroup": "Canada",
         "locationmode": "country names",
         "locations": [
          "Canada"
         ],
         "marker": {
          "color": "#FFA15A",
          "size": [
           49
          ],
          "sizemode": "area",
          "sizeref": 0.18,
          "symbol": "circle"
         },
         "mode": "markers",
         "name": "Canada",
         "showlegend": true,
         "type": "scattergeo"
        },
        {
         "geo": "geo",
         "hovertemplate": "Country/Region=%{location}<br>Valuation_num=%{marker.size}<extra></extra>",
         "legendgroup": "South Korea",
         "locationmode": "country names",
         "locations": [
          "South Korea"
         ],
         "marker": {
          "color": "#19d3f3",
          "size": [
           41
          ],
          "sizemode": "area",
          "sizeref": 0.18,
          "symbol": "circle"
         },
         "mode": "markers",
         "name": "South Korea",
         "showlegend": true,
         "type": "scattergeo"
        },
        {
         "geo": "geo",
         "hovertemplate": "Country/Region=%{location}<br>Valuation_num=%{marker.size}<extra></extra>",
         "legendgroup": "Israel",
         "locationmode": "country names",
         "locations": [
          "Israel"
         ],
         "marker": {
          "color": "#FF6692",
          "size": [
           39
          ],
          "sizemode": "area",
          "sizeref": 0.18,
          "symbol": "circle"
         },
         "mode": "markers",
         "name": "Israel",
         "showlegend": true,
         "type": "scattergeo"
        },
        {
         "geo": "geo",
         "hovertemplate": "Country/Region=%{location}<br>Valuation_num=%{marker.size}<extra></extra>",
         "legendgroup": "Brazil",
         "locationmode": "country names",
         "locations": [
          "Brazil"
         ],
         "marker": {
          "color": "#B6E880",
          "size": [
           37
          ],
          "sizemode": "area",
          "sizeref": 0.18,
          "symbol": "circle"
         },
         "mode": "markers",
         "name": "Brazil",
         "showlegend": true,
         "type": "scattergeo"
        },
        {
         "geo": "geo",
         "hovertemplate": "Country/Region=%{location}<br>Valuation_num=%{marker.size}<extra></extra>",
         "legendgroup": "Bahamas",
         "locationmode": "country names",
         "locations": [
          "Bahamas"
         ],
         "marker": {
          "color": "#FF97FF",
          "size": [
           32
          ],
          "sizemode": "area",
          "sizeref": 0.18,
          "symbol": "circle"
         },
         "mode": "markers",
         "name": "Bahamas",
         "showlegend": true,
         "type": "scattergeo"
        },
        {
         "geo": "geo",
         "hovertemplate": "Country/Region=%{location}<br>Valuation_num=%{marker.size}<extra></extra>",
         "legendgroup": "Indonesia",
         "locationmode": "country names",
         "locations": [
          "Indonesia"
         ],
         "marker": {
          "color": "#FECB52",
          "size": [
           28
          ],
          "sizemode": "area",
          "sizeref": 0.18,
          "symbol": "circle"
         },
         "mode": "markers",
         "name": "Indonesia",
         "showlegend": true,
         "type": "scattergeo"
        },
        {
         "geo": "geo",
         "hovertemplate": "Country/Region=%{location}<br>Valuation_num=%{marker.size}<extra></extra>",
         "legendgroup": "Singapore",
         "locationmode": "country names",
         "locations": [
          "Singapore"
         ],
         "marker": {
          "color": "#636efa",
          "size": [
           21
          ],
          "sizemode": "area",
          "sizeref": 0.18,
          "symbol": "circle"
         },
         "mode": "markers",
         "name": "Singapore",
         "showlegend": true,
         "type": "scattergeo"
        },
        {
         "geo": "geo",
         "hovertemplate": "Country/Region=%{location}<br>Valuation_num=%{marker.size}<extra></extra>",
         "legendgroup": "Netherlands",
         "locationmode": "country names",
         "locations": [
          "Netherlands"
         ],
         "marker": {
          "color": "#EF553B",
          "size": [
           19
          ],
          "sizemode": "area",
          "sizeref": 0.18,
          "symbol": "circle"
         },
         "mode": "markers",
         "name": "Netherlands",
         "showlegend": true,
         "type": "scattergeo"
        },
        {
         "geo": "geo",
         "hovertemplate": "Country/Region=%{location}<br>Valuation_num=%{marker.size}<extra></extra>",
         "legendgroup": "Hong Kong",
         "locationmode": "country names",
         "locations": [
          "Hong Kong"
         ],
         "marker": {
          "color": "#00cc96",
          "size": [
           18
          ],
          "sizemode": "area",
          "sizeref": 0.18,
          "symbol": "circle"
         },
         "mode": "markers",
         "name": "Hong Kong",
         "showlegend": true,
         "type": "scattergeo"
        },
        {
         "geo": "geo",
         "hovertemplate": "Country/Region=%{location}<br>Valuation_num=%{marker.size}<extra></extra>",
         "legendgroup": "Turkey",
         "locationmode": "country names",
         "locations": [
          "Turkey"
         ],
         "marker": {
          "color": "#ab63fa",
          "size": [
           16
          ],
          "sizemode": "area",
          "sizeref": 0.18,
          "symbol": "circle"
         },
         "mode": "markers",
         "name": "Turkey",
         "showlegend": true,
         "type": "scattergeo"
        },
        {
         "geo": "geo",
         "hovertemplate": "Country/Region=%{location}<br>Valuation_num=%{marker.size}<extra></extra>",
         "legendgroup": "Mexico",
         "locationmode": "country names",
         "locations": [
          "Mexico"
         ],
         "marker": {
          "color": "#FFA15A",
          "size": [
           16
          ],
          "sizemode": "area",
          "sizeref": 0.18,
          "symbol": "circle"
         },
         "mode": "markers",
         "name": "Mexico",
         "showlegend": true,
         "type": "scattergeo"
        },
        {
         "geo": "geo",
         "hovertemplate": "Country/Region=%{location}<br>Valuation_num=%{marker.size}<extra></extra>",
         "legendgroup": "Estonia",
         "locationmode": "country names",
         "locations": [
          "Estonia"
         ],
         "marker": {
          "color": "#19d3f3",
          "size": [
           13
          ],
          "sizemode": "area",
          "sizeref": 0.18,
          "symbol": "circle"
         },
         "mode": "markers",
         "name": "Estonia",
         "showlegend": true,
         "type": "scattergeo"
        },
        {
         "geo": "geo",
         "hovertemplate": "Country/Region=%{location}<br>Valuation_num=%{marker.size}<extra></extra>",
         "legendgroup": "Finland",
         "locationmode": "country names",
         "locations": [
          "Finland"
         ],
         "marker": {
          "color": "#FF6692",
          "size": [
           12
          ],
          "sizemode": "area",
          "sizeref": 0.18,
          "symbol": "circle"
         },
         "mode": "markers",
         "name": "Finland",
         "showlegend": true,
         "type": "scattergeo"
        },
        {
         "geo": "geo",
         "hovertemplate": "Country/Region=%{location}<br>Valuation_num=%{marker.size}<extra></extra>",
         "legendgroup": "Ireland",
         "locationmode": "country names",
         "locations": [
          "Ireland"
         ],
         "marker": {
          "color": "#B6E880",
          "size": [
           9
          ],
          "sizemode": "area",
          "sizeref": 0.18,
          "symbol": "circle"
         },
         "mode": "markers",
         "name": "Ireland",
         "showlegend": true,
         "type": "scattergeo"
        },
        {
         "geo": "geo",
         "hovertemplate": "Country/Region=%{location}<br>Valuation_num=%{marker.size}<extra></extra>",
         "legendgroup": "Switzerland",
         "locationmode": "country names",
         "locations": [
          "Switzerland"
         ],
         "marker": {
          "color": "#FF97FF",
          "size": [
           8
          ],
          "sizemode": "area",
          "sizeref": 0.18,
          "symbol": "circle"
         },
         "mode": "markers",
         "name": "Switzerland",
         "showlegend": true,
         "type": "scattergeo"
        },
        {
         "geo": "geo",
         "hovertemplate": "Country/Region=%{location}<br>Valuation_num=%{marker.size}<extra></extra>",
         "legendgroup": "Japan",
         "locationmode": "country names",
         "locations": [
          "Japan"
         ],
         "marker": {
          "color": "#FECB52",
          "size": [
           8
          ],
          "sizemode": "area",
          "sizeref": 0.18,
          "symbol": "circle"
         },
         "mode": "markers",
         "name": "Japan",
         "showlegend": true,
         "type": "scattergeo"
        },
        {
         "geo": "geo",
         "hovertemplate": "Country/Region=%{location}<br>Valuation_num=%{marker.size}<extra></extra>",
         "legendgroup": "Belgium",
         "locationmode": "country names",
         "locations": [
          "Belgium"
         ],
         "marker": {
          "color": "#636efa",
          "size": [
           8
          ],
          "sizemode": "area",
          "sizeref": 0.18,
          "symbol": "circle"
         },
         "mode": "markers",
         "name": "Belgium",
         "showlegend": true,
         "type": "scattergeo"
        },
        {
         "geo": "geo",
         "hovertemplate": "Country/Region=%{location}<br>Valuation_num=%{marker.size}<extra></extra>",
         "legendgroup": "Denmark",
         "locationmode": "country names",
         "locations": [
          "Denmark"
         ],
         "marker": {
          "color": "#EF553B",
          "size": [
           7
          ],
          "sizemode": "area",
          "sizeref": 0.18,
          "symbol": "circle"
         },
         "mode": "markers",
         "name": "Denmark",
         "showlegend": true,
         "type": "scattergeo"
        },
        {
         "geo": "geo",
         "hovertemplate": "Country/Region=%{location}<br>Valuation_num=%{marker.size}<extra></extra>",
         "legendgroup": "Austria",
         "locationmode": "country names",
         "locations": [
          "Austria"
         ],
         "marker": {
          "color": "#00cc96",
          "size": [
           7
          ],
          "sizemode": "area",
          "sizeref": 0.18,
          "symbol": "circle"
         },
         "mode": "markers",
         "name": "Austria",
         "showlegend": true,
         "type": "scattergeo"
        },
        {
         "geo": "geo",
         "hovertemplate": "Country/Region=%{location}<br>Valuation_num=%{marker.size}<extra></extra>",
         "legendgroup": "Colombia",
         "locationmode": "country names",
         "locations": [
          "Colombia"
         ],
         "marker": {
          "color": "#ab63fa",
          "size": [
           6
          ],
          "sizemode": "area",
          "sizeref": 0.18,
          "symbol": "circle"
         },
         "mode": "markers",
         "name": "Colombia",
         "showlegend": true,
         "type": "scattergeo"
        },
        {
         "geo": "geo",
         "hovertemplate": "Country/Region=%{location}<br>Valuation_num=%{marker.size}<extra></extra>",
         "legendgroup": "Norway",
         "locationmode": "country names",
         "locations": [
          "Norway"
         ],
         "marker": {
          "color": "#FFA15A",
          "size": [
           5
          ],
          "sizemode": "area",
          "sizeref": 0.18,
          "symbol": "circle"
         },
         "mode": "markers",
         "name": "Norway",
         "showlegend": true,
         "type": "scattergeo"
        },
        {
         "geo": "geo",
         "hovertemplate": "Country/Region=%{location}<br>Valuation_num=%{marker.size}<extra></extra>",
         "legendgroup": "Vietnam",
         "locationmode": "country names",
         "locations": [
          "Vietnam"
         ],
         "marker": {
          "color": "#19d3f3",
          "size": [
           5
          ],
          "sizemode": "area",
          "sizeref": 0.18,
          "symbol": "circle"
         },
         "mode": "markers",
         "name": "Vietnam",
         "showlegend": true,
         "type": "scattergeo"
        },
        {
         "geo": "geo",
         "hovertemplate": "Country/Region=%{location}<br>Valuation_num=%{marker.size}<extra></extra>",
         "legendgroup": "Lithuania",
         "locationmode": "country names",
         "locations": [
          "Lithuania"
         ],
         "marker": {
          "color": "#FF6692",
          "size": [
           5
          ],
          "sizemode": "area",
          "sizeref": 0.18,
          "symbol": "circle"
         },
         "mode": "markers",
         "name": "Lithuania",
         "showlegend": true,
         "type": "scattergeo"
        },
        {
         "geo": "geo",
         "hovertemplate": "Country/Region=%{location}<br>Valuation_num=%{marker.size}<extra></extra>",
         "legendgroup": "United Arab Emirates",
         "locationmode": "country names",
         "locations": [
          "United Arab Emirates"
         ],
         "marker": {
          "color": "#B6E880",
          "size": [
           5
          ],
          "sizemode": "area",
          "sizeref": 0.18,
          "symbol": "circle"
         },
         "mode": "markers",
         "name": "United Arab Emirates",
         "showlegend": true,
         "type": "scattergeo"
        },
        {
         "geo": "geo",
         "hovertemplate": "Country/Region=%{location}<br>Valuation_num=%{marker.size}<extra></extra>",
         "legendgroup": "Spain",
         "locationmode": "country names",
         "locations": [
          "Spain"
         ],
         "marker": {
          "color": "#FF97FF",
          "size": [
           4
          ],
          "sizemode": "area",
          "sizeref": 0.18,
          "symbol": "circle"
         },
         "mode": "markers",
         "name": "Spain",
         "showlegend": true,
         "type": "scattergeo"
        },
        {
         "geo": "geo",
         "hovertemplate": "Country/Region=%{location}<br>Valuation_num=%{marker.size}<extra></extra>",
         "legendgroup": "Chile",
         "locationmode": "country names",
         "locations": [
          "Chile"
         ],
         "marker": {
          "color": "#FECB52",
          "size": [
           3
          ],
          "sizemode": "area",
          "sizeref": 0.18,
          "symbol": "circle"
         },
         "mode": "markers",
         "name": "Chile",
         "showlegend": true,
         "type": "scattergeo"
        },
        {
         "geo": "geo",
         "hovertemplate": "Country/Region=%{location}<br>Valuation_num=%{marker.size}<extra></extra>",
         "legendgroup": "Philippines",
         "locationmode": "country names",
         "locations": [
          "Philippines"
         ],
         "marker": {
          "color": "#636efa",
          "size": [
           3
          ],
          "sizemode": "area",
          "sizeref": 0.18,
          "symbol": "circle"
         },
         "mode": "markers",
         "name": "Philippines",
         "showlegend": true,
         "type": "scattergeo"
        },
        {
         "geo": "geo",
         "hovertemplate": "Country/Region=%{location}<br>Valuation_num=%{marker.size}<extra></extra>",
         "legendgroup": "South Africa",
         "locationmode": "country names",
         "locations": [
          "South Africa"
         ],
         "marker": {
          "color": "#EF553B",
          "size": [
           3
          ],
          "sizemode": "area",
          "sizeref": 0.18,
          "symbol": "circle"
         },
         "mode": "markers",
         "name": "South Africa",
         "showlegend": true,
         "type": "scattergeo"
        },
        {
         "geo": "geo",
         "hovertemplate": "Country/Region=%{location}<br>Valuation_num=%{marker.size}<extra></extra>",
         "legendgroup": "Thailand",
         "locationmode": "country names",
         "locations": [
          "Thailand"
         ],
         "marker": {
          "color": "#00cc96",
          "size": [
           3
          ],
          "sizemode": "area",
          "sizeref": 0.18,
          "symbol": "circle"
         },
         "mode": "markers",
         "name": "Thailand",
         "showlegend": true,
         "type": "scattergeo"
        },
        {
         "geo": "geo",
         "hovertemplate": "Country/Region=%{location}<br>Valuation_num=%{marker.size}<extra></extra>",
         "legendgroup": "Argentina",
         "locationmode": "country names",
         "locations": [
          "Argentina"
         ],
         "marker": {
          "color": "#ab63fa",
          "size": [
           2
          ],
          "sizemode": "area",
          "sizeref": 0.18,
          "symbol": "circle"
         },
         "mode": "markers",
         "name": "Argentina",
         "showlegend": true,
         "type": "scattergeo"
        },
        {
         "geo": "geo",
         "hovertemplate": "Country/Region=%{location}<br>Valuation_num=%{marker.size}<extra></extra>",
         "legendgroup": "Senegal",
         "locationmode": "country names",
         "locations": [
          "Senegal"
         ],
         "marker": {
          "color": "#FFA15A",
          "size": [
           2
          ],
          "sizemode": "area",
          "sizeref": 0.18,
          "symbol": "circle"
         },
         "mode": "markers",
         "name": "Senegal",
         "showlegend": true,
         "type": "scattergeo"
        },
        {
         "geo": "geo",
         "hovertemplate": "Country/Region=%{location}<br>Valuation_num=%{marker.size}<extra></extra>",
         "legendgroup": "Nigeria",
         "locationmode": "country names",
         "locations": [
          "Nigeria"
         ],
         "marker": {
          "color": "#19d3f3",
          "size": [
           2
          ],
          "sizemode": "area",
          "sizeref": 0.18,
          "symbol": "circle"
         },
         "mode": "markers",
         "name": "Nigeria",
         "showlegend": true,
         "type": "scattergeo"
        },
        {
         "geo": "geo",
         "hovertemplate": "Country/Region=%{location}<br>Valuation_num=%{marker.size}<extra></extra>",
         "legendgroup": "Malaysia",
         "locationmode": "country names",
         "locations": [
          "Malaysia"
         ],
         "marker": {
          "color": "#FF6692",
          "size": [
           2
          ],
          "sizemode": "area",
          "sizeref": 0.18,
          "symbol": "circle"
         },
         "mode": "markers",
         "name": "Malaysia",
         "showlegend": true,
         "type": "scattergeo"
        },
        {
         "geo": "geo",
         "hovertemplate": "Country/Region=%{location}<br>Valuation_num=%{marker.size}<extra></extra>",
         "legendgroup": "Luxembourg",
         "locationmode": "country names",
         "locations": [
          "Luxembourg"
         ],
         "marker": {
          "color": "#B6E880",
          "size": [
           2
          ],
          "sizemode": "area",
          "sizeref": 0.18,
          "symbol": "circle"
         },
         "mode": "markers",
         "name": "Luxembourg",
         "showlegend": true,
         "type": "scattergeo"
        },
        {
         "geo": "geo",
         "hovertemplate": "Country/Region=%{location}<br>Valuation_num=%{marker.size}<extra></extra>",
         "legendgroup": "Bermuda",
         "locationmode": "country names",
         "locations": [
          "Bermuda"
         ],
         "marker": {
          "color": "#FF97FF",
          "size": [
           2
          ],
          "sizemode": "area",
          "sizeref": 0.18,
          "symbol": "circle"
         },
         "mode": "markers",
         "name": "Bermuda",
         "showlegend": true,
         "type": "scattergeo"
        },
        {
         "geo": "geo",
         "hovertemplate": "Country/Region=%{location}<br>Valuation_num=%{marker.size}<extra></extra>",
         "legendgroup": "Czech Republic",
         "locationmode": "country names",
         "locations": [
          "Czech Republic"
         ],
         "marker": {
          "color": "#FECB52",
          "size": [
           1
          ],
          "sizemode": "area",
          "sizeref": 0.18,
          "symbol": "circle"
         },
         "mode": "markers",
         "name": "Czech Republic",
         "showlegend": true,
         "type": "scattergeo"
        },
        {
         "geo": "geo",
         "hovertemplate": "Country/Region=%{location}<br>Valuation_num=%{marker.size}<extra></extra>",
         "legendgroup": "Croatia",
         "locationmode": "country names",
         "locations": [
          "Croatia"
         ],
         "marker": {
          "color": "#636efa",
          "size": [
           1
          ],
          "sizemode": "area",
          "sizeref": 0.18,
          "symbol": "circle"
         },
         "mode": "markers",
         "name": "Croatia",
         "showlegend": true,
         "type": "scattergeo"
        },
        {
         "geo": "geo",
         "hovertemplate": "Country/Region=%{location}<br>Valuation_num=%{marker.size}<extra></extra>",
         "legendgroup": "Italy",
         "locationmode": "country names",
         "locations": [
          "Italy"
         ],
         "marker": {
          "color": "#EF553B",
          "size": [
           1
          ],
          "sizemode": "area",
          "sizeref": 0.18,
          "symbol": "circle"
         },
         "mode": "markers",
         "name": "Italy",
         "showlegend": true,
         "type": "scattergeo"
        }
       ],
       "layout": {
        "geo": {
         "center": {},
         "domain": {
          "x": [
           0,
           1
          ],
          "y": [
           0,
           1
          ]
         }
        },
        "legend": {
         "itemsizing": "constant",
         "title": {
          "text": "Country/Region"
         },
         "tracegroupgap": 0
        },
        "template": {
         "data": {
          "bar": [
           {
            "error_x": {
             "color": "#2a3f5f"
            },
            "error_y": {
             "color": "#2a3f5f"
            },
            "marker": {
             "line": {
              "color": "#E5ECF6",
              "width": 0.5
             },
             "pattern": {
              "fillmode": "overlay",
              "size": 10,
              "solidity": 0.2
             }
            },
            "type": "bar"
           }
          ],
          "barpolar": [
           {
            "marker": {
             "line": {
              "color": "#E5ECF6",
              "width": 0.5
             },
             "pattern": {
              "fillmode": "overlay",
              "size": 10,
              "solidity": 0.2
             }
            },
            "type": "barpolar"
           }
          ],
          "carpet": [
           {
            "aaxis": {
             "endlinecolor": "#2a3f5f",
             "gridcolor": "white",
             "linecolor": "white",
             "minorgridcolor": "white",
             "startlinecolor": "#2a3f5f"
            },
            "baxis": {
             "endlinecolor": "#2a3f5f",
             "gridcolor": "white",
             "linecolor": "white",
             "minorgridcolor": "white",
             "startlinecolor": "#2a3f5f"
            },
            "type": "carpet"
           }
          ],
          "choropleth": [
           {
            "colorbar": {
             "outlinewidth": 0,
             "ticks": ""
            },
            "type": "choropleth"
           }
          ],
          "contour": [
           {
            "colorbar": {
             "outlinewidth": 0,
             "ticks": ""
            },
            "colorscale": [
             [
              0,
              "#0d0887"
             ],
             [
              0.1111111111111111,
              "#46039f"
             ],
             [
              0.2222222222222222,
              "#7201a8"
             ],
             [
              0.3333333333333333,
              "#9c179e"
             ],
             [
              0.4444444444444444,
              "#bd3786"
             ],
             [
              0.5555555555555556,
              "#d8576b"
             ],
             [
              0.6666666666666666,
              "#ed7953"
             ],
             [
              0.7777777777777778,
              "#fb9f3a"
             ],
             [
              0.8888888888888888,
              "#fdca26"
             ],
             [
              1,
              "#f0f921"
             ]
            ],
            "type": "contour"
           }
          ],
          "contourcarpet": [
           {
            "colorbar": {
             "outlinewidth": 0,
             "ticks": ""
            },
            "type": "contourcarpet"
           }
          ],
          "heatmap": [
           {
            "colorbar": {
             "outlinewidth": 0,
             "ticks": ""
            },
            "colorscale": [
             [
              0,
              "#0d0887"
             ],
             [
              0.1111111111111111,
              "#46039f"
             ],
             [
              0.2222222222222222,
              "#7201a8"
             ],
             [
              0.3333333333333333,
              "#9c179e"
             ],
             [
              0.4444444444444444,
              "#bd3786"
             ],
             [
              0.5555555555555556,
              "#d8576b"
             ],
             [
              0.6666666666666666,
              "#ed7953"
             ],
             [
              0.7777777777777778,
              "#fb9f3a"
             ],
             [
              0.8888888888888888,
              "#fdca26"
             ],
             [
              1,
              "#f0f921"
             ]
            ],
            "type": "heatmap"
           }
          ],
          "heatmapgl": [
           {
            "colorbar": {
             "outlinewidth": 0,
             "ticks": ""
            },
            "colorscale": [
             [
              0,
              "#0d0887"
             ],
             [
              0.1111111111111111,
              "#46039f"
             ],
             [
              0.2222222222222222,
              "#7201a8"
             ],
             [
              0.3333333333333333,
              "#9c179e"
             ],
             [
              0.4444444444444444,
              "#bd3786"
             ],
             [
              0.5555555555555556,
              "#d8576b"
             ],
             [
              0.6666666666666666,
              "#ed7953"
             ],
             [
              0.7777777777777778,
              "#fb9f3a"
             ],
             [
              0.8888888888888888,
              "#fdca26"
             ],
             [
              1,
              "#f0f921"
             ]
            ],
            "type": "heatmapgl"
           }
          ],
          "histogram": [
           {
            "marker": {
             "pattern": {
              "fillmode": "overlay",
              "size": 10,
              "solidity": 0.2
             }
            },
            "type": "histogram"
           }
          ],
          "histogram2d": [
           {
            "colorbar": {
             "outlinewidth": 0,
             "ticks": ""
            },
            "colorscale": [
             [
              0,
              "#0d0887"
             ],
             [
              0.1111111111111111,
              "#46039f"
             ],
             [
              0.2222222222222222,
              "#7201a8"
             ],
             [
              0.3333333333333333,
              "#9c179e"
             ],
             [
              0.4444444444444444,
              "#bd3786"
             ],
             [
              0.5555555555555556,
              "#d8576b"
             ],
             [
              0.6666666666666666,
              "#ed7953"
             ],
             [
              0.7777777777777778,
              "#fb9f3a"
             ],
             [
              0.8888888888888888,
              "#fdca26"
             ],
             [
              1,
              "#f0f921"
             ]
            ],
            "type": "histogram2d"
           }
          ],
          "histogram2dcontour": [
           {
            "colorbar": {
             "outlinewidth": 0,
             "ticks": ""
            },
            "colorscale": [
             [
              0,
              "#0d0887"
             ],
             [
              0.1111111111111111,
              "#46039f"
             ],
             [
              0.2222222222222222,
              "#7201a8"
             ],
             [
              0.3333333333333333,
              "#9c179e"
             ],
             [
              0.4444444444444444,
              "#bd3786"
             ],
             [
              0.5555555555555556,
              "#d8576b"
             ],
             [
              0.6666666666666666,
              "#ed7953"
             ],
             [
              0.7777777777777778,
              "#fb9f3a"
             ],
             [
              0.8888888888888888,
              "#fdca26"
             ],
             [
              1,
              "#f0f921"
             ]
            ],
            "type": "histogram2dcontour"
           }
          ],
          "mesh3d": [
           {
            "colorbar": {
             "outlinewidth": 0,
             "ticks": ""
            },
            "type": "mesh3d"
           }
          ],
          "parcoords": [
           {
            "line": {
             "colorbar": {
              "outlinewidth": 0,
              "ticks": ""
             }
            },
            "type": "parcoords"
           }
          ],
          "pie": [
           {
            "automargin": true,
            "type": "pie"
           }
          ],
          "scatter": [
           {
            "fillpattern": {
             "fillmode": "overlay",
             "size": 10,
             "solidity": 0.2
            },
            "type": "scatter"
           }
          ],
          "scatter3d": [
           {
            "line": {
             "colorbar": {
              "outlinewidth": 0,
              "ticks": ""
             }
            },
            "marker": {
             "colorbar": {
              "outlinewidth": 0,
              "ticks": ""
             }
            },
            "type": "scatter3d"
           }
          ],
          "scattercarpet": [
           {
            "marker": {
             "colorbar": {
              "outlinewidth": 0,
              "ticks": ""
             }
            },
            "type": "scattercarpet"
           }
          ],
          "scattergeo": [
           {
            "marker": {
             "colorbar": {
              "outlinewidth": 0,
              "ticks": ""
             }
            },
            "type": "scattergeo"
           }
          ],
          "scattergl": [
           {
            "marker": {
             "colorbar": {
              "outlinewidth": 0,
              "ticks": ""
             }
            },
            "type": "scattergl"
           }
          ],
          "scattermapbox": [
           {
            "marker": {
             "colorbar": {
              "outlinewidth": 0,
              "ticks": ""
             }
            },
            "type": "scattermapbox"
           }
          ],
          "scatterpolar": [
           {
            "marker": {
             "colorbar": {
              "outlinewidth": 0,
              "ticks": ""
             }
            },
            "type": "scatterpolar"
           }
          ],
          "scatterpolargl": [
           {
            "marker": {
             "colorbar": {
              "outlinewidth": 0,
              "ticks": ""
             }
            },
            "type": "scatterpolargl"
           }
          ],
          "scatterternary": [
           {
            "marker": {
             "colorbar": {
              "outlinewidth": 0,
              "ticks": ""
             }
            },
            "type": "scatterternary"
           }
          ],
          "surface": [
           {
            "colorbar": {
             "outlinewidth": 0,
             "ticks": ""
            },
            "colorscale": [
             [
              0,
              "#0d0887"
             ],
             [
              0.1111111111111111,
              "#46039f"
             ],
             [
              0.2222222222222222,
              "#7201a8"
             ],
             [
              0.3333333333333333,
              "#9c179e"
             ],
             [
              0.4444444444444444,
              "#bd3786"
             ],
             [
              0.5555555555555556,
              "#d8576b"
             ],
             [
              0.6666666666666666,
              "#ed7953"
             ],
             [
              0.7777777777777778,
              "#fb9f3a"
             ],
             [
              0.8888888888888888,
              "#fdca26"
             ],
             [
              1,
              "#f0f921"
             ]
            ],
            "type": "surface"
           }
          ],
          "table": [
           {
            "cells": {
             "fill": {
              "color": "#EBF0F8"
             },
             "line": {
              "color": "white"
             }
            },
            "header": {
             "fill": {
              "color": "#C8D4E3"
             },
             "line": {
              "color": "white"
             }
            },
            "type": "table"
           }
          ]
         },
         "layout": {
          "annotationdefaults": {
           "arrowcolor": "#2a3f5f",
           "arrowhead": 0,
           "arrowwidth": 1
          },
          "autotypenumbers": "strict",
          "coloraxis": {
           "colorbar": {
            "outlinewidth": 0,
            "ticks": ""
           }
          },
          "colorscale": {
           "diverging": [
            [
             0,
             "#8e0152"
            ],
            [
             0.1,
             "#c51b7d"
            ],
            [
             0.2,
             "#de77ae"
            ],
            [
             0.3,
             "#f1b6da"
            ],
            [
             0.4,
             "#fde0ef"
            ],
            [
             0.5,
             "#f7f7f7"
            ],
            [
             0.6,
             "#e6f5d0"
            ],
            [
             0.7,
             "#b8e186"
            ],
            [
             0.8,
             "#7fbc41"
            ],
            [
             0.9,
             "#4d9221"
            ],
            [
             1,
             "#276419"
            ]
           ],
           "sequential": [
            [
             0,
             "#0d0887"
            ],
            [
             0.1111111111111111,
             "#46039f"
            ],
            [
             0.2222222222222222,
             "#7201a8"
            ],
            [
             0.3333333333333333,
             "#9c179e"
            ],
            [
             0.4444444444444444,
             "#bd3786"
            ],
            [
             0.5555555555555556,
             "#d8576b"
            ],
            [
             0.6666666666666666,
             "#ed7953"
            ],
            [
             0.7777777777777778,
             "#fb9f3a"
            ],
            [
             0.8888888888888888,
             "#fdca26"
            ],
            [
             1,
             "#f0f921"
            ]
           ],
           "sequentialminus": [
            [
             0,
             "#0d0887"
            ],
            [
             0.1111111111111111,
             "#46039f"
            ],
            [
             0.2222222222222222,
             "#7201a8"
            ],
            [
             0.3333333333333333,
             "#9c179e"
            ],
            [
             0.4444444444444444,
             "#bd3786"
            ],
            [
             0.5555555555555556,
             "#d8576b"
            ],
            [
             0.6666666666666666,
             "#ed7953"
            ],
            [
             0.7777777777777778,
             "#fb9f3a"
            ],
            [
             0.8888888888888888,
             "#fdca26"
            ],
            [
             1,
             "#f0f921"
            ]
           ]
          },
          "colorway": [
           "#636efa",
           "#EF553B",
           "#00cc96",
           "#ab63fa",
           "#FFA15A",
           "#19d3f3",
           "#FF6692",
           "#B6E880",
           "#FF97FF",
           "#FECB52"
          ],
          "font": {
           "color": "#2a3f5f"
          },
          "geo": {
           "bgcolor": "white",
           "lakecolor": "white",
           "landcolor": "#E5ECF6",
           "showlakes": true,
           "showland": true,
           "subunitcolor": "white"
          },
          "hoverlabel": {
           "align": "left"
          },
          "hovermode": "closest",
          "mapbox": {
           "style": "light"
          },
          "paper_bgcolor": "white",
          "plot_bgcolor": "#E5ECF6",
          "polar": {
           "angularaxis": {
            "gridcolor": "white",
            "linecolor": "white",
            "ticks": ""
           },
           "bgcolor": "#E5ECF6",
           "radialaxis": {
            "gridcolor": "white",
            "linecolor": "white",
            "ticks": ""
           }
          },
          "scene": {
           "xaxis": {
            "backgroundcolor": "#E5ECF6",
            "gridcolor": "white",
            "gridwidth": 2,
            "linecolor": "white",
            "showbackground": true,
            "ticks": "",
            "zerolinecolor": "white"
           },
           "yaxis": {
            "backgroundcolor": "#E5ECF6",
            "gridcolor": "white",
            "gridwidth": 2,
            "linecolor": "white",
            "showbackground": true,
            "ticks": "",
            "zerolinecolor": "white"
           },
           "zaxis": {
            "backgroundcolor": "#E5ECF6",
            "gridcolor": "white",
            "gridwidth": 2,
            "linecolor": "white",
            "showbackground": true,
            "ticks": "",
            "zerolinecolor": "white"
           }
          },
          "shapedefaults": {
           "line": {
            "color": "#2a3f5f"
           }
          },
          "ternary": {
           "aaxis": {
            "gridcolor": "white",
            "linecolor": "white",
            "ticks": ""
           },
           "baxis": {
            "gridcolor": "white",
            "linecolor": "white",
            "ticks": ""
           },
           "bgcolor": "#E5ECF6",
           "caxis": {
            "gridcolor": "white",
            "linecolor": "white",
            "ticks": ""
           }
          },
          "title": {
           "x": 0.05
          },
          "xaxis": {
           "automargin": true,
           "gridcolor": "white",
           "linecolor": "white",
           "ticks": "",
           "title": {
            "standoff": 15
           },
           "zerolinecolor": "white",
           "zerolinewidth": 2
          },
          "yaxis": {
           "automargin": true,
           "gridcolor": "white",
           "linecolor": "white",
           "ticks": "",
           "title": {
            "standoff": 15
           },
           "zerolinecolor": "white",
           "zerolinewidth": 2
          }
         }
        },
        "title": {
         "text": "Global Unicorn Company Values"
        }
       }
      },
      "text/html": [
       "<div>                            <div id=\"c3ea32b2-f1db-43ad-a0a6-32613c4f4605\" class=\"plotly-graph-div\" style=\"height:525px; width:100%;\"></div>            <script type=\"text/javascript\">                require([\"plotly\"], function(Plotly) {                    window.PLOTLYENV=window.PLOTLYENV || {};                                    if (document.getElementById(\"c3ea32b2-f1db-43ad-a0a6-32613c4f4605\")) {                    Plotly.newPlot(                        \"c3ea32b2-f1db-43ad-a0a6-32613c4f4605\",                        [{\"geo\":\"geo\",\"hovertemplate\":\"Country/Region=%{location}<br>Valuation_num=%{marker.size}<extra></extra>\",\"legendgroup\":\"Germany\",\"locationmode\":\"country names\",\"locations\":[\"Germany\"],\"marker\":{\"color\":\"#636efa\",\"size\":[72],\"sizemode\":\"area\",\"sizeref\":0.18,\"symbol\":\"circle\"},\"mode\":\"markers\",\"name\":\"Germany\",\"showlegend\":true,\"type\":\"scattergeo\"},{\"geo\":\"geo\",\"hovertemplate\":\"Country/Region=%{location}<br>Valuation_num=%{marker.size}<extra></extra>\",\"legendgroup\":\"Sweden\",\"locationmode\":\"country names\",\"locations\":[\"Sweden\"],\"marker\":{\"color\":\"#EF553B\",\"size\":[63],\"sizemode\":\"area\",\"sizeref\":0.18,\"symbol\":\"circle\"},\"mode\":\"markers\",\"name\":\"Sweden\",\"showlegend\":true,\"type\":\"scattergeo\"},{\"geo\":\"geo\",\"hovertemplate\":\"Country/Region=%{location}<br>Valuation_num=%{marker.size}<extra></extra>\",\"legendgroup\":\"Australia\",\"locationmode\":\"country names\",\"locations\":[\"Australia\"],\"marker\":{\"color\":\"#00cc96\",\"size\":[56],\"sizemode\":\"area\",\"sizeref\":0.18,\"symbol\":\"circle\"},\"mode\":\"markers\",\"name\":\"Australia\",\"showlegend\":true,\"type\":\"scattergeo\"},{\"geo\":\"geo\",\"hovertemplate\":\"Country/Region=%{location}<br>Valuation_num=%{marker.size}<extra></extra>\",\"legendgroup\":\"France\",\"locationmode\":\"country names\",\"locations\":[\"France\"],\"marker\":{\"color\":\"#ab63fa\",\"size\":[55],\"sizemode\":\"area\",\"sizeref\":0.18,\"symbol\":\"circle\"},\"mode\":\"markers\",\"name\":\"France\",\"showlegend\":true,\"type\":\"scattergeo\"},{\"geo\":\"geo\",\"hovertemplate\":\"Country/Region=%{location}<br>Valuation_num=%{marker.size}<extra></extra>\",\"legendgroup\":\"Canada\",\"locationmode\":\"country names\",\"locations\":[\"Canada\"],\"marker\":{\"color\":\"#FFA15A\",\"size\":[49],\"sizemode\":\"area\",\"sizeref\":0.18,\"symbol\":\"circle\"},\"mode\":\"markers\",\"name\":\"Canada\",\"showlegend\":true,\"type\":\"scattergeo\"},{\"geo\":\"geo\",\"hovertemplate\":\"Country/Region=%{location}<br>Valuation_num=%{marker.size}<extra></extra>\",\"legendgroup\":\"South Korea\",\"locationmode\":\"country names\",\"locations\":[\"South Korea\"],\"marker\":{\"color\":\"#19d3f3\",\"size\":[41],\"sizemode\":\"area\",\"sizeref\":0.18,\"symbol\":\"circle\"},\"mode\":\"markers\",\"name\":\"South Korea\",\"showlegend\":true,\"type\":\"scattergeo\"},{\"geo\":\"geo\",\"hovertemplate\":\"Country/Region=%{location}<br>Valuation_num=%{marker.size}<extra></extra>\",\"legendgroup\":\"Israel\",\"locationmode\":\"country names\",\"locations\":[\"Israel\"],\"marker\":{\"color\":\"#FF6692\",\"size\":[39],\"sizemode\":\"area\",\"sizeref\":0.18,\"symbol\":\"circle\"},\"mode\":\"markers\",\"name\":\"Israel\",\"showlegend\":true,\"type\":\"scattergeo\"},{\"geo\":\"geo\",\"hovertemplate\":\"Country/Region=%{location}<br>Valuation_num=%{marker.size}<extra></extra>\",\"legendgroup\":\"Brazil\",\"locationmode\":\"country names\",\"locations\":[\"Brazil\"],\"marker\":{\"color\":\"#B6E880\",\"size\":[37],\"sizemode\":\"area\",\"sizeref\":0.18,\"symbol\":\"circle\"},\"mode\":\"markers\",\"name\":\"Brazil\",\"showlegend\":true,\"type\":\"scattergeo\"},{\"geo\":\"geo\",\"hovertemplate\":\"Country/Region=%{location}<br>Valuation_num=%{marker.size}<extra></extra>\",\"legendgroup\":\"Bahamas\",\"locationmode\":\"country names\",\"locations\":[\"Bahamas\"],\"marker\":{\"color\":\"#FF97FF\",\"size\":[32],\"sizemode\":\"area\",\"sizeref\":0.18,\"symbol\":\"circle\"},\"mode\":\"markers\",\"name\":\"Bahamas\",\"showlegend\":true,\"type\":\"scattergeo\"},{\"geo\":\"geo\",\"hovertemplate\":\"Country/Region=%{location}<br>Valuation_num=%{marker.size}<extra></extra>\",\"legendgroup\":\"Indonesia\",\"locationmode\":\"country names\",\"locations\":[\"Indonesia\"],\"marker\":{\"color\":\"#FECB52\",\"size\":[28],\"sizemode\":\"area\",\"sizeref\":0.18,\"symbol\":\"circle\"},\"mode\":\"markers\",\"name\":\"Indonesia\",\"showlegend\":true,\"type\":\"scattergeo\"},{\"geo\":\"geo\",\"hovertemplate\":\"Country/Region=%{location}<br>Valuation_num=%{marker.size}<extra></extra>\",\"legendgroup\":\"Singapore\",\"locationmode\":\"country names\",\"locations\":[\"Singapore\"],\"marker\":{\"color\":\"#636efa\",\"size\":[21],\"sizemode\":\"area\",\"sizeref\":0.18,\"symbol\":\"circle\"},\"mode\":\"markers\",\"name\":\"Singapore\",\"showlegend\":true,\"type\":\"scattergeo\"},{\"geo\":\"geo\",\"hovertemplate\":\"Country/Region=%{location}<br>Valuation_num=%{marker.size}<extra></extra>\",\"legendgroup\":\"Netherlands\",\"locationmode\":\"country names\",\"locations\":[\"Netherlands\"],\"marker\":{\"color\":\"#EF553B\",\"size\":[19],\"sizemode\":\"area\",\"sizeref\":0.18,\"symbol\":\"circle\"},\"mode\":\"markers\",\"name\":\"Netherlands\",\"showlegend\":true,\"type\":\"scattergeo\"},{\"geo\":\"geo\",\"hovertemplate\":\"Country/Region=%{location}<br>Valuation_num=%{marker.size}<extra></extra>\",\"legendgroup\":\"Hong Kong\",\"locationmode\":\"country names\",\"locations\":[\"Hong Kong\"],\"marker\":{\"color\":\"#00cc96\",\"size\":[18],\"sizemode\":\"area\",\"sizeref\":0.18,\"symbol\":\"circle\"},\"mode\":\"markers\",\"name\":\"Hong Kong\",\"showlegend\":true,\"type\":\"scattergeo\"},{\"geo\":\"geo\",\"hovertemplate\":\"Country/Region=%{location}<br>Valuation_num=%{marker.size}<extra></extra>\",\"legendgroup\":\"Turkey\",\"locationmode\":\"country names\",\"locations\":[\"Turkey\"],\"marker\":{\"color\":\"#ab63fa\",\"size\":[16],\"sizemode\":\"area\",\"sizeref\":0.18,\"symbol\":\"circle\"},\"mode\":\"markers\",\"name\":\"Turkey\",\"showlegend\":true,\"type\":\"scattergeo\"},{\"geo\":\"geo\",\"hovertemplate\":\"Country/Region=%{location}<br>Valuation_num=%{marker.size}<extra></extra>\",\"legendgroup\":\"Mexico\",\"locationmode\":\"country names\",\"locations\":[\"Mexico\"],\"marker\":{\"color\":\"#FFA15A\",\"size\":[16],\"sizemode\":\"area\",\"sizeref\":0.18,\"symbol\":\"circle\"},\"mode\":\"markers\",\"name\":\"Mexico\",\"showlegend\":true,\"type\":\"scattergeo\"},{\"geo\":\"geo\",\"hovertemplate\":\"Country/Region=%{location}<br>Valuation_num=%{marker.size}<extra></extra>\",\"legendgroup\":\"Estonia\",\"locationmode\":\"country names\",\"locations\":[\"Estonia\"],\"marker\":{\"color\":\"#19d3f3\",\"size\":[13],\"sizemode\":\"area\",\"sizeref\":0.18,\"symbol\":\"circle\"},\"mode\":\"markers\",\"name\":\"Estonia\",\"showlegend\":true,\"type\":\"scattergeo\"},{\"geo\":\"geo\",\"hovertemplate\":\"Country/Region=%{location}<br>Valuation_num=%{marker.size}<extra></extra>\",\"legendgroup\":\"Finland\",\"locationmode\":\"country names\",\"locations\":[\"Finland\"],\"marker\":{\"color\":\"#FF6692\",\"size\":[12],\"sizemode\":\"area\",\"sizeref\":0.18,\"symbol\":\"circle\"},\"mode\":\"markers\",\"name\":\"Finland\",\"showlegend\":true,\"type\":\"scattergeo\"},{\"geo\":\"geo\",\"hovertemplate\":\"Country/Region=%{location}<br>Valuation_num=%{marker.size}<extra></extra>\",\"legendgroup\":\"Ireland\",\"locationmode\":\"country names\",\"locations\":[\"Ireland\"],\"marker\":{\"color\":\"#B6E880\",\"size\":[9],\"sizemode\":\"area\",\"sizeref\":0.18,\"symbol\":\"circle\"},\"mode\":\"markers\",\"name\":\"Ireland\",\"showlegend\":true,\"type\":\"scattergeo\"},{\"geo\":\"geo\",\"hovertemplate\":\"Country/Region=%{location}<br>Valuation_num=%{marker.size}<extra></extra>\",\"legendgroup\":\"Switzerland\",\"locationmode\":\"country names\",\"locations\":[\"Switzerland\"],\"marker\":{\"color\":\"#FF97FF\",\"size\":[8],\"sizemode\":\"area\",\"sizeref\":0.18,\"symbol\":\"circle\"},\"mode\":\"markers\",\"name\":\"Switzerland\",\"showlegend\":true,\"type\":\"scattergeo\"},{\"geo\":\"geo\",\"hovertemplate\":\"Country/Region=%{location}<br>Valuation_num=%{marker.size}<extra></extra>\",\"legendgroup\":\"Japan\",\"locationmode\":\"country names\",\"locations\":[\"Japan\"],\"marker\":{\"color\":\"#FECB52\",\"size\":[8],\"sizemode\":\"area\",\"sizeref\":0.18,\"symbol\":\"circle\"},\"mode\":\"markers\",\"name\":\"Japan\",\"showlegend\":true,\"type\":\"scattergeo\"},{\"geo\":\"geo\",\"hovertemplate\":\"Country/Region=%{location}<br>Valuation_num=%{marker.size}<extra></extra>\",\"legendgroup\":\"Belgium\",\"locationmode\":\"country names\",\"locations\":[\"Belgium\"],\"marker\":{\"color\":\"#636efa\",\"size\":[8],\"sizemode\":\"area\",\"sizeref\":0.18,\"symbol\":\"circle\"},\"mode\":\"markers\",\"name\":\"Belgium\",\"showlegend\":true,\"type\":\"scattergeo\"},{\"geo\":\"geo\",\"hovertemplate\":\"Country/Region=%{location}<br>Valuation_num=%{marker.size}<extra></extra>\",\"legendgroup\":\"Denmark\",\"locationmode\":\"country names\",\"locations\":[\"Denmark\"],\"marker\":{\"color\":\"#EF553B\",\"size\":[7],\"sizemode\":\"area\",\"sizeref\":0.18,\"symbol\":\"circle\"},\"mode\":\"markers\",\"name\":\"Denmark\",\"showlegend\":true,\"type\":\"scattergeo\"},{\"geo\":\"geo\",\"hovertemplate\":\"Country/Region=%{location}<br>Valuation_num=%{marker.size}<extra></extra>\",\"legendgroup\":\"Austria\",\"locationmode\":\"country names\",\"locations\":[\"Austria\"],\"marker\":{\"color\":\"#00cc96\",\"size\":[7],\"sizemode\":\"area\",\"sizeref\":0.18,\"symbol\":\"circle\"},\"mode\":\"markers\",\"name\":\"Austria\",\"showlegend\":true,\"type\":\"scattergeo\"},{\"geo\":\"geo\",\"hovertemplate\":\"Country/Region=%{location}<br>Valuation_num=%{marker.size}<extra></extra>\",\"legendgroup\":\"Colombia\",\"locationmode\":\"country names\",\"locations\":[\"Colombia\"],\"marker\":{\"color\":\"#ab63fa\",\"size\":[6],\"sizemode\":\"area\",\"sizeref\":0.18,\"symbol\":\"circle\"},\"mode\":\"markers\",\"name\":\"Colombia\",\"showlegend\":true,\"type\":\"scattergeo\"},{\"geo\":\"geo\",\"hovertemplate\":\"Country/Region=%{location}<br>Valuation_num=%{marker.size}<extra></extra>\",\"legendgroup\":\"Norway\",\"locationmode\":\"country names\",\"locations\":[\"Norway\"],\"marker\":{\"color\":\"#FFA15A\",\"size\":[5],\"sizemode\":\"area\",\"sizeref\":0.18,\"symbol\":\"circle\"},\"mode\":\"markers\",\"name\":\"Norway\",\"showlegend\":true,\"type\":\"scattergeo\"},{\"geo\":\"geo\",\"hovertemplate\":\"Country/Region=%{location}<br>Valuation_num=%{marker.size}<extra></extra>\",\"legendgroup\":\"Vietnam\",\"locationmode\":\"country names\",\"locations\":[\"Vietnam\"],\"marker\":{\"color\":\"#19d3f3\",\"size\":[5],\"sizemode\":\"area\",\"sizeref\":0.18,\"symbol\":\"circle\"},\"mode\":\"markers\",\"name\":\"Vietnam\",\"showlegend\":true,\"type\":\"scattergeo\"},{\"geo\":\"geo\",\"hovertemplate\":\"Country/Region=%{location}<br>Valuation_num=%{marker.size}<extra></extra>\",\"legendgroup\":\"Lithuania\",\"locationmode\":\"country names\",\"locations\":[\"Lithuania\"],\"marker\":{\"color\":\"#FF6692\",\"size\":[5],\"sizemode\":\"area\",\"sizeref\":0.18,\"symbol\":\"circle\"},\"mode\":\"markers\",\"name\":\"Lithuania\",\"showlegend\":true,\"type\":\"scattergeo\"},{\"geo\":\"geo\",\"hovertemplate\":\"Country/Region=%{location}<br>Valuation_num=%{marker.size}<extra></extra>\",\"legendgroup\":\"United Arab Emirates\",\"locationmode\":\"country names\",\"locations\":[\"United Arab Emirates\"],\"marker\":{\"color\":\"#B6E880\",\"size\":[5],\"sizemode\":\"area\",\"sizeref\":0.18,\"symbol\":\"circle\"},\"mode\":\"markers\",\"name\":\"United Arab Emirates\",\"showlegend\":true,\"type\":\"scattergeo\"},{\"geo\":\"geo\",\"hovertemplate\":\"Country/Region=%{location}<br>Valuation_num=%{marker.size}<extra></extra>\",\"legendgroup\":\"Spain\",\"locationmode\":\"country names\",\"locations\":[\"Spain\"],\"marker\":{\"color\":\"#FF97FF\",\"size\":[4],\"sizemode\":\"area\",\"sizeref\":0.18,\"symbol\":\"circle\"},\"mode\":\"markers\",\"name\":\"Spain\",\"showlegend\":true,\"type\":\"scattergeo\"},{\"geo\":\"geo\",\"hovertemplate\":\"Country/Region=%{location}<br>Valuation_num=%{marker.size}<extra></extra>\",\"legendgroup\":\"Chile\",\"locationmode\":\"country names\",\"locations\":[\"Chile\"],\"marker\":{\"color\":\"#FECB52\",\"size\":[3],\"sizemode\":\"area\",\"sizeref\":0.18,\"symbol\":\"circle\"},\"mode\":\"markers\",\"name\":\"Chile\",\"showlegend\":true,\"type\":\"scattergeo\"},{\"geo\":\"geo\",\"hovertemplate\":\"Country/Region=%{location}<br>Valuation_num=%{marker.size}<extra></extra>\",\"legendgroup\":\"Philippines\",\"locationmode\":\"country names\",\"locations\":[\"Philippines\"],\"marker\":{\"color\":\"#636efa\",\"size\":[3],\"sizemode\":\"area\",\"sizeref\":0.18,\"symbol\":\"circle\"},\"mode\":\"markers\",\"name\":\"Philippines\",\"showlegend\":true,\"type\":\"scattergeo\"},{\"geo\":\"geo\",\"hovertemplate\":\"Country/Region=%{location}<br>Valuation_num=%{marker.size}<extra></extra>\",\"legendgroup\":\"South Africa\",\"locationmode\":\"country names\",\"locations\":[\"South Africa\"],\"marker\":{\"color\":\"#EF553B\",\"size\":[3],\"sizemode\":\"area\",\"sizeref\":0.18,\"symbol\":\"circle\"},\"mode\":\"markers\",\"name\":\"South Africa\",\"showlegend\":true,\"type\":\"scattergeo\"},{\"geo\":\"geo\",\"hovertemplate\":\"Country/Region=%{location}<br>Valuation_num=%{marker.size}<extra></extra>\",\"legendgroup\":\"Thailand\",\"locationmode\":\"country names\",\"locations\":[\"Thailand\"],\"marker\":{\"color\":\"#00cc96\",\"size\":[3],\"sizemode\":\"area\",\"sizeref\":0.18,\"symbol\":\"circle\"},\"mode\":\"markers\",\"name\":\"Thailand\",\"showlegend\":true,\"type\":\"scattergeo\"},{\"geo\":\"geo\",\"hovertemplate\":\"Country/Region=%{location}<br>Valuation_num=%{marker.size}<extra></extra>\",\"legendgroup\":\"Argentina\",\"locationmode\":\"country names\",\"locations\":[\"Argentina\"],\"marker\":{\"color\":\"#ab63fa\",\"size\":[2],\"sizemode\":\"area\",\"sizeref\":0.18,\"symbol\":\"circle\"},\"mode\":\"markers\",\"name\":\"Argentina\",\"showlegend\":true,\"type\":\"scattergeo\"},{\"geo\":\"geo\",\"hovertemplate\":\"Country/Region=%{location}<br>Valuation_num=%{marker.size}<extra></extra>\",\"legendgroup\":\"Senegal\",\"locationmode\":\"country names\",\"locations\":[\"Senegal\"],\"marker\":{\"color\":\"#FFA15A\",\"size\":[2],\"sizemode\":\"area\",\"sizeref\":0.18,\"symbol\":\"circle\"},\"mode\":\"markers\",\"name\":\"Senegal\",\"showlegend\":true,\"type\":\"scattergeo\"},{\"geo\":\"geo\",\"hovertemplate\":\"Country/Region=%{location}<br>Valuation_num=%{marker.size}<extra></extra>\",\"legendgroup\":\"Nigeria\",\"locationmode\":\"country names\",\"locations\":[\"Nigeria\"],\"marker\":{\"color\":\"#19d3f3\",\"size\":[2],\"sizemode\":\"area\",\"sizeref\":0.18,\"symbol\":\"circle\"},\"mode\":\"markers\",\"name\":\"Nigeria\",\"showlegend\":true,\"type\":\"scattergeo\"},{\"geo\":\"geo\",\"hovertemplate\":\"Country/Region=%{location}<br>Valuation_num=%{marker.size}<extra></extra>\",\"legendgroup\":\"Malaysia\",\"locationmode\":\"country names\",\"locations\":[\"Malaysia\"],\"marker\":{\"color\":\"#FF6692\",\"size\":[2],\"sizemode\":\"area\",\"sizeref\":0.18,\"symbol\":\"circle\"},\"mode\":\"markers\",\"name\":\"Malaysia\",\"showlegend\":true,\"type\":\"scattergeo\"},{\"geo\":\"geo\",\"hovertemplate\":\"Country/Region=%{location}<br>Valuation_num=%{marker.size}<extra></extra>\",\"legendgroup\":\"Luxembourg\",\"locationmode\":\"country names\",\"locations\":[\"Luxembourg\"],\"marker\":{\"color\":\"#B6E880\",\"size\":[2],\"sizemode\":\"area\",\"sizeref\":0.18,\"symbol\":\"circle\"},\"mode\":\"markers\",\"name\":\"Luxembourg\",\"showlegend\":true,\"type\":\"scattergeo\"},{\"geo\":\"geo\",\"hovertemplate\":\"Country/Region=%{location}<br>Valuation_num=%{marker.size}<extra></extra>\",\"legendgroup\":\"Bermuda\",\"locationmode\":\"country names\",\"locations\":[\"Bermuda\"],\"marker\":{\"color\":\"#FF97FF\",\"size\":[2],\"sizemode\":\"area\",\"sizeref\":0.18,\"symbol\":\"circle\"},\"mode\":\"markers\",\"name\":\"Bermuda\",\"showlegend\":true,\"type\":\"scattergeo\"},{\"geo\":\"geo\",\"hovertemplate\":\"Country/Region=%{location}<br>Valuation_num=%{marker.size}<extra></extra>\",\"legendgroup\":\"Czech Republic\",\"locationmode\":\"country names\",\"locations\":[\"Czech Republic\"],\"marker\":{\"color\":\"#FECB52\",\"size\":[1],\"sizemode\":\"area\",\"sizeref\":0.18,\"symbol\":\"circle\"},\"mode\":\"markers\",\"name\":\"Czech Republic\",\"showlegend\":true,\"type\":\"scattergeo\"},{\"geo\":\"geo\",\"hovertemplate\":\"Country/Region=%{location}<br>Valuation_num=%{marker.size}<extra></extra>\",\"legendgroup\":\"Croatia\",\"locationmode\":\"country names\",\"locations\":[\"Croatia\"],\"marker\":{\"color\":\"#636efa\",\"size\":[1],\"sizemode\":\"area\",\"sizeref\":0.18,\"symbol\":\"circle\"},\"mode\":\"markers\",\"name\":\"Croatia\",\"showlegend\":true,\"type\":\"scattergeo\"},{\"geo\":\"geo\",\"hovertemplate\":\"Country/Region=%{location}<br>Valuation_num=%{marker.size}<extra></extra>\",\"legendgroup\":\"Italy\",\"locationmode\":\"country names\",\"locations\":[\"Italy\"],\"marker\":{\"color\":\"#EF553B\",\"size\":[1],\"sizemode\":\"area\",\"sizeref\":0.18,\"symbol\":\"circle\"},\"mode\":\"markers\",\"name\":\"Italy\",\"showlegend\":true,\"type\":\"scattergeo\"}],                        {\"template\":{\"data\":{\"histogram2dcontour\":[{\"type\":\"histogram2dcontour\",\"colorbar\":{\"outlinewidth\":0,\"ticks\":\"\"},\"colorscale\":[[0.0,\"#0d0887\"],[0.1111111111111111,\"#46039f\"],[0.2222222222222222,\"#7201a8\"],[0.3333333333333333,\"#9c179e\"],[0.4444444444444444,\"#bd3786\"],[0.5555555555555556,\"#d8576b\"],[0.6666666666666666,\"#ed7953\"],[0.7777777777777778,\"#fb9f3a\"],[0.8888888888888888,\"#fdca26\"],[1.0,\"#f0f921\"]]}],\"choropleth\":[{\"type\":\"choropleth\",\"colorbar\":{\"outlinewidth\":0,\"ticks\":\"\"}}],\"histogram2d\":[{\"type\":\"histogram2d\",\"colorbar\":{\"outlinewidth\":0,\"ticks\":\"\"},\"colorscale\":[[0.0,\"#0d0887\"],[0.1111111111111111,\"#46039f\"],[0.2222222222222222,\"#7201a8\"],[0.3333333333333333,\"#9c179e\"],[0.4444444444444444,\"#bd3786\"],[0.5555555555555556,\"#d8576b\"],[0.6666666666666666,\"#ed7953\"],[0.7777777777777778,\"#fb9f3a\"],[0.8888888888888888,\"#fdca26\"],[1.0,\"#f0f921\"]]}],\"heatmap\":[{\"type\":\"heatmap\",\"colorbar\":{\"outlinewidth\":0,\"ticks\":\"\"},\"colorscale\":[[0.0,\"#0d0887\"],[0.1111111111111111,\"#46039f\"],[0.2222222222222222,\"#7201a8\"],[0.3333333333333333,\"#9c179e\"],[0.4444444444444444,\"#bd3786\"],[0.5555555555555556,\"#d8576b\"],[0.6666666666666666,\"#ed7953\"],[0.7777777777777778,\"#fb9f3a\"],[0.8888888888888888,\"#fdca26\"],[1.0,\"#f0f921\"]]}],\"heatmapgl\":[{\"type\":\"heatmapgl\",\"colorbar\":{\"outlinewidth\":0,\"ticks\":\"\"},\"colorscale\":[[0.0,\"#0d0887\"],[0.1111111111111111,\"#46039f\"],[0.2222222222222222,\"#7201a8\"],[0.3333333333333333,\"#9c179e\"],[0.4444444444444444,\"#bd3786\"],[0.5555555555555556,\"#d8576b\"],[0.6666666666666666,\"#ed7953\"],[0.7777777777777778,\"#fb9f3a\"],[0.8888888888888888,\"#fdca26\"],[1.0,\"#f0f921\"]]}],\"contourcarpet\":[{\"type\":\"contourcarpet\",\"colorbar\":{\"outlinewidth\":0,\"ticks\":\"\"}}],\"contour\":[{\"type\":\"contour\",\"colorbar\":{\"outlinewidth\":0,\"ticks\":\"\"},\"colorscale\":[[0.0,\"#0d0887\"],[0.1111111111111111,\"#46039f\"],[0.2222222222222222,\"#7201a8\"],[0.3333333333333333,\"#9c179e\"],[0.4444444444444444,\"#bd3786\"],[0.5555555555555556,\"#d8576b\"],[0.6666666666666666,\"#ed7953\"],[0.7777777777777778,\"#fb9f3a\"],[0.8888888888888888,\"#fdca26\"],[1.0,\"#f0f921\"]]}],\"surface\":[{\"type\":\"surface\",\"colorbar\":{\"outlinewidth\":0,\"ticks\":\"\"},\"colorscale\":[[0.0,\"#0d0887\"],[0.1111111111111111,\"#46039f\"],[0.2222222222222222,\"#7201a8\"],[0.3333333333333333,\"#9c179e\"],[0.4444444444444444,\"#bd3786\"],[0.5555555555555556,\"#d8576b\"],[0.6666666666666666,\"#ed7953\"],[0.7777777777777778,\"#fb9f3a\"],[0.8888888888888888,\"#fdca26\"],[1.0,\"#f0f921\"]]}],\"mesh3d\":[{\"type\":\"mesh3d\",\"colorbar\":{\"outlinewidth\":0,\"ticks\":\"\"}}],\"scatter\":[{\"fillpattern\":{\"fillmode\":\"overlay\",\"size\":10,\"solidity\":0.2},\"type\":\"scatter\"}],\"parcoords\":[{\"type\":\"parcoords\",\"line\":{\"colorbar\":{\"outlinewidth\":0,\"ticks\":\"\"}}}],\"scatterpolargl\":[{\"type\":\"scatterpolargl\",\"marker\":{\"colorbar\":{\"outlinewidth\":0,\"ticks\":\"\"}}}],\"bar\":[{\"error_x\":{\"color\":\"#2a3f5f\"},\"error_y\":{\"color\":\"#2a3f5f\"},\"marker\":{\"line\":{\"color\":\"#E5ECF6\",\"width\":0.5},\"pattern\":{\"fillmode\":\"overlay\",\"size\":10,\"solidity\":0.2}},\"type\":\"bar\"}],\"scattergeo\":[{\"type\":\"scattergeo\",\"marker\":{\"colorbar\":{\"outlinewidth\":0,\"ticks\":\"\"}}}],\"scatterpolar\":[{\"type\":\"scatterpolar\",\"marker\":{\"colorbar\":{\"outlinewidth\":0,\"ticks\":\"\"}}}],\"histogram\":[{\"marker\":{\"pattern\":{\"fillmode\":\"overlay\",\"size\":10,\"solidity\":0.2}},\"type\":\"histogram\"}],\"scattergl\":[{\"type\":\"scattergl\",\"marker\":{\"colorbar\":{\"outlinewidth\":0,\"ticks\":\"\"}}}],\"scatter3d\":[{\"type\":\"scatter3d\",\"line\":{\"colorbar\":{\"outlinewidth\":0,\"ticks\":\"\"}},\"marker\":{\"colorbar\":{\"outlinewidth\":0,\"ticks\":\"\"}}}],\"scattermapbox\":[{\"type\":\"scattermapbox\",\"marker\":{\"colorbar\":{\"outlinewidth\":0,\"ticks\":\"\"}}}],\"scatterternary\":[{\"type\":\"scatterternary\",\"marker\":{\"colorbar\":{\"outlinewidth\":0,\"ticks\":\"\"}}}],\"scattercarpet\":[{\"type\":\"scattercarpet\",\"marker\":{\"colorbar\":{\"outlinewidth\":0,\"ticks\":\"\"}}}],\"carpet\":[{\"aaxis\":{\"endlinecolor\":\"#2a3f5f\",\"gridcolor\":\"white\",\"linecolor\":\"white\",\"minorgridcolor\":\"white\",\"startlinecolor\":\"#2a3f5f\"},\"baxis\":{\"endlinecolor\":\"#2a3f5f\",\"gridcolor\":\"white\",\"linecolor\":\"white\",\"minorgridcolor\":\"white\",\"startlinecolor\":\"#2a3f5f\"},\"type\":\"carpet\"}],\"table\":[{\"cells\":{\"fill\":{\"color\":\"#EBF0F8\"},\"line\":{\"color\":\"white\"}},\"header\":{\"fill\":{\"color\":\"#C8D4E3\"},\"line\":{\"color\":\"white\"}},\"type\":\"table\"}],\"barpolar\":[{\"marker\":{\"line\":{\"color\":\"#E5ECF6\",\"width\":0.5},\"pattern\":{\"fillmode\":\"overlay\",\"size\":10,\"solidity\":0.2}},\"type\":\"barpolar\"}],\"pie\":[{\"automargin\":true,\"type\":\"pie\"}]},\"layout\":{\"autotypenumbers\":\"strict\",\"colorway\":[\"#636efa\",\"#EF553B\",\"#00cc96\",\"#ab63fa\",\"#FFA15A\",\"#19d3f3\",\"#FF6692\",\"#B6E880\",\"#FF97FF\",\"#FECB52\"],\"font\":{\"color\":\"#2a3f5f\"},\"hovermode\":\"closest\",\"hoverlabel\":{\"align\":\"left\"},\"paper_bgcolor\":\"white\",\"plot_bgcolor\":\"#E5ECF6\",\"polar\":{\"bgcolor\":\"#E5ECF6\",\"angularaxis\":{\"gridcolor\":\"white\",\"linecolor\":\"white\",\"ticks\":\"\"},\"radialaxis\":{\"gridcolor\":\"white\",\"linecolor\":\"white\",\"ticks\":\"\"}},\"ternary\":{\"bgcolor\":\"#E5ECF6\",\"aaxis\":{\"gridcolor\":\"white\",\"linecolor\":\"white\",\"ticks\":\"\"},\"baxis\":{\"gridcolor\":\"white\",\"linecolor\":\"white\",\"ticks\":\"\"},\"caxis\":{\"gridcolor\":\"white\",\"linecolor\":\"white\",\"ticks\":\"\"}},\"coloraxis\":{\"colorbar\":{\"outlinewidth\":0,\"ticks\":\"\"}},\"colorscale\":{\"sequential\":[[0.0,\"#0d0887\"],[0.1111111111111111,\"#46039f\"],[0.2222222222222222,\"#7201a8\"],[0.3333333333333333,\"#9c179e\"],[0.4444444444444444,\"#bd3786\"],[0.5555555555555556,\"#d8576b\"],[0.6666666666666666,\"#ed7953\"],[0.7777777777777778,\"#fb9f3a\"],[0.8888888888888888,\"#fdca26\"],[1.0,\"#f0f921\"]],\"sequentialminus\":[[0.0,\"#0d0887\"],[0.1111111111111111,\"#46039f\"],[0.2222222222222222,\"#7201a8\"],[0.3333333333333333,\"#9c179e\"],[0.4444444444444444,\"#bd3786\"],[0.5555555555555556,\"#d8576b\"],[0.6666666666666666,\"#ed7953\"],[0.7777777777777778,\"#fb9f3a\"],[0.8888888888888888,\"#fdca26\"],[1.0,\"#f0f921\"]],\"diverging\":[[0,\"#8e0152\"],[0.1,\"#c51b7d\"],[0.2,\"#de77ae\"],[0.3,\"#f1b6da\"],[0.4,\"#fde0ef\"],[0.5,\"#f7f7f7\"],[0.6,\"#e6f5d0\"],[0.7,\"#b8e186\"],[0.8,\"#7fbc41\"],[0.9,\"#4d9221\"],[1,\"#276419\"]]},\"xaxis\":{\"gridcolor\":\"white\",\"linecolor\":\"white\",\"ticks\":\"\",\"title\":{\"standoff\":15},\"zerolinecolor\":\"white\",\"automargin\":true,\"zerolinewidth\":2},\"yaxis\":{\"gridcolor\":\"white\",\"linecolor\":\"white\",\"ticks\":\"\",\"title\":{\"standoff\":15},\"zerolinecolor\":\"white\",\"automargin\":true,\"zerolinewidth\":2},\"scene\":{\"xaxis\":{\"backgroundcolor\":\"#E5ECF6\",\"gridcolor\":\"white\",\"linecolor\":\"white\",\"showbackground\":true,\"ticks\":\"\",\"zerolinecolor\":\"white\",\"gridwidth\":2},\"yaxis\":{\"backgroundcolor\":\"#E5ECF6\",\"gridcolor\":\"white\",\"linecolor\":\"white\",\"showbackground\":true,\"ticks\":\"\",\"zerolinecolor\":\"white\",\"gridwidth\":2},\"zaxis\":{\"backgroundcolor\":\"#E5ECF6\",\"gridcolor\":\"white\",\"linecolor\":\"white\",\"showbackground\":true,\"ticks\":\"\",\"zerolinecolor\":\"white\",\"gridwidth\":2}},\"shapedefaults\":{\"line\":{\"color\":\"#2a3f5f\"}},\"annotationdefaults\":{\"arrowcolor\":\"#2a3f5f\",\"arrowhead\":0,\"arrowwidth\":1},\"geo\":{\"bgcolor\":\"white\",\"landcolor\":\"#E5ECF6\",\"subunitcolor\":\"white\",\"showland\":true,\"showlakes\":true,\"lakecolor\":\"white\"},\"title\":{\"x\":0.05},\"mapbox\":{\"style\":\"light\"}}},\"geo\":{\"domain\":{\"x\":[0.0,1.0],\"y\":[0.0,1.0]},\"center\":{}},\"legend\":{\"title\":{\"text\":\"Country/Region\"},\"tracegroupgap\":0,\"itemsizing\":\"constant\"},\"title\":{\"text\":\"Global Unicorn Company Values\"}},                        {\"responsive\": true}                    ).then(function(){\n",
       "                            \n",
       "var gd = document.getElementById('c3ea32b2-f1db-43ad-a0a6-32613c4f4605');\n",
       "var x = new MutationObserver(function (mutations, observer) {{\n",
       "        var display = window.getComputedStyle(gd).display;\n",
       "        if (!display || display === 'none') {{\n",
       "            console.log([gd, 'removed!']);\n",
       "            Plotly.purge(gd);\n",
       "            observer.disconnect();\n",
       "        }}\n",
       "}});\n",
       "\n",
       "// Listen for the removal of the full notebook cells\n",
       "var notebookContainer = gd.closest('#notebook-container');\n",
       "if (notebookContainer) {{\n",
       "    x.observe(notebookContainer, {childList: true});\n",
       "}}\n",
       "\n",
       "// Listen for the clearing of the current output cell\n",
       "var outputEl = gd.closest('.output');\n",
       "if (outputEl) {{\n",
       "    x.observe(outputEl, {childList: true});\n",
       "}}\n",
       "\n",
       "                        })                };                });            </script>        </div>"
      ]
     },
     "metadata": {},
     "output_type": "display_data"
    }
   ],
   "source": [
    "# Plot the sum of valuations per country.\n",
    "\n",
    "fig = px.scatter_geo(df_companies_sum_outliers_removed, \n",
    "                     locations='Country/Region', \n",
    "                     size='Valuation_num', \n",
    "                     locationmode='country names', \n",
    "                     color='Country/Region', \n",
    "                     title='Global Unicorn Company Values')\n",
    "\n",
    "### YOUR CODE HERE ###\n",
    "\n",
    "# Show the plot.\n",
    "fig.show()\n",
    "### YOUR CODE HERE ###"
   ]
  },
  {
   "cell_type": "markdown",
   "metadata": {
    "id": "8ec602b0"
   },
   "source": [
    "**Question: How is the valuation sum per country visualized in the plot?**"
   ]
  },
  {
   "cell_type": "markdown",
   "metadata": {
    "id": "NpdiPGf7TveW"
   },
   "source": [
    "By the size of the circles around the map"
   ]
  },
  {
   "cell_type": "markdown",
   "metadata": {
    "id": "4d930dff"
   },
   "source": [
    "To create the same map for `europe` only, update the `fig` object to add a new title and also limit the scope of the map to `europe`."
   ]
  },
  {
   "cell_type": "code",
   "execution_count": 50,
   "metadata": {
    "id": "28ecabb6"
   },
   "outputs": [
    {
     "data": {
      "application/vnd.plotly.v1+json": {
       "config": {
        "plotlyServerURL": "https://plot.ly"
       },
       "data": [
        {
         "geo": "geo",
         "hovertemplate": "Country/Region=%{location}<br>Valuation_num=%{marker.size}<extra></extra>",
         "legendgroup": "Germany",
         "locationmode": "country names",
         "locations": [
          "Germany"
         ],
         "marker": {
          "color": "#636efa",
          "size": [
           72
          ],
          "sizemode": "area",
          "sizeref": 0.18,
          "symbol": "circle"
         },
         "mode": "markers",
         "name": "Germany",
         "showlegend": true,
         "type": "scattergeo"
        },
        {
         "geo": "geo",
         "hovertemplate": "Country/Region=%{location}<br>Valuation_num=%{marker.size}<extra></extra>",
         "legendgroup": "Sweden",
         "locationmode": "country names",
         "locations": [
          "Sweden"
         ],
         "marker": {
          "color": "#EF553B",
          "size": [
           63
          ],
          "sizemode": "area",
          "sizeref": 0.18,
          "symbol": "circle"
         },
         "mode": "markers",
         "name": "Sweden",
         "showlegend": true,
         "type": "scattergeo"
        },
        {
         "geo": "geo",
         "hovertemplate": "Country/Region=%{location}<br>Valuation_num=%{marker.size}<extra></extra>",
         "legendgroup": "Australia",
         "locationmode": "country names",
         "locations": [
          "Australia"
         ],
         "marker": {
          "color": "#00cc96",
          "size": [
           56
          ],
          "sizemode": "area",
          "sizeref": 0.18,
          "symbol": "circle"
         },
         "mode": "markers",
         "name": "Australia",
         "showlegend": true,
         "type": "scattergeo"
        },
        {
         "geo": "geo",
         "hovertemplate": "Country/Region=%{location}<br>Valuation_num=%{marker.size}<extra></extra>",
         "legendgroup": "France",
         "locationmode": "country names",
         "locations": [
          "France"
         ],
         "marker": {
          "color": "#ab63fa",
          "size": [
           55
          ],
          "sizemode": "area",
          "sizeref": 0.18,
          "symbol": "circle"
         },
         "mode": "markers",
         "name": "France",
         "showlegend": true,
         "type": "scattergeo"
        },
        {
         "geo": "geo",
         "hovertemplate": "Country/Region=%{location}<br>Valuation_num=%{marker.size}<extra></extra>",
         "legendgroup": "Canada",
         "locationmode": "country names",
         "locations": [
          "Canada"
         ],
         "marker": {
          "color": "#FFA15A",
          "size": [
           49
          ],
          "sizemode": "area",
          "sizeref": 0.18,
          "symbol": "circle"
         },
         "mode": "markers",
         "name": "Canada",
         "showlegend": true,
         "type": "scattergeo"
        },
        {
         "geo": "geo",
         "hovertemplate": "Country/Region=%{location}<br>Valuation_num=%{marker.size}<extra></extra>",
         "legendgroup": "South Korea",
         "locationmode": "country names",
         "locations": [
          "South Korea"
         ],
         "marker": {
          "color": "#19d3f3",
          "size": [
           41
          ],
          "sizemode": "area",
          "sizeref": 0.18,
          "symbol": "circle"
         },
         "mode": "markers",
         "name": "South Korea",
         "showlegend": true,
         "type": "scattergeo"
        },
        {
         "geo": "geo",
         "hovertemplate": "Country/Region=%{location}<br>Valuation_num=%{marker.size}<extra></extra>",
         "legendgroup": "Israel",
         "locationmode": "country names",
         "locations": [
          "Israel"
         ],
         "marker": {
          "color": "#FF6692",
          "size": [
           39
          ],
          "sizemode": "area",
          "sizeref": 0.18,
          "symbol": "circle"
         },
         "mode": "markers",
         "name": "Israel",
         "showlegend": true,
         "type": "scattergeo"
        },
        {
         "geo": "geo",
         "hovertemplate": "Country/Region=%{location}<br>Valuation_num=%{marker.size}<extra></extra>",
         "legendgroup": "Brazil",
         "locationmode": "country names",
         "locations": [
          "Brazil"
         ],
         "marker": {
          "color": "#B6E880",
          "size": [
           37
          ],
          "sizemode": "area",
          "sizeref": 0.18,
          "symbol": "circle"
         },
         "mode": "markers",
         "name": "Brazil",
         "showlegend": true,
         "type": "scattergeo"
        },
        {
         "geo": "geo",
         "hovertemplate": "Country/Region=%{location}<br>Valuation_num=%{marker.size}<extra></extra>",
         "legendgroup": "Bahamas",
         "locationmode": "country names",
         "locations": [
          "Bahamas"
         ],
         "marker": {
          "color": "#FF97FF",
          "size": [
           32
          ],
          "sizemode": "area",
          "sizeref": 0.18,
          "symbol": "circle"
         },
         "mode": "markers",
         "name": "Bahamas",
         "showlegend": true,
         "type": "scattergeo"
        },
        {
         "geo": "geo",
         "hovertemplate": "Country/Region=%{location}<br>Valuation_num=%{marker.size}<extra></extra>",
         "legendgroup": "Indonesia",
         "locationmode": "country names",
         "locations": [
          "Indonesia"
         ],
         "marker": {
          "color": "#FECB52",
          "size": [
           28
          ],
          "sizemode": "area",
          "sizeref": 0.18,
          "symbol": "circle"
         },
         "mode": "markers",
         "name": "Indonesia",
         "showlegend": true,
         "type": "scattergeo"
        },
        {
         "geo": "geo",
         "hovertemplate": "Country/Region=%{location}<br>Valuation_num=%{marker.size}<extra></extra>",
         "legendgroup": "Singapore",
         "locationmode": "country names",
         "locations": [
          "Singapore"
         ],
         "marker": {
          "color": "#636efa",
          "size": [
           21
          ],
          "sizemode": "area",
          "sizeref": 0.18,
          "symbol": "circle"
         },
         "mode": "markers",
         "name": "Singapore",
         "showlegend": true,
         "type": "scattergeo"
        },
        {
         "geo": "geo",
         "hovertemplate": "Country/Region=%{location}<br>Valuation_num=%{marker.size}<extra></extra>",
         "legendgroup": "Netherlands",
         "locationmode": "country names",
         "locations": [
          "Netherlands"
         ],
         "marker": {
          "color": "#EF553B",
          "size": [
           19
          ],
          "sizemode": "area",
          "sizeref": 0.18,
          "symbol": "circle"
         },
         "mode": "markers",
         "name": "Netherlands",
         "showlegend": true,
         "type": "scattergeo"
        },
        {
         "geo": "geo",
         "hovertemplate": "Country/Region=%{location}<br>Valuation_num=%{marker.size}<extra></extra>",
         "legendgroup": "Hong Kong",
         "locationmode": "country names",
         "locations": [
          "Hong Kong"
         ],
         "marker": {
          "color": "#00cc96",
          "size": [
           18
          ],
          "sizemode": "area",
          "sizeref": 0.18,
          "symbol": "circle"
         },
         "mode": "markers",
         "name": "Hong Kong",
         "showlegend": true,
         "type": "scattergeo"
        },
        {
         "geo": "geo",
         "hovertemplate": "Country/Region=%{location}<br>Valuation_num=%{marker.size}<extra></extra>",
         "legendgroup": "Turkey",
         "locationmode": "country names",
         "locations": [
          "Turkey"
         ],
         "marker": {
          "color": "#ab63fa",
          "size": [
           16
          ],
          "sizemode": "area",
          "sizeref": 0.18,
          "symbol": "circle"
         },
         "mode": "markers",
         "name": "Turkey",
         "showlegend": true,
         "type": "scattergeo"
        },
        {
         "geo": "geo",
         "hovertemplate": "Country/Region=%{location}<br>Valuation_num=%{marker.size}<extra></extra>",
         "legendgroup": "Mexico",
         "locationmode": "country names",
         "locations": [
          "Mexico"
         ],
         "marker": {
          "color": "#FFA15A",
          "size": [
           16
          ],
          "sizemode": "area",
          "sizeref": 0.18,
          "symbol": "circle"
         },
         "mode": "markers",
         "name": "Mexico",
         "showlegend": true,
         "type": "scattergeo"
        },
        {
         "geo": "geo",
         "hovertemplate": "Country/Region=%{location}<br>Valuation_num=%{marker.size}<extra></extra>",
         "legendgroup": "Estonia",
         "locationmode": "country names",
         "locations": [
          "Estonia"
         ],
         "marker": {
          "color": "#19d3f3",
          "size": [
           13
          ],
          "sizemode": "area",
          "sizeref": 0.18,
          "symbol": "circle"
         },
         "mode": "markers",
         "name": "Estonia",
         "showlegend": true,
         "type": "scattergeo"
        },
        {
         "geo": "geo",
         "hovertemplate": "Country/Region=%{location}<br>Valuation_num=%{marker.size}<extra></extra>",
         "legendgroup": "Finland",
         "locationmode": "country names",
         "locations": [
          "Finland"
         ],
         "marker": {
          "color": "#FF6692",
          "size": [
           12
          ],
          "sizemode": "area",
          "sizeref": 0.18,
          "symbol": "circle"
         },
         "mode": "markers",
         "name": "Finland",
         "showlegend": true,
         "type": "scattergeo"
        },
        {
         "geo": "geo",
         "hovertemplate": "Country/Region=%{location}<br>Valuation_num=%{marker.size}<extra></extra>",
         "legendgroup": "Ireland",
         "locationmode": "country names",
         "locations": [
          "Ireland"
         ],
         "marker": {
          "color": "#B6E880",
          "size": [
           9
          ],
          "sizemode": "area",
          "sizeref": 0.18,
          "symbol": "circle"
         },
         "mode": "markers",
         "name": "Ireland",
         "showlegend": true,
         "type": "scattergeo"
        },
        {
         "geo": "geo",
         "hovertemplate": "Country/Region=%{location}<br>Valuation_num=%{marker.size}<extra></extra>",
         "legendgroup": "Switzerland",
         "locationmode": "country names",
         "locations": [
          "Switzerland"
         ],
         "marker": {
          "color": "#FF97FF",
          "size": [
           8
          ],
          "sizemode": "area",
          "sizeref": 0.18,
          "symbol": "circle"
         },
         "mode": "markers",
         "name": "Switzerland",
         "showlegend": true,
         "type": "scattergeo"
        },
        {
         "geo": "geo",
         "hovertemplate": "Country/Region=%{location}<br>Valuation_num=%{marker.size}<extra></extra>",
         "legendgroup": "Japan",
         "locationmode": "country names",
         "locations": [
          "Japan"
         ],
         "marker": {
          "color": "#FECB52",
          "size": [
           8
          ],
          "sizemode": "area",
          "sizeref": 0.18,
          "symbol": "circle"
         },
         "mode": "markers",
         "name": "Japan",
         "showlegend": true,
         "type": "scattergeo"
        },
        {
         "geo": "geo",
         "hovertemplate": "Country/Region=%{location}<br>Valuation_num=%{marker.size}<extra></extra>",
         "legendgroup": "Belgium",
         "locationmode": "country names",
         "locations": [
          "Belgium"
         ],
         "marker": {
          "color": "#636efa",
          "size": [
           8
          ],
          "sizemode": "area",
          "sizeref": 0.18,
          "symbol": "circle"
         },
         "mode": "markers",
         "name": "Belgium",
         "showlegend": true,
         "type": "scattergeo"
        },
        {
         "geo": "geo",
         "hovertemplate": "Country/Region=%{location}<br>Valuation_num=%{marker.size}<extra></extra>",
         "legendgroup": "Denmark",
         "locationmode": "country names",
         "locations": [
          "Denmark"
         ],
         "marker": {
          "color": "#EF553B",
          "size": [
           7
          ],
          "sizemode": "area",
          "sizeref": 0.18,
          "symbol": "circle"
         },
         "mode": "markers",
         "name": "Denmark",
         "showlegend": true,
         "type": "scattergeo"
        },
        {
         "geo": "geo",
         "hovertemplate": "Country/Region=%{location}<br>Valuation_num=%{marker.size}<extra></extra>",
         "legendgroup": "Austria",
         "locationmode": "country names",
         "locations": [
          "Austria"
         ],
         "marker": {
          "color": "#00cc96",
          "size": [
           7
          ],
          "sizemode": "area",
          "sizeref": 0.18,
          "symbol": "circle"
         },
         "mode": "markers",
         "name": "Austria",
         "showlegend": true,
         "type": "scattergeo"
        },
        {
         "geo": "geo",
         "hovertemplate": "Country/Region=%{location}<br>Valuation_num=%{marker.size}<extra></extra>",
         "legendgroup": "Colombia",
         "locationmode": "country names",
         "locations": [
          "Colombia"
         ],
         "marker": {
          "color": "#ab63fa",
          "size": [
           6
          ],
          "sizemode": "area",
          "sizeref": 0.18,
          "symbol": "circle"
         },
         "mode": "markers",
         "name": "Colombia",
         "showlegend": true,
         "type": "scattergeo"
        },
        {
         "geo": "geo",
         "hovertemplate": "Country/Region=%{location}<br>Valuation_num=%{marker.size}<extra></extra>",
         "legendgroup": "Norway",
         "locationmode": "country names",
         "locations": [
          "Norway"
         ],
         "marker": {
          "color": "#FFA15A",
          "size": [
           5
          ],
          "sizemode": "area",
          "sizeref": 0.18,
          "symbol": "circle"
         },
         "mode": "markers",
         "name": "Norway",
         "showlegend": true,
         "type": "scattergeo"
        },
        {
         "geo": "geo",
         "hovertemplate": "Country/Region=%{location}<br>Valuation_num=%{marker.size}<extra></extra>",
         "legendgroup": "Vietnam",
         "locationmode": "country names",
         "locations": [
          "Vietnam"
         ],
         "marker": {
          "color": "#19d3f3",
          "size": [
           5
          ],
          "sizemode": "area",
          "sizeref": 0.18,
          "symbol": "circle"
         },
         "mode": "markers",
         "name": "Vietnam",
         "showlegend": true,
         "type": "scattergeo"
        },
        {
         "geo": "geo",
         "hovertemplate": "Country/Region=%{location}<br>Valuation_num=%{marker.size}<extra></extra>",
         "legendgroup": "Lithuania",
         "locationmode": "country names",
         "locations": [
          "Lithuania"
         ],
         "marker": {
          "color": "#FF6692",
          "size": [
           5
          ],
          "sizemode": "area",
          "sizeref": 0.18,
          "symbol": "circle"
         },
         "mode": "markers",
         "name": "Lithuania",
         "showlegend": true,
         "type": "scattergeo"
        },
        {
         "geo": "geo",
         "hovertemplate": "Country/Region=%{location}<br>Valuation_num=%{marker.size}<extra></extra>",
         "legendgroup": "United Arab Emirates",
         "locationmode": "country names",
         "locations": [
          "United Arab Emirates"
         ],
         "marker": {
          "color": "#B6E880",
          "size": [
           5
          ],
          "sizemode": "area",
          "sizeref": 0.18,
          "symbol": "circle"
         },
         "mode": "markers",
         "name": "United Arab Emirates",
         "showlegend": true,
         "type": "scattergeo"
        },
        {
         "geo": "geo",
         "hovertemplate": "Country/Region=%{location}<br>Valuation_num=%{marker.size}<extra></extra>",
         "legendgroup": "Spain",
         "locationmode": "country names",
         "locations": [
          "Spain"
         ],
         "marker": {
          "color": "#FF97FF",
          "size": [
           4
          ],
          "sizemode": "area",
          "sizeref": 0.18,
          "symbol": "circle"
         },
         "mode": "markers",
         "name": "Spain",
         "showlegend": true,
         "type": "scattergeo"
        },
        {
         "geo": "geo",
         "hovertemplate": "Country/Region=%{location}<br>Valuation_num=%{marker.size}<extra></extra>",
         "legendgroup": "Chile",
         "locationmode": "country names",
         "locations": [
          "Chile"
         ],
         "marker": {
          "color": "#FECB52",
          "size": [
           3
          ],
          "sizemode": "area",
          "sizeref": 0.18,
          "symbol": "circle"
         },
         "mode": "markers",
         "name": "Chile",
         "showlegend": true,
         "type": "scattergeo"
        },
        {
         "geo": "geo",
         "hovertemplate": "Country/Region=%{location}<br>Valuation_num=%{marker.size}<extra></extra>",
         "legendgroup": "Philippines",
         "locationmode": "country names",
         "locations": [
          "Philippines"
         ],
         "marker": {
          "color": "#636efa",
          "size": [
           3
          ],
          "sizemode": "area",
          "sizeref": 0.18,
          "symbol": "circle"
         },
         "mode": "markers",
         "name": "Philippines",
         "showlegend": true,
         "type": "scattergeo"
        },
        {
         "geo": "geo",
         "hovertemplate": "Country/Region=%{location}<br>Valuation_num=%{marker.size}<extra></extra>",
         "legendgroup": "South Africa",
         "locationmode": "country names",
         "locations": [
          "South Africa"
         ],
         "marker": {
          "color": "#EF553B",
          "size": [
           3
          ],
          "sizemode": "area",
          "sizeref": 0.18,
          "symbol": "circle"
         },
         "mode": "markers",
         "name": "South Africa",
         "showlegend": true,
         "type": "scattergeo"
        },
        {
         "geo": "geo",
         "hovertemplate": "Country/Region=%{location}<br>Valuation_num=%{marker.size}<extra></extra>",
         "legendgroup": "Thailand",
         "locationmode": "country names",
         "locations": [
          "Thailand"
         ],
         "marker": {
          "color": "#00cc96",
          "size": [
           3
          ],
          "sizemode": "area",
          "sizeref": 0.18,
          "symbol": "circle"
         },
         "mode": "markers",
         "name": "Thailand",
         "showlegend": true,
         "type": "scattergeo"
        },
        {
         "geo": "geo",
         "hovertemplate": "Country/Region=%{location}<br>Valuation_num=%{marker.size}<extra></extra>",
         "legendgroup": "Argentina",
         "locationmode": "country names",
         "locations": [
          "Argentina"
         ],
         "marker": {
          "color": "#ab63fa",
          "size": [
           2
          ],
          "sizemode": "area",
          "sizeref": 0.18,
          "symbol": "circle"
         },
         "mode": "markers",
         "name": "Argentina",
         "showlegend": true,
         "type": "scattergeo"
        },
        {
         "geo": "geo",
         "hovertemplate": "Country/Region=%{location}<br>Valuation_num=%{marker.size}<extra></extra>",
         "legendgroup": "Senegal",
         "locationmode": "country names",
         "locations": [
          "Senegal"
         ],
         "marker": {
          "color": "#FFA15A",
          "size": [
           2
          ],
          "sizemode": "area",
          "sizeref": 0.18,
          "symbol": "circle"
         },
         "mode": "markers",
         "name": "Senegal",
         "showlegend": true,
         "type": "scattergeo"
        },
        {
         "geo": "geo",
         "hovertemplate": "Country/Region=%{location}<br>Valuation_num=%{marker.size}<extra></extra>",
         "legendgroup": "Nigeria",
         "locationmode": "country names",
         "locations": [
          "Nigeria"
         ],
         "marker": {
          "color": "#19d3f3",
          "size": [
           2
          ],
          "sizemode": "area",
          "sizeref": 0.18,
          "symbol": "circle"
         },
         "mode": "markers",
         "name": "Nigeria",
         "showlegend": true,
         "type": "scattergeo"
        },
        {
         "geo": "geo",
         "hovertemplate": "Country/Region=%{location}<br>Valuation_num=%{marker.size}<extra></extra>",
         "legendgroup": "Malaysia",
         "locationmode": "country names",
         "locations": [
          "Malaysia"
         ],
         "marker": {
          "color": "#FF6692",
          "size": [
           2
          ],
          "sizemode": "area",
          "sizeref": 0.18,
          "symbol": "circle"
         },
         "mode": "markers",
         "name": "Malaysia",
         "showlegend": true,
         "type": "scattergeo"
        },
        {
         "geo": "geo",
         "hovertemplate": "Country/Region=%{location}<br>Valuation_num=%{marker.size}<extra></extra>",
         "legendgroup": "Luxembourg",
         "locationmode": "country names",
         "locations": [
          "Luxembourg"
         ],
         "marker": {
          "color": "#B6E880",
          "size": [
           2
          ],
          "sizemode": "area",
          "sizeref": 0.18,
          "symbol": "circle"
         },
         "mode": "markers",
         "name": "Luxembourg",
         "showlegend": true,
         "type": "scattergeo"
        },
        {
         "geo": "geo",
         "hovertemplate": "Country/Region=%{location}<br>Valuation_num=%{marker.size}<extra></extra>",
         "legendgroup": "Bermuda",
         "locationmode": "country names",
         "locations": [
          "Bermuda"
         ],
         "marker": {
          "color": "#FF97FF",
          "size": [
           2
          ],
          "sizemode": "area",
          "sizeref": 0.18,
          "symbol": "circle"
         },
         "mode": "markers",
         "name": "Bermuda",
         "showlegend": true,
         "type": "scattergeo"
        },
        {
         "geo": "geo",
         "hovertemplate": "Country/Region=%{location}<br>Valuation_num=%{marker.size}<extra></extra>",
         "legendgroup": "Czech Republic",
         "locationmode": "country names",
         "locations": [
          "Czech Republic"
         ],
         "marker": {
          "color": "#FECB52",
          "size": [
           1
          ],
          "sizemode": "area",
          "sizeref": 0.18,
          "symbol": "circle"
         },
         "mode": "markers",
         "name": "Czech Republic",
         "showlegend": true,
         "type": "scattergeo"
        },
        {
         "geo": "geo",
         "hovertemplate": "Country/Region=%{location}<br>Valuation_num=%{marker.size}<extra></extra>",
         "legendgroup": "Croatia",
         "locationmode": "country names",
         "locations": [
          "Croatia"
         ],
         "marker": {
          "color": "#636efa",
          "size": [
           1
          ],
          "sizemode": "area",
          "sizeref": 0.18,
          "symbol": "circle"
         },
         "mode": "markers",
         "name": "Croatia",
         "showlegend": true,
         "type": "scattergeo"
        },
        {
         "geo": "geo",
         "hovertemplate": "Country/Region=%{location}<br>Valuation_num=%{marker.size}<extra></extra>",
         "legendgroup": "Italy",
         "locationmode": "country names",
         "locations": [
          "Italy"
         ],
         "marker": {
          "color": "#EF553B",
          "size": [
           1
          ],
          "sizemode": "area",
          "sizeref": 0.18,
          "symbol": "circle"
         },
         "mode": "markers",
         "name": "Italy",
         "showlegend": true,
         "type": "scattergeo"
        }
       ],
       "layout": {
        "geo": {
         "center": {},
         "domain": {
          "x": [
           0,
           1
          ],
          "y": [
           0,
           1
          ]
         },
         "scope": "europe"
        },
        "legend": {
         "itemsizing": "constant",
         "title": {
          "text": "Country/Region"
         },
         "tracegroupgap": 0
        },
        "template": {
         "data": {
          "bar": [
           {
            "error_x": {
             "color": "#2a3f5f"
            },
            "error_y": {
             "color": "#2a3f5f"
            },
            "marker": {
             "line": {
              "color": "#E5ECF6",
              "width": 0.5
             },
             "pattern": {
              "fillmode": "overlay",
              "size": 10,
              "solidity": 0.2
             }
            },
            "type": "bar"
           }
          ],
          "barpolar": [
           {
            "marker": {
             "line": {
              "color": "#E5ECF6",
              "width": 0.5
             },
             "pattern": {
              "fillmode": "overlay",
              "size": 10,
              "solidity": 0.2
             }
            },
            "type": "barpolar"
           }
          ],
          "carpet": [
           {
            "aaxis": {
             "endlinecolor": "#2a3f5f",
             "gridcolor": "white",
             "linecolor": "white",
             "minorgridcolor": "white",
             "startlinecolor": "#2a3f5f"
            },
            "baxis": {
             "endlinecolor": "#2a3f5f",
             "gridcolor": "white",
             "linecolor": "white",
             "minorgridcolor": "white",
             "startlinecolor": "#2a3f5f"
            },
            "type": "carpet"
           }
          ],
          "choropleth": [
           {
            "colorbar": {
             "outlinewidth": 0,
             "ticks": ""
            },
            "type": "choropleth"
           }
          ],
          "contour": [
           {
            "colorbar": {
             "outlinewidth": 0,
             "ticks": ""
            },
            "colorscale": [
             [
              0,
              "#0d0887"
             ],
             [
              0.1111111111111111,
              "#46039f"
             ],
             [
              0.2222222222222222,
              "#7201a8"
             ],
             [
              0.3333333333333333,
              "#9c179e"
             ],
             [
              0.4444444444444444,
              "#bd3786"
             ],
             [
              0.5555555555555556,
              "#d8576b"
             ],
             [
              0.6666666666666666,
              "#ed7953"
             ],
             [
              0.7777777777777778,
              "#fb9f3a"
             ],
             [
              0.8888888888888888,
              "#fdca26"
             ],
             [
              1,
              "#f0f921"
             ]
            ],
            "type": "contour"
           }
          ],
          "contourcarpet": [
           {
            "colorbar": {
             "outlinewidth": 0,
             "ticks": ""
            },
            "type": "contourcarpet"
           }
          ],
          "heatmap": [
           {
            "colorbar": {
             "outlinewidth": 0,
             "ticks": ""
            },
            "colorscale": [
             [
              0,
              "#0d0887"
             ],
             [
              0.1111111111111111,
              "#46039f"
             ],
             [
              0.2222222222222222,
              "#7201a8"
             ],
             [
              0.3333333333333333,
              "#9c179e"
             ],
             [
              0.4444444444444444,
              "#bd3786"
             ],
             [
              0.5555555555555556,
              "#d8576b"
             ],
             [
              0.6666666666666666,
              "#ed7953"
             ],
             [
              0.7777777777777778,
              "#fb9f3a"
             ],
             [
              0.8888888888888888,
              "#fdca26"
             ],
             [
              1,
              "#f0f921"
             ]
            ],
            "type": "heatmap"
           }
          ],
          "heatmapgl": [
           {
            "colorbar": {
             "outlinewidth": 0,
             "ticks": ""
            },
            "colorscale": [
             [
              0,
              "#0d0887"
             ],
             [
              0.1111111111111111,
              "#46039f"
             ],
             [
              0.2222222222222222,
              "#7201a8"
             ],
             [
              0.3333333333333333,
              "#9c179e"
             ],
             [
              0.4444444444444444,
              "#bd3786"
             ],
             [
              0.5555555555555556,
              "#d8576b"
             ],
             [
              0.6666666666666666,
              "#ed7953"
             ],
             [
              0.7777777777777778,
              "#fb9f3a"
             ],
             [
              0.8888888888888888,
              "#fdca26"
             ],
             [
              1,
              "#f0f921"
             ]
            ],
            "type": "heatmapgl"
           }
          ],
          "histogram": [
           {
            "marker": {
             "pattern": {
              "fillmode": "overlay",
              "size": 10,
              "solidity": 0.2
             }
            },
            "type": "histogram"
           }
          ],
          "histogram2d": [
           {
            "colorbar": {
             "outlinewidth": 0,
             "ticks": ""
            },
            "colorscale": [
             [
              0,
              "#0d0887"
             ],
             [
              0.1111111111111111,
              "#46039f"
             ],
             [
              0.2222222222222222,
              "#7201a8"
             ],
             [
              0.3333333333333333,
              "#9c179e"
             ],
             [
              0.4444444444444444,
              "#bd3786"
             ],
             [
              0.5555555555555556,
              "#d8576b"
             ],
             [
              0.6666666666666666,
              "#ed7953"
             ],
             [
              0.7777777777777778,
              "#fb9f3a"
             ],
             [
              0.8888888888888888,
              "#fdca26"
             ],
             [
              1,
              "#f0f921"
             ]
            ],
            "type": "histogram2d"
           }
          ],
          "histogram2dcontour": [
           {
            "colorbar": {
             "outlinewidth": 0,
             "ticks": ""
            },
            "colorscale": [
             [
              0,
              "#0d0887"
             ],
             [
              0.1111111111111111,
              "#46039f"
             ],
             [
              0.2222222222222222,
              "#7201a8"
             ],
             [
              0.3333333333333333,
              "#9c179e"
             ],
             [
              0.4444444444444444,
              "#bd3786"
             ],
             [
              0.5555555555555556,
              "#d8576b"
             ],
             [
              0.6666666666666666,
              "#ed7953"
             ],
             [
              0.7777777777777778,
              "#fb9f3a"
             ],
             [
              0.8888888888888888,
              "#fdca26"
             ],
             [
              1,
              "#f0f921"
             ]
            ],
            "type": "histogram2dcontour"
           }
          ],
          "mesh3d": [
           {
            "colorbar": {
             "outlinewidth": 0,
             "ticks": ""
            },
            "type": "mesh3d"
           }
          ],
          "parcoords": [
           {
            "line": {
             "colorbar": {
              "outlinewidth": 0,
              "ticks": ""
             }
            },
            "type": "parcoords"
           }
          ],
          "pie": [
           {
            "automargin": true,
            "type": "pie"
           }
          ],
          "scatter": [
           {
            "fillpattern": {
             "fillmode": "overlay",
             "size": 10,
             "solidity": 0.2
            },
            "type": "scatter"
           }
          ],
          "scatter3d": [
           {
            "line": {
             "colorbar": {
              "outlinewidth": 0,
              "ticks": ""
             }
            },
            "marker": {
             "colorbar": {
              "outlinewidth": 0,
              "ticks": ""
             }
            },
            "type": "scatter3d"
           }
          ],
          "scattercarpet": [
           {
            "marker": {
             "colorbar": {
              "outlinewidth": 0,
              "ticks": ""
             }
            },
            "type": "scattercarpet"
           }
          ],
          "scattergeo": [
           {
            "marker": {
             "colorbar": {
              "outlinewidth": 0,
              "ticks": ""
             }
            },
            "type": "scattergeo"
           }
          ],
          "scattergl": [
           {
            "marker": {
             "colorbar": {
              "outlinewidth": 0,
              "ticks": ""
             }
            },
            "type": "scattergl"
           }
          ],
          "scattermapbox": [
           {
            "marker": {
             "colorbar": {
              "outlinewidth": 0,
              "ticks": ""
             }
            },
            "type": "scattermapbox"
           }
          ],
          "scatterpolar": [
           {
            "marker": {
             "colorbar": {
              "outlinewidth": 0,
              "ticks": ""
             }
            },
            "type": "scatterpolar"
           }
          ],
          "scatterpolargl": [
           {
            "marker": {
             "colorbar": {
              "outlinewidth": 0,
              "ticks": ""
             }
            },
            "type": "scatterpolargl"
           }
          ],
          "scatterternary": [
           {
            "marker": {
             "colorbar": {
              "outlinewidth": 0,
              "ticks": ""
             }
            },
            "type": "scatterternary"
           }
          ],
          "surface": [
           {
            "colorbar": {
             "outlinewidth": 0,
             "ticks": ""
            },
            "colorscale": [
             [
              0,
              "#0d0887"
             ],
             [
              0.1111111111111111,
              "#46039f"
             ],
             [
              0.2222222222222222,
              "#7201a8"
             ],
             [
              0.3333333333333333,
              "#9c179e"
             ],
             [
              0.4444444444444444,
              "#bd3786"
             ],
             [
              0.5555555555555556,
              "#d8576b"
             ],
             [
              0.6666666666666666,
              "#ed7953"
             ],
             [
              0.7777777777777778,
              "#fb9f3a"
             ],
             [
              0.8888888888888888,
              "#fdca26"
             ],
             [
              1,
              "#f0f921"
             ]
            ],
            "type": "surface"
           }
          ],
          "table": [
           {
            "cells": {
             "fill": {
              "color": "#EBF0F8"
             },
             "line": {
              "color": "white"
             }
            },
            "header": {
             "fill": {
              "color": "#C8D4E3"
             },
             "line": {
              "color": "white"
             }
            },
            "type": "table"
           }
          ]
         },
         "layout": {
          "annotationdefaults": {
           "arrowcolor": "#2a3f5f",
           "arrowhead": 0,
           "arrowwidth": 1
          },
          "autotypenumbers": "strict",
          "coloraxis": {
           "colorbar": {
            "outlinewidth": 0,
            "ticks": ""
           }
          },
          "colorscale": {
           "diverging": [
            [
             0,
             "#8e0152"
            ],
            [
             0.1,
             "#c51b7d"
            ],
            [
             0.2,
             "#de77ae"
            ],
            [
             0.3,
             "#f1b6da"
            ],
            [
             0.4,
             "#fde0ef"
            ],
            [
             0.5,
             "#f7f7f7"
            ],
            [
             0.6,
             "#e6f5d0"
            ],
            [
             0.7,
             "#b8e186"
            ],
            [
             0.8,
             "#7fbc41"
            ],
            [
             0.9,
             "#4d9221"
            ],
            [
             1,
             "#276419"
            ]
           ],
           "sequential": [
            [
             0,
             "#0d0887"
            ],
            [
             0.1111111111111111,
             "#46039f"
            ],
            [
             0.2222222222222222,
             "#7201a8"
            ],
            [
             0.3333333333333333,
             "#9c179e"
            ],
            [
             0.4444444444444444,
             "#bd3786"
            ],
            [
             0.5555555555555556,
             "#d8576b"
            ],
            [
             0.6666666666666666,
             "#ed7953"
            ],
            [
             0.7777777777777778,
             "#fb9f3a"
            ],
            [
             0.8888888888888888,
             "#fdca26"
            ],
            [
             1,
             "#f0f921"
            ]
           ],
           "sequentialminus": [
            [
             0,
             "#0d0887"
            ],
            [
             0.1111111111111111,
             "#46039f"
            ],
            [
             0.2222222222222222,
             "#7201a8"
            ],
            [
             0.3333333333333333,
             "#9c179e"
            ],
            [
             0.4444444444444444,
             "#bd3786"
            ],
            [
             0.5555555555555556,
             "#d8576b"
            ],
            [
             0.6666666666666666,
             "#ed7953"
            ],
            [
             0.7777777777777778,
             "#fb9f3a"
            ],
            [
             0.8888888888888888,
             "#fdca26"
            ],
            [
             1,
             "#f0f921"
            ]
           ]
          },
          "colorway": [
           "#636efa",
           "#EF553B",
           "#00cc96",
           "#ab63fa",
           "#FFA15A",
           "#19d3f3",
           "#FF6692",
           "#B6E880",
           "#FF97FF",
           "#FECB52"
          ],
          "font": {
           "color": "#2a3f5f"
          },
          "geo": {
           "bgcolor": "white",
           "lakecolor": "white",
           "landcolor": "#E5ECF6",
           "showlakes": true,
           "showland": true,
           "subunitcolor": "white"
          },
          "hoverlabel": {
           "align": "left"
          },
          "hovermode": "closest",
          "mapbox": {
           "style": "light"
          },
          "paper_bgcolor": "white",
          "plot_bgcolor": "#E5ECF6",
          "polar": {
           "angularaxis": {
            "gridcolor": "white",
            "linecolor": "white",
            "ticks": ""
           },
           "bgcolor": "#E5ECF6",
           "radialaxis": {
            "gridcolor": "white",
            "linecolor": "white",
            "ticks": ""
           }
          },
          "scene": {
           "xaxis": {
            "backgroundcolor": "#E5ECF6",
            "gridcolor": "white",
            "gridwidth": 2,
            "linecolor": "white",
            "showbackground": true,
            "ticks": "",
            "zerolinecolor": "white"
           },
           "yaxis": {
            "backgroundcolor": "#E5ECF6",
            "gridcolor": "white",
            "gridwidth": 2,
            "linecolor": "white",
            "showbackground": true,
            "ticks": "",
            "zerolinecolor": "white"
           },
           "zaxis": {
            "backgroundcolor": "#E5ECF6",
            "gridcolor": "white",
            "gridwidth": 2,
            "linecolor": "white",
            "showbackground": true,
            "ticks": "",
            "zerolinecolor": "white"
           }
          },
          "shapedefaults": {
           "line": {
            "color": "#2a3f5f"
           }
          },
          "ternary": {
           "aaxis": {
            "gridcolor": "white",
            "linecolor": "white",
            "ticks": ""
           },
           "baxis": {
            "gridcolor": "white",
            "linecolor": "white",
            "ticks": ""
           },
           "bgcolor": "#E5ECF6",
           "caxis": {
            "gridcolor": "white",
            "linecolor": "white",
            "ticks": ""
           }
          },
          "title": {
           "x": 0.05
          },
          "xaxis": {
           "automargin": true,
           "gridcolor": "white",
           "linecolor": "white",
           "ticks": "",
           "title": {
            "standoff": 15
           },
           "zerolinecolor": "white",
           "zerolinewidth": 2
          },
          "yaxis": {
           "automargin": true,
           "gridcolor": "white",
           "linecolor": "white",
           "ticks": "",
           "title": {
            "standoff": 15
           },
           "zerolinecolor": "white",
           "zerolinewidth": 2
          }
         }
        },
        "title": {
         "text": "Europe Unicorn Company Values"
        }
       }
      },
      "text/html": [
       "<div>                            <div id=\"424c2924-b8b6-4dba-9a27-363d2db3606b\" class=\"plotly-graph-div\" style=\"height:525px; width:100%;\"></div>            <script type=\"text/javascript\">                require([\"plotly\"], function(Plotly) {                    window.PLOTLYENV=window.PLOTLYENV || {};                                    if (document.getElementById(\"424c2924-b8b6-4dba-9a27-363d2db3606b\")) {                    Plotly.newPlot(                        \"424c2924-b8b6-4dba-9a27-363d2db3606b\",                        [{\"geo\":\"geo\",\"hovertemplate\":\"Country/Region=%{location}<br>Valuation_num=%{marker.size}<extra></extra>\",\"legendgroup\":\"Germany\",\"locationmode\":\"country names\",\"locations\":[\"Germany\"],\"marker\":{\"color\":\"#636efa\",\"size\":[72],\"sizemode\":\"area\",\"sizeref\":0.18,\"symbol\":\"circle\"},\"mode\":\"markers\",\"name\":\"Germany\",\"showlegend\":true,\"type\":\"scattergeo\"},{\"geo\":\"geo\",\"hovertemplate\":\"Country/Region=%{location}<br>Valuation_num=%{marker.size}<extra></extra>\",\"legendgroup\":\"Sweden\",\"locationmode\":\"country names\",\"locations\":[\"Sweden\"],\"marker\":{\"color\":\"#EF553B\",\"size\":[63],\"sizemode\":\"area\",\"sizeref\":0.18,\"symbol\":\"circle\"},\"mode\":\"markers\",\"name\":\"Sweden\",\"showlegend\":true,\"type\":\"scattergeo\"},{\"geo\":\"geo\",\"hovertemplate\":\"Country/Region=%{location}<br>Valuation_num=%{marker.size}<extra></extra>\",\"legendgroup\":\"Australia\",\"locationmode\":\"country names\",\"locations\":[\"Australia\"],\"marker\":{\"color\":\"#00cc96\",\"size\":[56],\"sizemode\":\"area\",\"sizeref\":0.18,\"symbol\":\"circle\"},\"mode\":\"markers\",\"name\":\"Australia\",\"showlegend\":true,\"type\":\"scattergeo\"},{\"geo\":\"geo\",\"hovertemplate\":\"Country/Region=%{location}<br>Valuation_num=%{marker.size}<extra></extra>\",\"legendgroup\":\"France\",\"locationmode\":\"country names\",\"locations\":[\"France\"],\"marker\":{\"color\":\"#ab63fa\",\"size\":[55],\"sizemode\":\"area\",\"sizeref\":0.18,\"symbol\":\"circle\"},\"mode\":\"markers\",\"name\":\"France\",\"showlegend\":true,\"type\":\"scattergeo\"},{\"geo\":\"geo\",\"hovertemplate\":\"Country/Region=%{location}<br>Valuation_num=%{marker.size}<extra></extra>\",\"legendgroup\":\"Canada\",\"locationmode\":\"country names\",\"locations\":[\"Canada\"],\"marker\":{\"color\":\"#FFA15A\",\"size\":[49],\"sizemode\":\"area\",\"sizeref\":0.18,\"symbol\":\"circle\"},\"mode\":\"markers\",\"name\":\"Canada\",\"showlegend\":true,\"type\":\"scattergeo\"},{\"geo\":\"geo\",\"hovertemplate\":\"Country/Region=%{location}<br>Valuation_num=%{marker.size}<extra></extra>\",\"legendgroup\":\"South Korea\",\"locationmode\":\"country names\",\"locations\":[\"South Korea\"],\"marker\":{\"color\":\"#19d3f3\",\"size\":[41],\"sizemode\":\"area\",\"sizeref\":0.18,\"symbol\":\"circle\"},\"mode\":\"markers\",\"name\":\"South Korea\",\"showlegend\":true,\"type\":\"scattergeo\"},{\"geo\":\"geo\",\"hovertemplate\":\"Country/Region=%{location}<br>Valuation_num=%{marker.size}<extra></extra>\",\"legendgroup\":\"Israel\",\"locationmode\":\"country names\",\"locations\":[\"Israel\"],\"marker\":{\"color\":\"#FF6692\",\"size\":[39],\"sizemode\":\"area\",\"sizeref\":0.18,\"symbol\":\"circle\"},\"mode\":\"markers\",\"name\":\"Israel\",\"showlegend\":true,\"type\":\"scattergeo\"},{\"geo\":\"geo\",\"hovertemplate\":\"Country/Region=%{location}<br>Valuation_num=%{marker.size}<extra></extra>\",\"legendgroup\":\"Brazil\",\"locationmode\":\"country names\",\"locations\":[\"Brazil\"],\"marker\":{\"color\":\"#B6E880\",\"size\":[37],\"sizemode\":\"area\",\"sizeref\":0.18,\"symbol\":\"circle\"},\"mode\":\"markers\",\"name\":\"Brazil\",\"showlegend\":true,\"type\":\"scattergeo\"},{\"geo\":\"geo\",\"hovertemplate\":\"Country/Region=%{location}<br>Valuation_num=%{marker.size}<extra></extra>\",\"legendgroup\":\"Bahamas\",\"locationmode\":\"country names\",\"locations\":[\"Bahamas\"],\"marker\":{\"color\":\"#FF97FF\",\"size\":[32],\"sizemode\":\"area\",\"sizeref\":0.18,\"symbol\":\"circle\"},\"mode\":\"markers\",\"name\":\"Bahamas\",\"showlegend\":true,\"type\":\"scattergeo\"},{\"geo\":\"geo\",\"hovertemplate\":\"Country/Region=%{location}<br>Valuation_num=%{marker.size}<extra></extra>\",\"legendgroup\":\"Indonesia\",\"locationmode\":\"country names\",\"locations\":[\"Indonesia\"],\"marker\":{\"color\":\"#FECB52\",\"size\":[28],\"sizemode\":\"area\",\"sizeref\":0.18,\"symbol\":\"circle\"},\"mode\":\"markers\",\"name\":\"Indonesia\",\"showlegend\":true,\"type\":\"scattergeo\"},{\"geo\":\"geo\",\"hovertemplate\":\"Country/Region=%{location}<br>Valuation_num=%{marker.size}<extra></extra>\",\"legendgroup\":\"Singapore\",\"locationmode\":\"country names\",\"locations\":[\"Singapore\"],\"marker\":{\"color\":\"#636efa\",\"size\":[21],\"sizemode\":\"area\",\"sizeref\":0.18,\"symbol\":\"circle\"},\"mode\":\"markers\",\"name\":\"Singapore\",\"showlegend\":true,\"type\":\"scattergeo\"},{\"geo\":\"geo\",\"hovertemplate\":\"Country/Region=%{location}<br>Valuation_num=%{marker.size}<extra></extra>\",\"legendgroup\":\"Netherlands\",\"locationmode\":\"country names\",\"locations\":[\"Netherlands\"],\"marker\":{\"color\":\"#EF553B\",\"size\":[19],\"sizemode\":\"area\",\"sizeref\":0.18,\"symbol\":\"circle\"},\"mode\":\"markers\",\"name\":\"Netherlands\",\"showlegend\":true,\"type\":\"scattergeo\"},{\"geo\":\"geo\",\"hovertemplate\":\"Country/Region=%{location}<br>Valuation_num=%{marker.size}<extra></extra>\",\"legendgroup\":\"Hong Kong\",\"locationmode\":\"country names\",\"locations\":[\"Hong Kong\"],\"marker\":{\"color\":\"#00cc96\",\"size\":[18],\"sizemode\":\"area\",\"sizeref\":0.18,\"symbol\":\"circle\"},\"mode\":\"markers\",\"name\":\"Hong Kong\",\"showlegend\":true,\"type\":\"scattergeo\"},{\"geo\":\"geo\",\"hovertemplate\":\"Country/Region=%{location}<br>Valuation_num=%{marker.size}<extra></extra>\",\"legendgroup\":\"Turkey\",\"locationmode\":\"country names\",\"locations\":[\"Turkey\"],\"marker\":{\"color\":\"#ab63fa\",\"size\":[16],\"sizemode\":\"area\",\"sizeref\":0.18,\"symbol\":\"circle\"},\"mode\":\"markers\",\"name\":\"Turkey\",\"showlegend\":true,\"type\":\"scattergeo\"},{\"geo\":\"geo\",\"hovertemplate\":\"Country/Region=%{location}<br>Valuation_num=%{marker.size}<extra></extra>\",\"legendgroup\":\"Mexico\",\"locationmode\":\"country names\",\"locations\":[\"Mexico\"],\"marker\":{\"color\":\"#FFA15A\",\"size\":[16],\"sizemode\":\"area\",\"sizeref\":0.18,\"symbol\":\"circle\"},\"mode\":\"markers\",\"name\":\"Mexico\",\"showlegend\":true,\"type\":\"scattergeo\"},{\"geo\":\"geo\",\"hovertemplate\":\"Country/Region=%{location}<br>Valuation_num=%{marker.size}<extra></extra>\",\"legendgroup\":\"Estonia\",\"locationmode\":\"country names\",\"locations\":[\"Estonia\"],\"marker\":{\"color\":\"#19d3f3\",\"size\":[13],\"sizemode\":\"area\",\"sizeref\":0.18,\"symbol\":\"circle\"},\"mode\":\"markers\",\"name\":\"Estonia\",\"showlegend\":true,\"type\":\"scattergeo\"},{\"geo\":\"geo\",\"hovertemplate\":\"Country/Region=%{location}<br>Valuation_num=%{marker.size}<extra></extra>\",\"legendgroup\":\"Finland\",\"locationmode\":\"country names\",\"locations\":[\"Finland\"],\"marker\":{\"color\":\"#FF6692\",\"size\":[12],\"sizemode\":\"area\",\"sizeref\":0.18,\"symbol\":\"circle\"},\"mode\":\"markers\",\"name\":\"Finland\",\"showlegend\":true,\"type\":\"scattergeo\"},{\"geo\":\"geo\",\"hovertemplate\":\"Country/Region=%{location}<br>Valuation_num=%{marker.size}<extra></extra>\",\"legendgroup\":\"Ireland\",\"locationmode\":\"country names\",\"locations\":[\"Ireland\"],\"marker\":{\"color\":\"#B6E880\",\"size\":[9],\"sizemode\":\"area\",\"sizeref\":0.18,\"symbol\":\"circle\"},\"mode\":\"markers\",\"name\":\"Ireland\",\"showlegend\":true,\"type\":\"scattergeo\"},{\"geo\":\"geo\",\"hovertemplate\":\"Country/Region=%{location}<br>Valuation_num=%{marker.size}<extra></extra>\",\"legendgroup\":\"Switzerland\",\"locationmode\":\"country names\",\"locations\":[\"Switzerland\"],\"marker\":{\"color\":\"#FF97FF\",\"size\":[8],\"sizemode\":\"area\",\"sizeref\":0.18,\"symbol\":\"circle\"},\"mode\":\"markers\",\"name\":\"Switzerland\",\"showlegend\":true,\"type\":\"scattergeo\"},{\"geo\":\"geo\",\"hovertemplate\":\"Country/Region=%{location}<br>Valuation_num=%{marker.size}<extra></extra>\",\"legendgroup\":\"Japan\",\"locationmode\":\"country names\",\"locations\":[\"Japan\"],\"marker\":{\"color\":\"#FECB52\",\"size\":[8],\"sizemode\":\"area\",\"sizeref\":0.18,\"symbol\":\"circle\"},\"mode\":\"markers\",\"name\":\"Japan\",\"showlegend\":true,\"type\":\"scattergeo\"},{\"geo\":\"geo\",\"hovertemplate\":\"Country/Region=%{location}<br>Valuation_num=%{marker.size}<extra></extra>\",\"legendgroup\":\"Belgium\",\"locationmode\":\"country names\",\"locations\":[\"Belgium\"],\"marker\":{\"color\":\"#636efa\",\"size\":[8],\"sizemode\":\"area\",\"sizeref\":0.18,\"symbol\":\"circle\"},\"mode\":\"markers\",\"name\":\"Belgium\",\"showlegend\":true,\"type\":\"scattergeo\"},{\"geo\":\"geo\",\"hovertemplate\":\"Country/Region=%{location}<br>Valuation_num=%{marker.size}<extra></extra>\",\"legendgroup\":\"Denmark\",\"locationmode\":\"country names\",\"locations\":[\"Denmark\"],\"marker\":{\"color\":\"#EF553B\",\"size\":[7],\"sizemode\":\"area\",\"sizeref\":0.18,\"symbol\":\"circle\"},\"mode\":\"markers\",\"name\":\"Denmark\",\"showlegend\":true,\"type\":\"scattergeo\"},{\"geo\":\"geo\",\"hovertemplate\":\"Country/Region=%{location}<br>Valuation_num=%{marker.size}<extra></extra>\",\"legendgroup\":\"Austria\",\"locationmode\":\"country names\",\"locations\":[\"Austria\"],\"marker\":{\"color\":\"#00cc96\",\"size\":[7],\"sizemode\":\"area\",\"sizeref\":0.18,\"symbol\":\"circle\"},\"mode\":\"markers\",\"name\":\"Austria\",\"showlegend\":true,\"type\":\"scattergeo\"},{\"geo\":\"geo\",\"hovertemplate\":\"Country/Region=%{location}<br>Valuation_num=%{marker.size}<extra></extra>\",\"legendgroup\":\"Colombia\",\"locationmode\":\"country names\",\"locations\":[\"Colombia\"],\"marker\":{\"color\":\"#ab63fa\",\"size\":[6],\"sizemode\":\"area\",\"sizeref\":0.18,\"symbol\":\"circle\"},\"mode\":\"markers\",\"name\":\"Colombia\",\"showlegend\":true,\"type\":\"scattergeo\"},{\"geo\":\"geo\",\"hovertemplate\":\"Country/Region=%{location}<br>Valuation_num=%{marker.size}<extra></extra>\",\"legendgroup\":\"Norway\",\"locationmode\":\"country names\",\"locations\":[\"Norway\"],\"marker\":{\"color\":\"#FFA15A\",\"size\":[5],\"sizemode\":\"area\",\"sizeref\":0.18,\"symbol\":\"circle\"},\"mode\":\"markers\",\"name\":\"Norway\",\"showlegend\":true,\"type\":\"scattergeo\"},{\"geo\":\"geo\",\"hovertemplate\":\"Country/Region=%{location}<br>Valuation_num=%{marker.size}<extra></extra>\",\"legendgroup\":\"Vietnam\",\"locationmode\":\"country names\",\"locations\":[\"Vietnam\"],\"marker\":{\"color\":\"#19d3f3\",\"size\":[5],\"sizemode\":\"area\",\"sizeref\":0.18,\"symbol\":\"circle\"},\"mode\":\"markers\",\"name\":\"Vietnam\",\"showlegend\":true,\"type\":\"scattergeo\"},{\"geo\":\"geo\",\"hovertemplate\":\"Country/Region=%{location}<br>Valuation_num=%{marker.size}<extra></extra>\",\"legendgroup\":\"Lithuania\",\"locationmode\":\"country names\",\"locations\":[\"Lithuania\"],\"marker\":{\"color\":\"#FF6692\",\"size\":[5],\"sizemode\":\"area\",\"sizeref\":0.18,\"symbol\":\"circle\"},\"mode\":\"markers\",\"name\":\"Lithuania\",\"showlegend\":true,\"type\":\"scattergeo\"},{\"geo\":\"geo\",\"hovertemplate\":\"Country/Region=%{location}<br>Valuation_num=%{marker.size}<extra></extra>\",\"legendgroup\":\"United Arab Emirates\",\"locationmode\":\"country names\",\"locations\":[\"United Arab Emirates\"],\"marker\":{\"color\":\"#B6E880\",\"size\":[5],\"sizemode\":\"area\",\"sizeref\":0.18,\"symbol\":\"circle\"},\"mode\":\"markers\",\"name\":\"United Arab Emirates\",\"showlegend\":true,\"type\":\"scattergeo\"},{\"geo\":\"geo\",\"hovertemplate\":\"Country/Region=%{location}<br>Valuation_num=%{marker.size}<extra></extra>\",\"legendgroup\":\"Spain\",\"locationmode\":\"country names\",\"locations\":[\"Spain\"],\"marker\":{\"color\":\"#FF97FF\",\"size\":[4],\"sizemode\":\"area\",\"sizeref\":0.18,\"symbol\":\"circle\"},\"mode\":\"markers\",\"name\":\"Spain\",\"showlegend\":true,\"type\":\"scattergeo\"},{\"geo\":\"geo\",\"hovertemplate\":\"Country/Region=%{location}<br>Valuation_num=%{marker.size}<extra></extra>\",\"legendgroup\":\"Chile\",\"locationmode\":\"country names\",\"locations\":[\"Chile\"],\"marker\":{\"color\":\"#FECB52\",\"size\":[3],\"sizemode\":\"area\",\"sizeref\":0.18,\"symbol\":\"circle\"},\"mode\":\"markers\",\"name\":\"Chile\",\"showlegend\":true,\"type\":\"scattergeo\"},{\"geo\":\"geo\",\"hovertemplate\":\"Country/Region=%{location}<br>Valuation_num=%{marker.size}<extra></extra>\",\"legendgroup\":\"Philippines\",\"locationmode\":\"country names\",\"locations\":[\"Philippines\"],\"marker\":{\"color\":\"#636efa\",\"size\":[3],\"sizemode\":\"area\",\"sizeref\":0.18,\"symbol\":\"circle\"},\"mode\":\"markers\",\"name\":\"Philippines\",\"showlegend\":true,\"type\":\"scattergeo\"},{\"geo\":\"geo\",\"hovertemplate\":\"Country/Region=%{location}<br>Valuation_num=%{marker.size}<extra></extra>\",\"legendgroup\":\"South Africa\",\"locationmode\":\"country names\",\"locations\":[\"South Africa\"],\"marker\":{\"color\":\"#EF553B\",\"size\":[3],\"sizemode\":\"area\",\"sizeref\":0.18,\"symbol\":\"circle\"},\"mode\":\"markers\",\"name\":\"South Africa\",\"showlegend\":true,\"type\":\"scattergeo\"},{\"geo\":\"geo\",\"hovertemplate\":\"Country/Region=%{location}<br>Valuation_num=%{marker.size}<extra></extra>\",\"legendgroup\":\"Thailand\",\"locationmode\":\"country names\",\"locations\":[\"Thailand\"],\"marker\":{\"color\":\"#00cc96\",\"size\":[3],\"sizemode\":\"area\",\"sizeref\":0.18,\"symbol\":\"circle\"},\"mode\":\"markers\",\"name\":\"Thailand\",\"showlegend\":true,\"type\":\"scattergeo\"},{\"geo\":\"geo\",\"hovertemplate\":\"Country/Region=%{location}<br>Valuation_num=%{marker.size}<extra></extra>\",\"legendgroup\":\"Argentina\",\"locationmode\":\"country names\",\"locations\":[\"Argentina\"],\"marker\":{\"color\":\"#ab63fa\",\"size\":[2],\"sizemode\":\"area\",\"sizeref\":0.18,\"symbol\":\"circle\"},\"mode\":\"markers\",\"name\":\"Argentina\",\"showlegend\":true,\"type\":\"scattergeo\"},{\"geo\":\"geo\",\"hovertemplate\":\"Country/Region=%{location}<br>Valuation_num=%{marker.size}<extra></extra>\",\"legendgroup\":\"Senegal\",\"locationmode\":\"country names\",\"locations\":[\"Senegal\"],\"marker\":{\"color\":\"#FFA15A\",\"size\":[2],\"sizemode\":\"area\",\"sizeref\":0.18,\"symbol\":\"circle\"},\"mode\":\"markers\",\"name\":\"Senegal\",\"showlegend\":true,\"type\":\"scattergeo\"},{\"geo\":\"geo\",\"hovertemplate\":\"Country/Region=%{location}<br>Valuation_num=%{marker.size}<extra></extra>\",\"legendgroup\":\"Nigeria\",\"locationmode\":\"country names\",\"locations\":[\"Nigeria\"],\"marker\":{\"color\":\"#19d3f3\",\"size\":[2],\"sizemode\":\"area\",\"sizeref\":0.18,\"symbol\":\"circle\"},\"mode\":\"markers\",\"name\":\"Nigeria\",\"showlegend\":true,\"type\":\"scattergeo\"},{\"geo\":\"geo\",\"hovertemplate\":\"Country/Region=%{location}<br>Valuation_num=%{marker.size}<extra></extra>\",\"legendgroup\":\"Malaysia\",\"locationmode\":\"country names\",\"locations\":[\"Malaysia\"],\"marker\":{\"color\":\"#FF6692\",\"size\":[2],\"sizemode\":\"area\",\"sizeref\":0.18,\"symbol\":\"circle\"},\"mode\":\"markers\",\"name\":\"Malaysia\",\"showlegend\":true,\"type\":\"scattergeo\"},{\"geo\":\"geo\",\"hovertemplate\":\"Country/Region=%{location}<br>Valuation_num=%{marker.size}<extra></extra>\",\"legendgroup\":\"Luxembourg\",\"locationmode\":\"country names\",\"locations\":[\"Luxembourg\"],\"marker\":{\"color\":\"#B6E880\",\"size\":[2],\"sizemode\":\"area\",\"sizeref\":0.18,\"symbol\":\"circle\"},\"mode\":\"markers\",\"name\":\"Luxembourg\",\"showlegend\":true,\"type\":\"scattergeo\"},{\"geo\":\"geo\",\"hovertemplate\":\"Country/Region=%{location}<br>Valuation_num=%{marker.size}<extra></extra>\",\"legendgroup\":\"Bermuda\",\"locationmode\":\"country names\",\"locations\":[\"Bermuda\"],\"marker\":{\"color\":\"#FF97FF\",\"size\":[2],\"sizemode\":\"area\",\"sizeref\":0.18,\"symbol\":\"circle\"},\"mode\":\"markers\",\"name\":\"Bermuda\",\"showlegend\":true,\"type\":\"scattergeo\"},{\"geo\":\"geo\",\"hovertemplate\":\"Country/Region=%{location}<br>Valuation_num=%{marker.size}<extra></extra>\",\"legendgroup\":\"Czech Republic\",\"locationmode\":\"country names\",\"locations\":[\"Czech Republic\"],\"marker\":{\"color\":\"#FECB52\",\"size\":[1],\"sizemode\":\"area\",\"sizeref\":0.18,\"symbol\":\"circle\"},\"mode\":\"markers\",\"name\":\"Czech Republic\",\"showlegend\":true,\"type\":\"scattergeo\"},{\"geo\":\"geo\",\"hovertemplate\":\"Country/Region=%{location}<br>Valuation_num=%{marker.size}<extra></extra>\",\"legendgroup\":\"Croatia\",\"locationmode\":\"country names\",\"locations\":[\"Croatia\"],\"marker\":{\"color\":\"#636efa\",\"size\":[1],\"sizemode\":\"area\",\"sizeref\":0.18,\"symbol\":\"circle\"},\"mode\":\"markers\",\"name\":\"Croatia\",\"showlegend\":true,\"type\":\"scattergeo\"},{\"geo\":\"geo\",\"hovertemplate\":\"Country/Region=%{location}<br>Valuation_num=%{marker.size}<extra></extra>\",\"legendgroup\":\"Italy\",\"locationmode\":\"country names\",\"locations\":[\"Italy\"],\"marker\":{\"color\":\"#EF553B\",\"size\":[1],\"sizemode\":\"area\",\"sizeref\":0.18,\"symbol\":\"circle\"},\"mode\":\"markers\",\"name\":\"Italy\",\"showlegend\":true,\"type\":\"scattergeo\"}],                        {\"template\":{\"data\":{\"histogram2dcontour\":[{\"type\":\"histogram2dcontour\",\"colorbar\":{\"outlinewidth\":0,\"ticks\":\"\"},\"colorscale\":[[0.0,\"#0d0887\"],[0.1111111111111111,\"#46039f\"],[0.2222222222222222,\"#7201a8\"],[0.3333333333333333,\"#9c179e\"],[0.4444444444444444,\"#bd3786\"],[0.5555555555555556,\"#d8576b\"],[0.6666666666666666,\"#ed7953\"],[0.7777777777777778,\"#fb9f3a\"],[0.8888888888888888,\"#fdca26\"],[1.0,\"#f0f921\"]]}],\"choropleth\":[{\"type\":\"choropleth\",\"colorbar\":{\"outlinewidth\":0,\"ticks\":\"\"}}],\"histogram2d\":[{\"type\":\"histogram2d\",\"colorbar\":{\"outlinewidth\":0,\"ticks\":\"\"},\"colorscale\":[[0.0,\"#0d0887\"],[0.1111111111111111,\"#46039f\"],[0.2222222222222222,\"#7201a8\"],[0.3333333333333333,\"#9c179e\"],[0.4444444444444444,\"#bd3786\"],[0.5555555555555556,\"#d8576b\"],[0.6666666666666666,\"#ed7953\"],[0.7777777777777778,\"#fb9f3a\"],[0.8888888888888888,\"#fdca26\"],[1.0,\"#f0f921\"]]}],\"heatmap\":[{\"type\":\"heatmap\",\"colorbar\":{\"outlinewidth\":0,\"ticks\":\"\"},\"colorscale\":[[0.0,\"#0d0887\"],[0.1111111111111111,\"#46039f\"],[0.2222222222222222,\"#7201a8\"],[0.3333333333333333,\"#9c179e\"],[0.4444444444444444,\"#bd3786\"],[0.5555555555555556,\"#d8576b\"],[0.6666666666666666,\"#ed7953\"],[0.7777777777777778,\"#fb9f3a\"],[0.8888888888888888,\"#fdca26\"],[1.0,\"#f0f921\"]]}],\"heatmapgl\":[{\"type\":\"heatmapgl\",\"colorbar\":{\"outlinewidth\":0,\"ticks\":\"\"},\"colorscale\":[[0.0,\"#0d0887\"],[0.1111111111111111,\"#46039f\"],[0.2222222222222222,\"#7201a8\"],[0.3333333333333333,\"#9c179e\"],[0.4444444444444444,\"#bd3786\"],[0.5555555555555556,\"#d8576b\"],[0.6666666666666666,\"#ed7953\"],[0.7777777777777778,\"#fb9f3a\"],[0.8888888888888888,\"#fdca26\"],[1.0,\"#f0f921\"]]}],\"contourcarpet\":[{\"type\":\"contourcarpet\",\"colorbar\":{\"outlinewidth\":0,\"ticks\":\"\"}}],\"contour\":[{\"type\":\"contour\",\"colorbar\":{\"outlinewidth\":0,\"ticks\":\"\"},\"colorscale\":[[0.0,\"#0d0887\"],[0.1111111111111111,\"#46039f\"],[0.2222222222222222,\"#7201a8\"],[0.3333333333333333,\"#9c179e\"],[0.4444444444444444,\"#bd3786\"],[0.5555555555555556,\"#d8576b\"],[0.6666666666666666,\"#ed7953\"],[0.7777777777777778,\"#fb9f3a\"],[0.8888888888888888,\"#fdca26\"],[1.0,\"#f0f921\"]]}],\"surface\":[{\"type\":\"surface\",\"colorbar\":{\"outlinewidth\":0,\"ticks\":\"\"},\"colorscale\":[[0.0,\"#0d0887\"],[0.1111111111111111,\"#46039f\"],[0.2222222222222222,\"#7201a8\"],[0.3333333333333333,\"#9c179e\"],[0.4444444444444444,\"#bd3786\"],[0.5555555555555556,\"#d8576b\"],[0.6666666666666666,\"#ed7953\"],[0.7777777777777778,\"#fb9f3a\"],[0.8888888888888888,\"#fdca26\"],[1.0,\"#f0f921\"]]}],\"mesh3d\":[{\"type\":\"mesh3d\",\"colorbar\":{\"outlinewidth\":0,\"ticks\":\"\"}}],\"scatter\":[{\"fillpattern\":{\"fillmode\":\"overlay\",\"size\":10,\"solidity\":0.2},\"type\":\"scatter\"}],\"parcoords\":[{\"type\":\"parcoords\",\"line\":{\"colorbar\":{\"outlinewidth\":0,\"ticks\":\"\"}}}],\"scatterpolargl\":[{\"type\":\"scatterpolargl\",\"marker\":{\"colorbar\":{\"outlinewidth\":0,\"ticks\":\"\"}}}],\"bar\":[{\"error_x\":{\"color\":\"#2a3f5f\"},\"error_y\":{\"color\":\"#2a3f5f\"},\"marker\":{\"line\":{\"color\":\"#E5ECF6\",\"width\":0.5},\"pattern\":{\"fillmode\":\"overlay\",\"size\":10,\"solidity\":0.2}},\"type\":\"bar\"}],\"scattergeo\":[{\"type\":\"scattergeo\",\"marker\":{\"colorbar\":{\"outlinewidth\":0,\"ticks\":\"\"}}}],\"scatterpolar\":[{\"type\":\"scatterpolar\",\"marker\":{\"colorbar\":{\"outlinewidth\":0,\"ticks\":\"\"}}}],\"histogram\":[{\"marker\":{\"pattern\":{\"fillmode\":\"overlay\",\"size\":10,\"solidity\":0.2}},\"type\":\"histogram\"}],\"scattergl\":[{\"type\":\"scattergl\",\"marker\":{\"colorbar\":{\"outlinewidth\":0,\"ticks\":\"\"}}}],\"scatter3d\":[{\"type\":\"scatter3d\",\"line\":{\"colorbar\":{\"outlinewidth\":0,\"ticks\":\"\"}},\"marker\":{\"colorbar\":{\"outlinewidth\":0,\"ticks\":\"\"}}}],\"scattermapbox\":[{\"type\":\"scattermapbox\",\"marker\":{\"colorbar\":{\"outlinewidth\":0,\"ticks\":\"\"}}}],\"scatterternary\":[{\"type\":\"scatterternary\",\"marker\":{\"colorbar\":{\"outlinewidth\":0,\"ticks\":\"\"}}}],\"scattercarpet\":[{\"type\":\"scattercarpet\",\"marker\":{\"colorbar\":{\"outlinewidth\":0,\"ticks\":\"\"}}}],\"carpet\":[{\"aaxis\":{\"endlinecolor\":\"#2a3f5f\",\"gridcolor\":\"white\",\"linecolor\":\"white\",\"minorgridcolor\":\"white\",\"startlinecolor\":\"#2a3f5f\"},\"baxis\":{\"endlinecolor\":\"#2a3f5f\",\"gridcolor\":\"white\",\"linecolor\":\"white\",\"minorgridcolor\":\"white\",\"startlinecolor\":\"#2a3f5f\"},\"type\":\"carpet\"}],\"table\":[{\"cells\":{\"fill\":{\"color\":\"#EBF0F8\"},\"line\":{\"color\":\"white\"}},\"header\":{\"fill\":{\"color\":\"#C8D4E3\"},\"line\":{\"color\":\"white\"}},\"type\":\"table\"}],\"barpolar\":[{\"marker\":{\"line\":{\"color\":\"#E5ECF6\",\"width\":0.5},\"pattern\":{\"fillmode\":\"overlay\",\"size\":10,\"solidity\":0.2}},\"type\":\"barpolar\"}],\"pie\":[{\"automargin\":true,\"type\":\"pie\"}]},\"layout\":{\"autotypenumbers\":\"strict\",\"colorway\":[\"#636efa\",\"#EF553B\",\"#00cc96\",\"#ab63fa\",\"#FFA15A\",\"#19d3f3\",\"#FF6692\",\"#B6E880\",\"#FF97FF\",\"#FECB52\"],\"font\":{\"color\":\"#2a3f5f\"},\"hovermode\":\"closest\",\"hoverlabel\":{\"align\":\"left\"},\"paper_bgcolor\":\"white\",\"plot_bgcolor\":\"#E5ECF6\",\"polar\":{\"bgcolor\":\"#E5ECF6\",\"angularaxis\":{\"gridcolor\":\"white\",\"linecolor\":\"white\",\"ticks\":\"\"},\"radialaxis\":{\"gridcolor\":\"white\",\"linecolor\":\"white\",\"ticks\":\"\"}},\"ternary\":{\"bgcolor\":\"#E5ECF6\",\"aaxis\":{\"gridcolor\":\"white\",\"linecolor\":\"white\",\"ticks\":\"\"},\"baxis\":{\"gridcolor\":\"white\",\"linecolor\":\"white\",\"ticks\":\"\"},\"caxis\":{\"gridcolor\":\"white\",\"linecolor\":\"white\",\"ticks\":\"\"}},\"coloraxis\":{\"colorbar\":{\"outlinewidth\":0,\"ticks\":\"\"}},\"colorscale\":{\"sequential\":[[0.0,\"#0d0887\"],[0.1111111111111111,\"#46039f\"],[0.2222222222222222,\"#7201a8\"],[0.3333333333333333,\"#9c179e\"],[0.4444444444444444,\"#bd3786\"],[0.5555555555555556,\"#d8576b\"],[0.6666666666666666,\"#ed7953\"],[0.7777777777777778,\"#fb9f3a\"],[0.8888888888888888,\"#fdca26\"],[1.0,\"#f0f921\"]],\"sequentialminus\":[[0.0,\"#0d0887\"],[0.1111111111111111,\"#46039f\"],[0.2222222222222222,\"#7201a8\"],[0.3333333333333333,\"#9c179e\"],[0.4444444444444444,\"#bd3786\"],[0.5555555555555556,\"#d8576b\"],[0.6666666666666666,\"#ed7953\"],[0.7777777777777778,\"#fb9f3a\"],[0.8888888888888888,\"#fdca26\"],[1.0,\"#f0f921\"]],\"diverging\":[[0,\"#8e0152\"],[0.1,\"#c51b7d\"],[0.2,\"#de77ae\"],[0.3,\"#f1b6da\"],[0.4,\"#fde0ef\"],[0.5,\"#f7f7f7\"],[0.6,\"#e6f5d0\"],[0.7,\"#b8e186\"],[0.8,\"#7fbc41\"],[0.9,\"#4d9221\"],[1,\"#276419\"]]},\"xaxis\":{\"gridcolor\":\"white\",\"linecolor\":\"white\",\"ticks\":\"\",\"title\":{\"standoff\":15},\"zerolinecolor\":\"white\",\"automargin\":true,\"zerolinewidth\":2},\"yaxis\":{\"gridcolor\":\"white\",\"linecolor\":\"white\",\"ticks\":\"\",\"title\":{\"standoff\":15},\"zerolinecolor\":\"white\",\"automargin\":true,\"zerolinewidth\":2},\"scene\":{\"xaxis\":{\"backgroundcolor\":\"#E5ECF6\",\"gridcolor\":\"white\",\"linecolor\":\"white\",\"showbackground\":true,\"ticks\":\"\",\"zerolinecolor\":\"white\",\"gridwidth\":2},\"yaxis\":{\"backgroundcolor\":\"#E5ECF6\",\"gridcolor\":\"white\",\"linecolor\":\"white\",\"showbackground\":true,\"ticks\":\"\",\"zerolinecolor\":\"white\",\"gridwidth\":2},\"zaxis\":{\"backgroundcolor\":\"#E5ECF6\",\"gridcolor\":\"white\",\"linecolor\":\"white\",\"showbackground\":true,\"ticks\":\"\",\"zerolinecolor\":\"white\",\"gridwidth\":2}},\"shapedefaults\":{\"line\":{\"color\":\"#2a3f5f\"}},\"annotationdefaults\":{\"arrowcolor\":\"#2a3f5f\",\"arrowhead\":0,\"arrowwidth\":1},\"geo\":{\"bgcolor\":\"white\",\"landcolor\":\"#E5ECF6\",\"subunitcolor\":\"white\",\"showland\":true,\"showlakes\":true,\"lakecolor\":\"white\"},\"title\":{\"x\":0.05},\"mapbox\":{\"style\":\"light\"}}},\"geo\":{\"domain\":{\"x\":[0.0,1.0],\"y\":[0.0,1.0]},\"center\":{},\"scope\":\"europe\"},\"legend\":{\"title\":{\"text\":\"Country/Region\"},\"tracegroupgap\":0,\"itemsizing\":\"constant\"},\"title\":{\"text\":\"Europe Unicorn Company Values\"}},                        {\"responsive\": true}                    ).then(function(){\n",
       "                            \n",
       "var gd = document.getElementById('424c2924-b8b6-4dba-9a27-363d2db3606b');\n",
       "var x = new MutationObserver(function (mutations, observer) {{\n",
       "        var display = window.getComputedStyle(gd).display;\n",
       "        if (!display || display === 'none') {{\n",
       "            console.log([gd, 'removed!']);\n",
       "            Plotly.purge(gd);\n",
       "            observer.disconnect();\n",
       "        }}\n",
       "}});\n",
       "\n",
       "// Listen for the removal of the full notebook cells\n",
       "var notebookContainer = gd.closest('#notebook-container');\n",
       "if (notebookContainer) {{\n",
       "    x.observe(notebookContainer, {childList: true});\n",
       "}}\n",
       "\n",
       "// Listen for the clearing of the current output cell\n",
       "var outputEl = gd.closest('.output');\n",
       "if (outputEl) {{\n",
       "    x.observe(outputEl, {childList: true});\n",
       "}}\n",
       "\n",
       "                        })                };                });            </script>        </div>"
      ]
     },
     "metadata": {},
     "output_type": "display_data"
    }
   ],
   "source": [
    "# Update the figure layout.\n",
    "\n",
    "fig.update_layout(\n",
    "    title_text = 'Europe Unicorn Company Values', # Create a Title\n",
    "    geo_scope='europe',  # Plot only the Europe instead of globe\n",
    ")\n",
    "\n",
    "### YOUR CODE HERE ###\n",
    "\n",
    "# Show the plot again.\n",
    "fig.show()\n",
    "### YOUR CODE HERE ###"
   ]
  },
  {
   "cell_type": "markdown",
   "metadata": {
    "id": "J4Hi-MgXjyLs"
   },
   "source": [
    "**Question: What steps could you take to further analyze the data?**\n"
   ]
  },
  {
   "cell_type": "markdown",
   "metadata": {
    "id": "umArf60_T19R"
   },
   "source": [
    "Validation and add more visualization types"
   ]
  },
  {
   "cell_type": "markdown",
   "metadata": {
    "id": "c77e7f0f-d2b9-4464-8a7c-9575d1e1ef9f"
   },
   "source": [
    "## Conclusion\n",
    "\n",
    "**What are some key takeaways that you learned during this lab?**\n",
    "\n",
    "how to get only missing data out of the dataset\n",
    "\n",
    "merge()\n",
    "\n",
    "px.scatter_geo()"
   ]
  },
  {
   "cell_type": "markdown",
   "metadata": {
    "id": "R9sAADZgr-YI"
   },
   "source": [
    "**Reference**\n",
    "\n",
    "[Bhat, M.A. *Unicorn Companies*](https://www.kaggle.com/datasets/mysarahmadbhat/unicorn-companies)\n",
    "\n"
   ]
  }
 ],
 "metadata": {
  "colab": {
   "collapsed_sections": [],
   "provenance": [
    {
     "file_id": "1D-SVQBZbnniSdt931Vd2drfvP_D0FNCC",
     "timestamp": 1661469989747
    },
    {
     "file_id": "1OZW8XgxaFvstKFchHbudTfA5IVDxThz0",
     "timestamp": 1661403750705
    }
   ],
   "toc_visible": true
  },
  "kernelspec": {
   "display_name": "Python 3",
   "language": "python",
   "name": "python3"
  },
  "language_info": {
   "codemirror_mode": {
    "name": "ipython",
    "version": 3
   },
   "file_extension": ".py",
   "mimetype": "text/x-python",
   "name": "python",
   "nbconvert_exporter": "python",
   "pygments_lexer": "ipython3",
   "version": "3.7.6"
  },
  "toc-autonumbering": false,
  "toc-showtags": false,
  "vscode": {
   "interpreter": {
    "hash": "58544ced29f0d0ccc90b78766d7e805897dc369e996e4fcba52aba46a973bc61"
   }
  }
 },
 "nbformat": 4,
 "nbformat_minor": 5
}

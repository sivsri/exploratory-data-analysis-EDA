{
  "cells": [
    {
      "cell_type": "markdown",
      "metadata": {
        "id": "view-in-github",
        "colab_type": "text"
      },
      "source": [
        "<a href=\"https://colab.research.google.com/github/sivsri/exploratory-data-analysis-EDA/blob/main/Activity_Structure_your_data.ipynb\" target=\"_parent\"><img src=\"https://colab.research.google.com/assets/colab-badge.svg\" alt=\"Open In Colab\"/></a>"
      ]
    },
    {
      "cell_type": "markdown",
      "metadata": {
        "id": "1WD1hC5MTRMS"
      },
      "source": [
        "# Activity: Structure your data "
      ],
      "id": "1WD1hC5MTRMS"
    },
    {
      "cell_type": "markdown",
      "metadata": {
        "id": "ee31943b-274e-4c28-bce6-155cb6f4c334"
      },
      "source": [
        "## Introduction\n",
        "\n",
        "In this activity, you will practice structuring, an **exploratory data analysis (EDA)** step that helps data science projects move forward. During EDA, when working with data that contains aspects of date and time, \"datetime\" transformations are integral to better understanding the data. As a data professional, you will encounter datatime transformations quite often as you determine how to format your data to suit the problems you want to solve or the questions you want to answer. This activity gives you an opportunity to apply these skills and prepare you for future EDA, where you will need to determine how best to structure your data.\n",
        "\n",
        "In this activity, you are a member of an analytics team that provides insights to an investing firm. To help them decide which companies to invest in next, the firm wants insights into **unicorn companies**–companies that are valued at over one billion dollars.  \n",
        "\n",
        "You will work with a dataset about unicorn companies, discovering characteristics of the data, structuring the data in ways that will help you draw meaningful insights, and using visualizations to analyze the data. Ultimately, you will draw conclusions about what significant trends or patterns you find in the dataset. This will develop your skills in EDA and your knowledge of functions that allow you to structure data.\n",
        "\n",
        "\n",
        "\n"
      ],
      "id": "ee31943b-274e-4c28-bce6-155cb6f4c334"
    },
    {
      "cell_type": "markdown",
      "metadata": {
        "id": "4bb9630e-b940-4835-a389-d39def1fa848"
      },
      "source": [
        "## Step 1: Imports "
      ],
      "id": "4bb9630e-b940-4835-a389-d39def1fa848"
    },
    {
      "cell_type": "markdown",
      "metadata": {
        "id": "bc180686-4ae2-47ea-a292-3588ac60a820"
      },
      "source": [
        "### Import relevant libraries and modules\n",
        "\n",
        "Import the relevant Python libraries and modules that you will need to use. In this activity, you will use `pandas`, `numpy`, `seaborn`, and `matplotlib.pyplot`."
      ],
      "id": "bc180686-4ae2-47ea-a292-3588ac60a820"
    },
    {
      "cell_type": "code",
      "execution_count": null,
      "metadata": {
        "id": "8e7f1f2c-bbcc-4f3c-b927-b090ee8334c4"
      },
      "outputs": [],
      "source": [
        "# Import the relevant Python libraries and modules needed in this lab.\n",
        "\n",
        "### YOUR CODE HERE ###\n",
        "import numpy as np\n",
        "import pandas as pd\n",
        "import matplotlib.pyplot as plt\n",
        "import seaborn as sns"
      ],
      "id": "8e7f1f2c-bbcc-4f3c-b927-b090ee8334c4"
    },
    {
      "cell_type": "markdown",
      "metadata": {
        "id": "7d29c6bd-f194-46bb-b794-56dc20130473"
      },
      "source": [
        "### Load the dataset into a DataFrame\n",
        "\n",
        "The dataset provided is in the form of a csv file named `Unicorn_Companies.csv` and contains a subset of data on unicorn companies. As shown in this cell, the dataset has been automatically loaded in for you. You do not need to download the .csv file, or provide more code, in order to access the dataset and proceed with this lab. Please continue with this activity by completing the following instructions."
      ],
      "id": "7d29c6bd-f194-46bb-b794-56dc20130473"
    },
    {
      "cell_type": "code",
      "execution_count": null,
      "metadata": {
        "id": "3bd40d44-080f-4e49-b0c2-160dedc3c4df"
      },
      "outputs": [],
      "source": [
        "# RUN THIS CELL TO IMPORT YOUR DATA.\n",
        "\n",
        "### YOUR CODE HERE ###\n",
        "companies = pd.read_csv(\"Unicorn_Companies.csv\")"
      ],
      "id": "3bd40d44-080f-4e49-b0c2-160dedc3c4df"
    },
    {
      "cell_type": "markdown",
      "metadata": {
        "id": "95bf39c9-d05c-4324-a40b-bc692607b61b"
      },
      "source": [
        "## Step 2: Data exploration\n"
      ],
      "id": "95bf39c9-d05c-4324-a40b-bc692607b61b"
    },
    {
      "cell_type": "markdown",
      "metadata": {
        "id": "pEeiG2M76OLH"
      },
      "source": [
        "### Display the first 10 rows of the data\n",
        "\n",
        "In this section, you will discover what the dataset entails and answer questions to guide your exploration and analysis of the data. This is an important step in EDA. \n",
        "\n",
        "To begin, display the first 10 rows of the data to get an understanding of how the dataset is structured. "
      ],
      "id": "pEeiG2M76OLH"
    },
    {
      "cell_type": "code",
      "execution_count": null,
      "metadata": {
        "id": "ad5210a5-7a64-4991-b004-de818cfaf506",
        "outputId": "78eb3394-2b3a-4266-d5f8-e7edac21249d"
      },
      "outputs": [
        {
          "data": {
            "text/html": [
              "<div>\n",
              "<style scoped>\n",
              "    .dataframe tbody tr th:only-of-type {\n",
              "        vertical-align: middle;\n",
              "    }\n",
              "\n",
              "    .dataframe tbody tr th {\n",
              "        vertical-align: top;\n",
              "    }\n",
              "\n",
              "    .dataframe thead th {\n",
              "        text-align: right;\n",
              "    }\n",
              "</style>\n",
              "<table border=\"1\" class=\"dataframe\">\n",
              "  <thead>\n",
              "    <tr style=\"text-align: right;\">\n",
              "      <th></th>\n",
              "      <th>Company</th>\n",
              "      <th>Valuation</th>\n",
              "      <th>Date Joined</th>\n",
              "      <th>Industry</th>\n",
              "      <th>City</th>\n",
              "      <th>Country/Region</th>\n",
              "      <th>Continent</th>\n",
              "      <th>Year Founded</th>\n",
              "      <th>Funding</th>\n",
              "      <th>Select Investors</th>\n",
              "    </tr>\n",
              "  </thead>\n",
              "  <tbody>\n",
              "    <tr>\n",
              "      <th>0</th>\n",
              "      <td>Bytedance</td>\n",
              "      <td>$180B</td>\n",
              "      <td>4/7/17</td>\n",
              "      <td>Artificial intelligence</td>\n",
              "      <td>Beijing</td>\n",
              "      <td>China</td>\n",
              "      <td>Asia</td>\n",
              "      <td>2012</td>\n",
              "      <td>$8B</td>\n",
              "      <td>Sequoia Capital China, SIG Asia Investments, S...</td>\n",
              "    </tr>\n",
              "    <tr>\n",
              "      <th>1</th>\n",
              "      <td>SpaceX</td>\n",
              "      <td>$100B</td>\n",
              "      <td>12/1/12</td>\n",
              "      <td>Other</td>\n",
              "      <td>Hawthorne</td>\n",
              "      <td>United States</td>\n",
              "      <td>North America</td>\n",
              "      <td>2002</td>\n",
              "      <td>$7B</td>\n",
              "      <td>Founders Fund, Draper Fisher Jurvetson, Rothen...</td>\n",
              "    </tr>\n",
              "    <tr>\n",
              "      <th>2</th>\n",
              "      <td>SHEIN</td>\n",
              "      <td>$100B</td>\n",
              "      <td>7/3/18</td>\n",
              "      <td>E-commerce &amp; direct-to-consumer</td>\n",
              "      <td>Shenzhen</td>\n",
              "      <td>China</td>\n",
              "      <td>Asia</td>\n",
              "      <td>2008</td>\n",
              "      <td>$2B</td>\n",
              "      <td>Tiger Global Management, Sequoia Capital China...</td>\n",
              "    </tr>\n",
              "    <tr>\n",
              "      <th>3</th>\n",
              "      <td>Stripe</td>\n",
              "      <td>$95B</td>\n",
              "      <td>1/23/14</td>\n",
              "      <td>Fintech</td>\n",
              "      <td>San Francisco</td>\n",
              "      <td>United States</td>\n",
              "      <td>North America</td>\n",
              "      <td>2010</td>\n",
              "      <td>$2B</td>\n",
              "      <td>Khosla Ventures, LowercaseCapital, capitalG</td>\n",
              "    </tr>\n",
              "    <tr>\n",
              "      <th>4</th>\n",
              "      <td>Klarna</td>\n",
              "      <td>$46B</td>\n",
              "      <td>12/12/11</td>\n",
              "      <td>Fintech</td>\n",
              "      <td>Stockholm</td>\n",
              "      <td>Sweden</td>\n",
              "      <td>Europe</td>\n",
              "      <td>2005</td>\n",
              "      <td>$4B</td>\n",
              "      <td>Institutional Venture Partners, Sequoia Capita...</td>\n",
              "    </tr>\n",
              "    <tr>\n",
              "      <th>5</th>\n",
              "      <td>Canva</td>\n",
              "      <td>$40B</td>\n",
              "      <td>1/8/18</td>\n",
              "      <td>Internet software &amp; services</td>\n",
              "      <td>Surry Hills</td>\n",
              "      <td>Australia</td>\n",
              "      <td>Oceania</td>\n",
              "      <td>2012</td>\n",
              "      <td>$572M</td>\n",
              "      <td>Sequoia Capital China, Blackbird Ventures, Mat...</td>\n",
              "    </tr>\n",
              "    <tr>\n",
              "      <th>6</th>\n",
              "      <td>Checkout.com</td>\n",
              "      <td>$40B</td>\n",
              "      <td>5/2/19</td>\n",
              "      <td>Fintech</td>\n",
              "      <td>London</td>\n",
              "      <td>United Kingdom</td>\n",
              "      <td>Europe</td>\n",
              "      <td>2012</td>\n",
              "      <td>$2B</td>\n",
              "      <td>Tiger Global Management, Insight Partners, DST...</td>\n",
              "    </tr>\n",
              "    <tr>\n",
              "      <th>7</th>\n",
              "      <td>Instacart</td>\n",
              "      <td>$39B</td>\n",
              "      <td>12/30/14</td>\n",
              "      <td>Supply chain, logistics, &amp; delivery</td>\n",
              "      <td>San Francisco</td>\n",
              "      <td>United States</td>\n",
              "      <td>North America</td>\n",
              "      <td>2012</td>\n",
              "      <td>$3B</td>\n",
              "      <td>Khosla Ventures, Kleiner Perkins Caufield &amp; By...</td>\n",
              "    </tr>\n",
              "    <tr>\n",
              "      <th>8</th>\n",
              "      <td>JUUL Labs</td>\n",
              "      <td>$38B</td>\n",
              "      <td>12/20/17</td>\n",
              "      <td>Consumer &amp; retail</td>\n",
              "      <td>San Francisco</td>\n",
              "      <td>United States</td>\n",
              "      <td>North America</td>\n",
              "      <td>2015</td>\n",
              "      <td>$14B</td>\n",
              "      <td>Tiger Global Management</td>\n",
              "    </tr>\n",
              "    <tr>\n",
              "      <th>9</th>\n",
              "      <td>Databricks</td>\n",
              "      <td>$38B</td>\n",
              "      <td>2/5/19</td>\n",
              "      <td>Data management &amp; analytics</td>\n",
              "      <td>San Francisco</td>\n",
              "      <td>United States</td>\n",
              "      <td>North America</td>\n",
              "      <td>2013</td>\n",
              "      <td>$3B</td>\n",
              "      <td>Andreessen Horowitz, New Enterprise Associates...</td>\n",
              "    </tr>\n",
              "  </tbody>\n",
              "</table>\n",
              "</div>"
            ],
            "text/plain": [
              "        Company Valuation Date Joined                             Industry  \\\n",
              "0     Bytedance     $180B      4/7/17              Artificial intelligence   \n",
              "1        SpaceX     $100B     12/1/12                                Other   \n",
              "2         SHEIN     $100B      7/3/18      E-commerce & direct-to-consumer   \n",
              "3        Stripe      $95B     1/23/14                              Fintech   \n",
              "4        Klarna      $46B    12/12/11                              Fintech   \n",
              "5         Canva      $40B      1/8/18         Internet software & services   \n",
              "6  Checkout.com      $40B      5/2/19                              Fintech   \n",
              "7     Instacart      $39B    12/30/14  Supply chain, logistics, & delivery   \n",
              "8     JUUL Labs      $38B    12/20/17                    Consumer & retail   \n",
              "9    Databricks      $38B      2/5/19          Data management & analytics   \n",
              "\n",
              "            City  Country/Region      Continent  Year Founded Funding  \\\n",
              "0        Beijing           China           Asia          2012     $8B   \n",
              "1      Hawthorne   United States  North America          2002     $7B   \n",
              "2       Shenzhen           China           Asia          2008     $2B   \n",
              "3  San Francisco   United States  North America          2010     $2B   \n",
              "4      Stockholm          Sweden         Europe          2005     $4B   \n",
              "5    Surry Hills       Australia        Oceania          2012   $572M   \n",
              "6         London  United Kingdom         Europe          2012     $2B   \n",
              "7  San Francisco   United States  North America          2012     $3B   \n",
              "8  San Francisco   United States  North America          2015    $14B   \n",
              "9  San Francisco   United States  North America          2013     $3B   \n",
              "\n",
              "                                    Select Investors  \n",
              "0  Sequoia Capital China, SIG Asia Investments, S...  \n",
              "1  Founders Fund, Draper Fisher Jurvetson, Rothen...  \n",
              "2  Tiger Global Management, Sequoia Capital China...  \n",
              "3        Khosla Ventures, LowercaseCapital, capitalG  \n",
              "4  Institutional Venture Partners, Sequoia Capita...  \n",
              "5  Sequoia Capital China, Blackbird Ventures, Mat...  \n",
              "6  Tiger Global Management, Insight Partners, DST...  \n",
              "7  Khosla Ventures, Kleiner Perkins Caufield & By...  \n",
              "8                            Tiger Global Management  \n",
              "9  Andreessen Horowitz, New Enterprise Associates...  "
            ]
          },
          "execution_count": 3,
          "metadata": {},
          "output_type": "execute_result"
        }
      ],
      "source": [
        "# Display the first 10 rows of the data.\n",
        "\n",
        "### YOUR CODE HERE ###\n",
        "companies.head(10)\n"
      ],
      "id": "ad5210a5-7a64-4991-b004-de818cfaf506"
    },
    {
      "cell_type": "markdown",
      "metadata": {
        "id": "e31095a6-5526-42d3-b1c0-b77c1f8b3852"
      },
      "source": [
        "### Identify the number of rows and columns\n",
        "\n",
        "Identify the number of rows and columns in the dataset. This will help you get a sense of how much data you are working with."
      ],
      "id": "e31095a6-5526-42d3-b1c0-b77c1f8b3852"
    },
    {
      "cell_type": "code",
      "execution_count": null,
      "metadata": {
        "id": "df3c71a1-2519-4c50-86c2-63902a534d27",
        "outputId": "e859c7d0-427a-47c1-fa05-912675cf49b2"
      },
      "outputs": [
        {
          "data": {
            "text/plain": [
              "(1074, 10)"
            ]
          },
          "execution_count": 4,
          "metadata": {},
          "output_type": "execute_result"
        }
      ],
      "source": [
        "# Identify the number of rows and columns in the dataset.\n",
        "\n",
        "### YOUR CODE HERE ###\n",
        "companies.shape\n"
      ],
      "id": "df3c71a1-2519-4c50-86c2-63902a534d27"
    },
    {
      "cell_type": "markdown",
      "metadata": {
        "id": "4c2998a8-f864-43eb-a2d5-64845ebc805c"
      },
      "source": [
        "**Question:** What do you notice about the number of rows and columns in the dataset?\n"
      ],
      "id": "4c2998a8-f864-43eb-a2d5-64845ebc805c"
    },
    {
      "cell_type": "markdown",
      "metadata": {
        "id": "I814R8oVz0f8"
      },
      "source": [
        "There are 1074 rows and 10 columns"
      ],
      "id": "I814R8oVz0f8"
    },
    {
      "cell_type": "markdown",
      "metadata": {
        "id": "H_ot-KEQ_YAH"
      },
      "source": [
        "### Check for duplicates in the data"
      ],
      "id": "H_ot-KEQ_YAH"
    },
    {
      "cell_type": "code",
      "execution_count": null,
      "metadata": {
        "id": "3eT0fgc__MY9",
        "outputId": "6b3518c8-42b2-4fe6-af96-76d0c19530b0"
      },
      "outputs": [
        {
          "data": {
            "text/plain": [
              "(1074, 10)"
            ]
          },
          "execution_count": 11,
          "metadata": {},
          "output_type": "execute_result"
        }
      ],
      "source": [
        "# Check for duplicates.\n",
        "\n",
        "### YOUR CODE HERE ###\n",
        "companies.drop_duplicates().shape"
      ],
      "id": "3eT0fgc__MY9"
    },
    {
      "cell_type": "code",
      "execution_count": null,
      "metadata": {
        "id": "UhcC35LvJYbP",
        "outputId": "371e009f-d90e-4119-f112-5ad8e4680f40"
      },
      "outputs": [
        {
          "data": {
            "text/plain": [
              "0"
            ]
          },
          "execution_count": 12,
          "metadata": {},
          "output_type": "execute_result"
        }
      ],
      "source": [
        "companies.duplicated().sum()"
      ],
      "id": "UhcC35LvJYbP"
    },
    {
      "cell_type": "markdown",
      "metadata": {
        "id": "-6S3zT-l_ydL"
      },
      "source": [
        "**Question:** Based on the preceding output, are there any duplicates in the dataset?\n"
      ],
      "id": "-6S3zT-l_ydL"
    },
    {
      "cell_type": "markdown",
      "metadata": {
        "id": "QqXNXWRQz1mh"
      },
      "source": [
        "There are no duplicates"
      ],
      "id": "QqXNXWRQz1mh"
    },
    {
      "cell_type": "markdown",
      "metadata": {
        "id": "fgD6IfeBsNW8"
      },
      "source": [
        "### Display the data types of the columns \n",
        "\n",
        "Knowing the data types of the columns is helpful because it indicates what types of analysis and aggregation can be done, how a column can be transformed to suit specific tasks, and so on. Display the data types of the columns. "
      ],
      "id": "fgD6IfeBsNW8"
    },
    {
      "cell_type": "code",
      "execution_count": null,
      "metadata": {
        "id": "PjO2hGK2r8vN",
        "outputId": "03852c52-a12b-49ae-da8e-3c03f6898813"
      },
      "outputs": [
        {
          "data": {
            "text/plain": [
              "Company             object\n",
              "Valuation           object\n",
              "Date Joined         object\n",
              "Industry            object\n",
              "City                object\n",
              "Country/Region      object\n",
              "Continent           object\n",
              "Year Founded         int64\n",
              "Funding             object\n",
              "Select Investors    object\n",
              "dtype: object"
            ]
          },
          "execution_count": 14,
          "metadata": {},
          "output_type": "execute_result"
        }
      ],
      "source": [
        "# Display the data types of the columns.\n",
        "\n",
        "### YOUR CODE HERE ###\n",
        "\n",
        "companies.dtypes"
      ],
      "id": "PjO2hGK2r8vN"
    },
    {
      "cell_type": "markdown",
      "metadata": {
        "id": "bd6573bc-2adb-410e-a85c-d6d5886d51bf"
      },
      "source": [
        "**Question:** What do you notice about the data types of the columns in the dataset?\n"
      ],
      "id": "bd6573bc-2adb-410e-a85c-d6d5886d51bf"
    },
    {
      "cell_type": "markdown",
      "metadata": {
        "id": "NmHY4cWIz2n5"
      },
      "source": [
        "Only the Year Founded column is int dtype and rest of all are str dtypes"
      ],
      "id": "NmHY4cWIz2n5"
    },
    {
      "cell_type": "markdown",
      "metadata": {
        "id": "cAfmH6tjHYiq"
      },
      "source": [
        "**Question:** How would you sort this dataset in order to get insights about when the companies were founded?\n"
      ],
      "id": "cAfmH6tjHYiq"
    },
    {
      "cell_type": "markdown",
      "metadata": {
        "id": "8DtM8u4Iz3TA"
      },
      "source": [
        "the dataset could be sorted either ascending or descending order based on the year founded column"
      ],
      "id": "8DtM8u4Iz3TA"
    },
    {
      "cell_type": "markdown",
      "metadata": {
        "id": "1ZqTQXEN9WbW"
      },
      "source": [
        "### Sort the data\n",
        "\n",
        "In this section, you will continue your exploratory data analysis by structuring the data. This is an important step in EDA, as it allows you to glean valuable and interesting insights about the data afterwards.\n",
        "\n",
        "To begin, sort the data so that you can get insights about when the companies were founded. Consider whether it would make sense to sort in ascending or descending order based on what you would like to find."
      ],
      "id": "1ZqTQXEN9WbW"
    },
    {
      "cell_type": "code",
      "execution_count": null,
      "metadata": {
        "id": "sjWPuI-xKDat",
        "outputId": "26504313-2c90-497e-bb82-f4432daa7500"
      },
      "outputs": [
        {
          "data": {
            "text/html": [
              "<div>\n",
              "<style scoped>\n",
              "    .dataframe tbody tr th:only-of-type {\n",
              "        vertical-align: middle;\n",
              "    }\n",
              "\n",
              "    .dataframe tbody tr th {\n",
              "        vertical-align: top;\n",
              "    }\n",
              "\n",
              "    .dataframe thead th {\n",
              "        text-align: right;\n",
              "    }\n",
              "</style>\n",
              "<table border=\"1\" class=\"dataframe\">\n",
              "  <thead>\n",
              "    <tr style=\"text-align: right;\">\n",
              "      <th></th>\n",
              "      <th>Company</th>\n",
              "      <th>Valuation</th>\n",
              "      <th>Date Joined</th>\n",
              "      <th>Industry</th>\n",
              "      <th>City</th>\n",
              "      <th>Country/Region</th>\n",
              "      <th>Continent</th>\n",
              "      <th>Year Founded</th>\n",
              "      <th>Funding</th>\n",
              "      <th>Select Investors</th>\n",
              "    </tr>\n",
              "  </thead>\n",
              "  <tbody>\n",
              "    <tr>\n",
              "      <th>782</th>\n",
              "      <td>Phantom</td>\n",
              "      <td>$1B</td>\n",
              "      <td>1/31/22</td>\n",
              "      <td>Fintech</td>\n",
              "      <td>San Francisco</td>\n",
              "      <td>United States</td>\n",
              "      <td>North America</td>\n",
              "      <td>2021</td>\n",
              "      <td>$118M</td>\n",
              "      <td>Paradigm, Andreessen Horowitz, Jump Capital</td>\n",
              "    </tr>\n",
              "    <tr>\n",
              "      <th>714</th>\n",
              "      <td>Yidian Zixun</td>\n",
              "      <td>$1B</td>\n",
              "      <td>10/17/17</td>\n",
              "      <td>Mobile &amp; telecommunications</td>\n",
              "      <td>Beijing</td>\n",
              "      <td>China</td>\n",
              "      <td>Asia</td>\n",
              "      <td>2021</td>\n",
              "      <td>$151M</td>\n",
              "      <td>Phoenix New Media, Tianjin Haihe Industry Fund</td>\n",
              "    </tr>\n",
              "    <tr>\n",
              "      <th>822</th>\n",
              "      <td>GlobalBees</td>\n",
              "      <td>$1B</td>\n",
              "      <td>12/28/21</td>\n",
              "      <td>E-commerce &amp; direct-to-consumer</td>\n",
              "      <td>New Delhi</td>\n",
              "      <td>India</td>\n",
              "      <td>Asia</td>\n",
              "      <td>2021</td>\n",
              "      <td>$185M</td>\n",
              "      <td>Chiratae Ventures, SoftBank Group, Trifecta Ca...</td>\n",
              "    </tr>\n",
              "    <tr>\n",
              "      <th>554</th>\n",
              "      <td>ClickHouse</td>\n",
              "      <td>$2B</td>\n",
              "      <td>10/28/21</td>\n",
              "      <td>Data management &amp; analytics</td>\n",
              "      <td>Portola Valley</td>\n",
              "      <td>United States</td>\n",
              "      <td>North America</td>\n",
              "      <td>2021</td>\n",
              "      <td>$300M</td>\n",
              "      <td>Lightspeed Venture Partners, Almaz Capital Par...</td>\n",
              "    </tr>\n",
              "    <tr>\n",
              "      <th>952</th>\n",
              "      <td>LayerZero Labs</td>\n",
              "      <td>$1B</td>\n",
              "      <td>3/30/22</td>\n",
              "      <td>Internet software &amp; services</td>\n",
              "      <td>New York</td>\n",
              "      <td>United States</td>\n",
              "      <td>North America</td>\n",
              "      <td>2021</td>\n",
              "      <td>$143M</td>\n",
              "      <td>Andreessen Horowitz, FTX Ventures, Tiger Globa...</td>\n",
              "    </tr>\n",
              "    <tr>\n",
              "      <th>314</th>\n",
              "      <td>Flink Food</td>\n",
              "      <td>$3B</td>\n",
              "      <td>12/1/21</td>\n",
              "      <td>E-commerce &amp; direct-to-consumer</td>\n",
              "      <td>Berlin</td>\n",
              "      <td>Germany</td>\n",
              "      <td>Europe</td>\n",
              "      <td>2021</td>\n",
              "      <td>$1B</td>\n",
              "      <td>Mubadala Capital, Bond, Prosus Ventures</td>\n",
              "    </tr>\n",
              "    <tr>\n",
              "      <th>864</th>\n",
              "      <td>Aptos</td>\n",
              "      <td>$1B</td>\n",
              "      <td>3/15/22</td>\n",
              "      <td>Internet software &amp; services</td>\n",
              "      <td>Palo Alto</td>\n",
              "      <td>United States</td>\n",
              "      <td>North America</td>\n",
              "      <td>2021</td>\n",
              "      <td>$200M</td>\n",
              "      <td>Andreessen Horowitz, Coinbase Ventures, Tiger ...</td>\n",
              "    </tr>\n",
              "    <tr>\n",
              "      <th>238</th>\n",
              "      <td>Yuga Labs</td>\n",
              "      <td>$4B</td>\n",
              "      <td>3/22/22</td>\n",
              "      <td>Fintech</td>\n",
              "      <td>Miami</td>\n",
              "      <td>United States</td>\n",
              "      <td>North America</td>\n",
              "      <td>2021</td>\n",
              "      <td>$450M</td>\n",
              "      <td>Andreessen Horowitz, Thrive Capital, Sound Ven...</td>\n",
              "    </tr>\n",
              "    <tr>\n",
              "      <th>775</th>\n",
              "      <td>Jokr</td>\n",
              "      <td>$1B</td>\n",
              "      <td>12/2/21</td>\n",
              "      <td>E-commerce &amp; direct-to-consumer</td>\n",
              "      <td>New York</td>\n",
              "      <td>United States</td>\n",
              "      <td>North America</td>\n",
              "      <td>2021</td>\n",
              "      <td>$430M</td>\n",
              "      <td>GGV Capital, Tiger Global Management, Greycroft</td>\n",
              "    </tr>\n",
              "    <tr>\n",
              "      <th>967</th>\n",
              "      <td>Mensa Brands</td>\n",
              "      <td>$1B</td>\n",
              "      <td>11/16/21</td>\n",
              "      <td>Other</td>\n",
              "      <td>Bengaluru</td>\n",
              "      <td>India</td>\n",
              "      <td>Asia</td>\n",
              "      <td>2021</td>\n",
              "      <td>$218M</td>\n",
              "      <td>Accel, Falcon Edge Capital, Norwest Venture Pa...</td>\n",
              "    </tr>\n",
              "  </tbody>\n",
              "</table>\n",
              "</div>"
            ],
            "text/plain": [
              "            Company Valuation Date Joined                         Industry  \\\n",
              "782         Phantom       $1B     1/31/22                          Fintech   \n",
              "714    Yidian Zixun       $1B    10/17/17      Mobile & telecommunications   \n",
              "822      GlobalBees       $1B    12/28/21  E-commerce & direct-to-consumer   \n",
              "554      ClickHouse       $2B    10/28/21      Data management & analytics   \n",
              "952  LayerZero Labs       $1B     3/30/22     Internet software & services   \n",
              "314      Flink Food       $3B     12/1/21  E-commerce & direct-to-consumer   \n",
              "864           Aptos       $1B     3/15/22     Internet software & services   \n",
              "238       Yuga Labs       $4B     3/22/22                          Fintech   \n",
              "775            Jokr       $1B     12/2/21  E-commerce & direct-to-consumer   \n",
              "967    Mensa Brands       $1B    11/16/21                            Other   \n",
              "\n",
              "               City Country/Region      Continent  Year Founded Funding  \\\n",
              "782   San Francisco  United States  North America          2021   $118M   \n",
              "714         Beijing          China           Asia          2021   $151M   \n",
              "822       New Delhi          India           Asia          2021   $185M   \n",
              "554  Portola Valley  United States  North America          2021   $300M   \n",
              "952        New York  United States  North America          2021   $143M   \n",
              "314          Berlin        Germany         Europe          2021     $1B   \n",
              "864       Palo Alto  United States  North America          2021   $200M   \n",
              "238           Miami  United States  North America          2021   $450M   \n",
              "775        New York  United States  North America          2021   $430M   \n",
              "967       Bengaluru          India           Asia          2021   $218M   \n",
              "\n",
              "                                      Select Investors  \n",
              "782        Paradigm, Andreessen Horowitz, Jump Capital  \n",
              "714     Phoenix New Media, Tianjin Haihe Industry Fund  \n",
              "822  Chiratae Ventures, SoftBank Group, Trifecta Ca...  \n",
              "554  Lightspeed Venture Partners, Almaz Capital Par...  \n",
              "952  Andreessen Horowitz, FTX Ventures, Tiger Globa...  \n",
              "314            Mubadala Capital, Bond, Prosus Ventures  \n",
              "864  Andreessen Horowitz, Coinbase Ventures, Tiger ...  \n",
              "238  Andreessen Horowitz, Thrive Capital, Sound Ven...  \n",
              "775    GGV Capital, Tiger Global Management, Greycroft  \n",
              "967  Accel, Falcon Edge Capital, Norwest Venture Pa...  "
            ]
          },
          "execution_count": 15,
          "metadata": {},
          "output_type": "execute_result"
        }
      ],
      "source": [
        "# Sort `companies` and display the first 10 rows of the resulting DataFrame.\n",
        "\n",
        "### YOUR CODE HERE ###\n",
        "\n",
        "companies.sort_values('Year Founded', ascending=False).head(10)\n"
      ],
      "id": "sjWPuI-xKDat"
    },
    {
      "cell_type": "markdown",
      "metadata": {
        "id": "quCKIWjC_PZr"
      },
      "source": [
        "**Question:** What do you observe from the sorting that you performed?\n"
      ],
      "id": "quCKIWjC_PZr"
    },
    {
      "cell_type": "markdown",
      "metadata": {
        "id": "xyvJZK9Bz4M0"
      },
      "source": [
        "10 unicorn companies were founded in year 2021"
      ],
      "id": "xyvJZK9Bz4M0"
    },
    {
      "cell_type": "markdown",
      "metadata": {
        "id": "k9_pE69KFqUR"
      },
      "source": [
        "**Question:** How would you find out how many companies in this dataset were founded each year?\n"
      ],
      "id": "k9_pE69KFqUR"
    },
    {
      "cell_type": "markdown",
      "metadata": {
        "id": "Cn0rtLX_z5BN"
      },
      "source": [
        "value_counts()"
      ],
      "id": "Cn0rtLX_z5BN"
    },
    {
      "cell_type": "markdown",
      "metadata": {
        "id": "95ICE9dXHWZY"
      },
      "source": [
        "### Determine the number of companies founded each year\n",
        "\n",
        "Find out how many companies in this dataset were founded each year. Make sure to display each unique `Year Founded` that occurs in the dataset, and for each year, a number that represents how many companies were founded then."
      ],
      "id": "95ICE9dXHWZY"
    },
    {
      "cell_type": "code",
      "execution_count": null,
      "metadata": {
        "id": "_ZzafpsJ_VQ_",
        "outputId": "824155cd-0bc2-4799-8af5-313c3d3a6336"
      },
      "outputs": [
        {
          "data": {
            "text/plain": [
              "2015    155\n",
              "2016    110\n",
              "2014    109\n",
              "2012     95\n",
              "2013     87\n",
              "2011     82\n",
              "2017     74\n",
              "2018     61\n",
              "2019     45\n",
              "2010     40\n",
              "2009     34\n",
              "2008     27\n",
              "2020     25\n",
              "2007     24\n",
              "2006     15\n",
              "2005     14\n",
              "2021     11\n",
              "2000     11\n",
              "2001      9\n",
              "1999      8\n",
              "2004      8\n",
              "2003      8\n",
              "1998      5\n",
              "2002      4\n",
              "1994      2\n",
              "1995      2\n",
              "1996      1\n",
              "1919      1\n",
              "1991      1\n",
              "1979      1\n",
              "1992      1\n",
              "1984      1\n",
              "1990      1\n",
              "1993      1\n",
              "1997      1\n",
              "Name: Year Founded, dtype: int64"
            ]
          },
          "execution_count": 22,
          "metadata": {},
          "output_type": "execute_result"
        }
      ],
      "source": [
        "# Display each unique year that occurs in the dataset\n",
        "# along with the number of companies that were founded in each unique year.\n",
        "companies['Year Founded'].value_counts()\n",
        "### YOUR CODE HERE ###"
      ],
      "id": "_ZzafpsJ_VQ_"
    },
    {
      "cell_type": "markdown",
      "metadata": {
        "id": "rpMFZQqpJYW6"
      },
      "source": [
        "**Question:** What do you observe from the counts of the unique `Year Founded` values in the dataset?\n"
      ],
      "id": "rpMFZQqpJYW6"
    },
    {
      "cell_type": "markdown",
      "metadata": {
        "id": "i8luOA1Oz6DJ"
      },
      "source": [
        "In this dataset, the most number of companies founded in year 2015 with 155 unicorns"
      ],
      "id": "i8luOA1Oz6DJ"
    },
    {
      "cell_type": "markdown",
      "metadata": {
        "id": "XzKBLKpOMerv"
      },
      "source": [
        "**Question:** How would you transform the `Date Joined` column to gain more meaning from it?\n"
      ],
      "id": "XzKBLKpOMerv"
    },
    {
      "cell_type": "markdown",
      "metadata": {
        "id": "RqFif2yaz6pU"
      },
      "source": [
        "Date Joined column could be converted into datetime dtype to get more insights from it"
      ],
      "id": "RqFif2yaz6pU"
    },
    {
      "cell_type": "markdown",
      "metadata": {
        "id": "94b53c7f-54d8-4d1a-ae07-7c28c2ab8f5b",
        "tags": []
      },
      "source": [
        "### Convert the `Date Joined` column to datetime\n",
        "\n",
        "Convert the `Date Joined` column to datetime. This will split each value into year, month, and date components, allowing you to later gain insights about when a company gained unicorn status with respect to each component."
      ],
      "id": "94b53c7f-54d8-4d1a-ae07-7c28c2ab8f5b"
    },
    {
      "cell_type": "code",
      "execution_count": null,
      "metadata": {
        "id": "afe607c8-9dd7-47c3-9fc8-88772f015e2b",
        "outputId": "fc86bc42-ef13-44df-86b3-c17cebbe948a"
      },
      "outputs": [
        {
          "data": {
            "text/plain": [
              "Company                     object\n",
              "Valuation                   object\n",
              "Date Joined         datetime64[ns]\n",
              "Industry                    object\n",
              "City                        object\n",
              "Country/Region              object\n",
              "Continent                   object\n",
              "Year Founded                 int64\n",
              "Funding                     object\n",
              "Select Investors            object\n",
              "dtype: object"
            ]
          },
          "execution_count": 23,
          "metadata": {},
          "output_type": "execute_result"
        }
      ],
      "source": [
        "# Convert the `Date Joined` column to datetime.\n",
        "# Update the column with the converted values.\n",
        "\n",
        "### YOUR CODE HERE ###\n",
        "companies['Date Joined'] = pd.to_datetime(companies['Date Joined'])\n",
        "\n",
        "\n",
        "\n",
        "# Display the data types of the columns in `companies`\n",
        "# to confirm that the update actually took place.\n",
        "\n",
        "### YOUR CODE HERE ###\n",
        "\n",
        "companies.dtypes"
      ],
      "id": "afe607c8-9dd7-47c3-9fc8-88772f015e2b"
    },
    {
      "cell_type": "markdown",
      "metadata": {
        "id": "8Gl70TvPVDsO"
      },
      "source": [
        "**Question:** How would you obtain the names of the months when companies gained unicorn status?\n"
      ],
      "id": "8Gl70TvPVDsO"
    },
    {
      "cell_type": "markdown",
      "metadata": {
        "id": "C3Dp7ePXz8Cz"
      },
      "source": [
        "dt.month_name()"
      ],
      "id": "C3Dp7ePXz8Cz"
    },
    {
      "cell_type": "markdown",
      "metadata": {
        "id": "ae351a97-926e-40af-91e2-4bd12a5bf888",
        "tags": []
      },
      "source": [
        "### Create a `Month Joined` column\n",
        "\n",
        "Obtain the names of the months when companies gained unicorn status, and use the result to create a `Month Joined` column. "
      ],
      "id": "ae351a97-926e-40af-91e2-4bd12a5bf888"
    },
    {
      "cell_type": "code",
      "execution_count": null,
      "metadata": {
        "id": "PFBo2wdQU6U1",
        "outputId": "123fcf7a-264c-4f24-ae1c-5db13f8e9d47"
      },
      "outputs": [
        {
          "data": {
            "text/html": [
              "<div>\n",
              "<style scoped>\n",
              "    .dataframe tbody tr th:only-of-type {\n",
              "        vertical-align: middle;\n",
              "    }\n",
              "\n",
              "    .dataframe tbody tr th {\n",
              "        vertical-align: top;\n",
              "    }\n",
              "\n",
              "    .dataframe thead th {\n",
              "        text-align: right;\n",
              "    }\n",
              "</style>\n",
              "<table border=\"1\" class=\"dataframe\">\n",
              "  <thead>\n",
              "    <tr style=\"text-align: right;\">\n",
              "      <th></th>\n",
              "      <th>Company</th>\n",
              "      <th>Valuation</th>\n",
              "      <th>Date Joined</th>\n",
              "      <th>Industry</th>\n",
              "      <th>City</th>\n",
              "      <th>Country/Region</th>\n",
              "      <th>Continent</th>\n",
              "      <th>Year Founded</th>\n",
              "      <th>Funding</th>\n",
              "      <th>Select Investors</th>\n",
              "      <th>Month Joined</th>\n",
              "    </tr>\n",
              "  </thead>\n",
              "  <tbody>\n",
              "    <tr>\n",
              "      <th>0</th>\n",
              "      <td>Bytedance</td>\n",
              "      <td>$180B</td>\n",
              "      <td>2017-04-07</td>\n",
              "      <td>Artificial intelligence</td>\n",
              "      <td>Beijing</td>\n",
              "      <td>China</td>\n",
              "      <td>Asia</td>\n",
              "      <td>2012</td>\n",
              "      <td>$8B</td>\n",
              "      <td>Sequoia Capital China, SIG Asia Investments, S...</td>\n",
              "      <td>April</td>\n",
              "    </tr>\n",
              "    <tr>\n",
              "      <th>1</th>\n",
              "      <td>SpaceX</td>\n",
              "      <td>$100B</td>\n",
              "      <td>2012-12-01</td>\n",
              "      <td>Other</td>\n",
              "      <td>Hawthorne</td>\n",
              "      <td>United States</td>\n",
              "      <td>North America</td>\n",
              "      <td>2002</td>\n",
              "      <td>$7B</td>\n",
              "      <td>Founders Fund, Draper Fisher Jurvetson, Rothen...</td>\n",
              "      <td>December</td>\n",
              "    </tr>\n",
              "    <tr>\n",
              "      <th>2</th>\n",
              "      <td>SHEIN</td>\n",
              "      <td>$100B</td>\n",
              "      <td>2018-07-03</td>\n",
              "      <td>E-commerce &amp; direct-to-consumer</td>\n",
              "      <td>Shenzhen</td>\n",
              "      <td>China</td>\n",
              "      <td>Asia</td>\n",
              "      <td>2008</td>\n",
              "      <td>$2B</td>\n",
              "      <td>Tiger Global Management, Sequoia Capital China...</td>\n",
              "      <td>July</td>\n",
              "    </tr>\n",
              "    <tr>\n",
              "      <th>3</th>\n",
              "      <td>Stripe</td>\n",
              "      <td>$95B</td>\n",
              "      <td>2014-01-23</td>\n",
              "      <td>Fintech</td>\n",
              "      <td>San Francisco</td>\n",
              "      <td>United States</td>\n",
              "      <td>North America</td>\n",
              "      <td>2010</td>\n",
              "      <td>$2B</td>\n",
              "      <td>Khosla Ventures, LowercaseCapital, capitalG</td>\n",
              "      <td>January</td>\n",
              "    </tr>\n",
              "    <tr>\n",
              "      <th>4</th>\n",
              "      <td>Klarna</td>\n",
              "      <td>$46B</td>\n",
              "      <td>2011-12-12</td>\n",
              "      <td>Fintech</td>\n",
              "      <td>Stockholm</td>\n",
              "      <td>Sweden</td>\n",
              "      <td>Europe</td>\n",
              "      <td>2005</td>\n",
              "      <td>$4B</td>\n",
              "      <td>Institutional Venture Partners, Sequoia Capita...</td>\n",
              "      <td>December</td>\n",
              "    </tr>\n",
              "  </tbody>\n",
              "</table>\n",
              "</div>"
            ],
            "text/plain": [
              "     Company Valuation Date Joined                         Industry  \\\n",
              "0  Bytedance     $180B  2017-04-07          Artificial intelligence   \n",
              "1     SpaceX     $100B  2012-12-01                            Other   \n",
              "2      SHEIN     $100B  2018-07-03  E-commerce & direct-to-consumer   \n",
              "3     Stripe      $95B  2014-01-23                          Fintech   \n",
              "4     Klarna      $46B  2011-12-12                          Fintech   \n",
              "\n",
              "            City Country/Region      Continent  Year Founded Funding  \\\n",
              "0        Beijing          China           Asia          2012     $8B   \n",
              "1      Hawthorne  United States  North America          2002     $7B   \n",
              "2       Shenzhen          China           Asia          2008     $2B   \n",
              "3  San Francisco  United States  North America          2010     $2B   \n",
              "4      Stockholm         Sweden         Europe          2005     $4B   \n",
              "\n",
              "                                    Select Investors Month Joined  \n",
              "0  Sequoia Capital China, SIG Asia Investments, S...        April  \n",
              "1  Founders Fund, Draper Fisher Jurvetson, Rothen...     December  \n",
              "2  Tiger Global Management, Sequoia Capital China...         July  \n",
              "3        Khosla Ventures, LowercaseCapital, capitalG      January  \n",
              "4  Institutional Venture Partners, Sequoia Capita...     December  "
            ]
          },
          "execution_count": 26,
          "metadata": {},
          "output_type": "execute_result"
        }
      ],
      "source": [
        "# Obtain the names of the months when companies gained unicorn status.\n",
        "# Use the result to create a `Month Joined` column.\n",
        "\n",
        "### YOUR CODE HERE ###\n",
        "\n",
        "companies['Month Joined'] = companies['Date Joined'].dt.month_name()\n",
        "\n",
        "\n",
        "# Display the first few rows of `companies`\n",
        "# to confirm that the new column did get added.\n",
        "\n",
        "### YOUR CODE HERE ###\n",
        "\n",
        "companies.head()"
      ],
      "id": "PFBo2wdQU6U1"
    },
    {
      "cell_type": "markdown",
      "metadata": {
        "id": "W81zWrCE8_Ye"
      },
      "source": [
        "**Question:** How would you determine how many years it took for companies to reach unicorn status?\n"
      ],
      "id": "W81zWrCE8_Ye"
    },
    {
      "cell_type": "markdown",
      "metadata": {
        "id": "uNbv1cAnz9NA"
      },
      "source": [
        "By creating a new column having the data of year difference between 'Date Joined' column and 'Year Founded' column"
      ],
      "id": "uNbv1cAnz9NA"
    },
    {
      "cell_type": "markdown",
      "metadata": {
        "id": "6xTyzHiM8_Yf",
        "tags": []
      },
      "source": [
        "### Create a `Years To Join` column\n",
        "\n",
        "Determine how many years it took for companies to reach unicorn status, and use the result to create a `Years To Join` column. Adding this to the dataset can help you answer questions you may have about this aspect of the companies."
      ],
      "id": "6xTyzHiM8_Yf"
    },
    {
      "cell_type": "code",
      "execution_count": null,
      "metadata": {
        "id": "9zK8Q7-v-Bx1",
        "outputId": "60dfe6b8-3e9a-4b22-9745-77394f090691"
      },
      "outputs": [
        {
          "data": {
            "text/html": [
              "<div>\n",
              "<style scoped>\n",
              "    .dataframe tbody tr th:only-of-type {\n",
              "        vertical-align: middle;\n",
              "    }\n",
              "\n",
              "    .dataframe tbody tr th {\n",
              "        vertical-align: top;\n",
              "    }\n",
              "\n",
              "    .dataframe thead th {\n",
              "        text-align: right;\n",
              "    }\n",
              "</style>\n",
              "<table border=\"1\" class=\"dataframe\">\n",
              "  <thead>\n",
              "    <tr style=\"text-align: right;\">\n",
              "      <th></th>\n",
              "      <th>Company</th>\n",
              "      <th>Valuation</th>\n",
              "      <th>Date Joined</th>\n",
              "      <th>Industry</th>\n",
              "      <th>City</th>\n",
              "      <th>Country/Region</th>\n",
              "      <th>Continent</th>\n",
              "      <th>Year Founded</th>\n",
              "      <th>Funding</th>\n",
              "      <th>Select Investors</th>\n",
              "      <th>Month Joined</th>\n",
              "      <th>Years To Join</th>\n",
              "    </tr>\n",
              "  </thead>\n",
              "  <tbody>\n",
              "    <tr>\n",
              "      <th>0</th>\n",
              "      <td>Bytedance</td>\n",
              "      <td>$180B</td>\n",
              "      <td>2017-04-07</td>\n",
              "      <td>Artificial intelligence</td>\n",
              "      <td>Beijing</td>\n",
              "      <td>China</td>\n",
              "      <td>Asia</td>\n",
              "      <td>2012</td>\n",
              "      <td>$8B</td>\n",
              "      <td>Sequoia Capital China, SIG Asia Investments, S...</td>\n",
              "      <td>April</td>\n",
              "      <td>5</td>\n",
              "    </tr>\n",
              "    <tr>\n",
              "      <th>1</th>\n",
              "      <td>SpaceX</td>\n",
              "      <td>$100B</td>\n",
              "      <td>2012-12-01</td>\n",
              "      <td>Other</td>\n",
              "      <td>Hawthorne</td>\n",
              "      <td>United States</td>\n",
              "      <td>North America</td>\n",
              "      <td>2002</td>\n",
              "      <td>$7B</td>\n",
              "      <td>Founders Fund, Draper Fisher Jurvetson, Rothen...</td>\n",
              "      <td>December</td>\n",
              "      <td>10</td>\n",
              "    </tr>\n",
              "    <tr>\n",
              "      <th>2</th>\n",
              "      <td>SHEIN</td>\n",
              "      <td>$100B</td>\n",
              "      <td>2018-07-03</td>\n",
              "      <td>E-commerce &amp; direct-to-consumer</td>\n",
              "      <td>Shenzhen</td>\n",
              "      <td>China</td>\n",
              "      <td>Asia</td>\n",
              "      <td>2008</td>\n",
              "      <td>$2B</td>\n",
              "      <td>Tiger Global Management, Sequoia Capital China...</td>\n",
              "      <td>July</td>\n",
              "      <td>10</td>\n",
              "    </tr>\n",
              "    <tr>\n",
              "      <th>3</th>\n",
              "      <td>Stripe</td>\n",
              "      <td>$95B</td>\n",
              "      <td>2014-01-23</td>\n",
              "      <td>Fintech</td>\n",
              "      <td>San Francisco</td>\n",
              "      <td>United States</td>\n",
              "      <td>North America</td>\n",
              "      <td>2010</td>\n",
              "      <td>$2B</td>\n",
              "      <td>Khosla Ventures, LowercaseCapital, capitalG</td>\n",
              "      <td>January</td>\n",
              "      <td>4</td>\n",
              "    </tr>\n",
              "    <tr>\n",
              "      <th>4</th>\n",
              "      <td>Klarna</td>\n",
              "      <td>$46B</td>\n",
              "      <td>2011-12-12</td>\n",
              "      <td>Fintech</td>\n",
              "      <td>Stockholm</td>\n",
              "      <td>Sweden</td>\n",
              "      <td>Europe</td>\n",
              "      <td>2005</td>\n",
              "      <td>$4B</td>\n",
              "      <td>Institutional Venture Partners, Sequoia Capita...</td>\n",
              "      <td>December</td>\n",
              "      <td>6</td>\n",
              "    </tr>\n",
              "  </tbody>\n",
              "</table>\n",
              "</div>"
            ],
            "text/plain": [
              "     Company Valuation Date Joined                         Industry  \\\n",
              "0  Bytedance     $180B  2017-04-07          Artificial intelligence   \n",
              "1     SpaceX     $100B  2012-12-01                            Other   \n",
              "2      SHEIN     $100B  2018-07-03  E-commerce & direct-to-consumer   \n",
              "3     Stripe      $95B  2014-01-23                          Fintech   \n",
              "4     Klarna      $46B  2011-12-12                          Fintech   \n",
              "\n",
              "            City Country/Region      Continent  Year Founded Funding  \\\n",
              "0        Beijing          China           Asia          2012     $8B   \n",
              "1      Hawthorne  United States  North America          2002     $7B   \n",
              "2       Shenzhen          China           Asia          2008     $2B   \n",
              "3  San Francisco  United States  North America          2010     $2B   \n",
              "4      Stockholm         Sweden         Europe          2005     $4B   \n",
              "\n",
              "                                    Select Investors Month Joined  \\\n",
              "0  Sequoia Capital China, SIG Asia Investments, S...        April   \n",
              "1  Founders Fund, Draper Fisher Jurvetson, Rothen...     December   \n",
              "2  Tiger Global Management, Sequoia Capital China...         July   \n",
              "3        Khosla Ventures, LowercaseCapital, capitalG      January   \n",
              "4  Institutional Venture Partners, Sequoia Capita...     December   \n",
              "\n",
              "   Years To Join  \n",
              "0              5  \n",
              "1             10  \n",
              "2             10  \n",
              "3              4  \n",
              "4              6  "
            ]
          },
          "execution_count": 27,
          "metadata": {},
          "output_type": "execute_result"
        }
      ],
      "source": [
        "# Determine how many years it took for companies to reach unicorn status.\n",
        "# Use the result to create a `Years To Join` column.\n",
        "\n",
        "### YOUR CODE HERE ###\n",
        "\n",
        "companies['Years To Join'] = companies['Date Joined'].dt.year - companies['Year Founded']\n",
        "\n",
        "\n",
        "# Display the first few rows of `companies`\n",
        "# to confirm that the new column did get added.\n",
        "\n",
        "### YOUR CODE HERE ###\n",
        "\n",
        "companies.head()"
      ],
      "id": "9zK8Q7-v-Bx1"
    },
    {
      "cell_type": "markdown",
      "metadata": {
        "id": "98YFM1o4-VQ_"
      },
      "source": [
        "**Question:** Which year would you like to gain more insight on with respect when companies attained unicorn status, and why?\n"
      ],
      "id": "98YFM1o4-VQ_"
    },
    {
      "cell_type": "markdown",
      "metadata": {
        "id": "hRT_vGZhz-Ij"
      },
      "source": [
        "Year 2021, which is recent year and trends that took place in this year will follow for upcoming year 2022"
      ],
      "id": "hRT_vGZhz-Ij"
    },
    {
      "cell_type": "markdown",
      "metadata": {
        "id": "nx-WbHfLCdTd"
      },
      "source": [
        "### Gain more insight on a specific year\n",
        "\n",
        "To gain more insight on the year of that interests you, filter the dataset by that year and save the resulting subset into a new variable. "
      ],
      "id": "nx-WbHfLCdTd"
    },
    {
      "cell_type": "code",
      "execution_count": null,
      "metadata": {
        "id": "5FnSS5fBEUY-",
        "outputId": "e66bbd9d-b4ba-4040-be3f-50d31c0374a6"
      },
      "outputs": [
        {
          "data": {
            "text/html": [
              "<div>\n",
              "<style scoped>\n",
              "    .dataframe tbody tr th:only-of-type {\n",
              "        vertical-align: middle;\n",
              "    }\n",
              "\n",
              "    .dataframe tbody tr th {\n",
              "        vertical-align: top;\n",
              "    }\n",
              "\n",
              "    .dataframe thead th {\n",
              "        text-align: right;\n",
              "    }\n",
              "</style>\n",
              "<table border=\"1\" class=\"dataframe\">\n",
              "  <thead>\n",
              "    <tr style=\"text-align: right;\">\n",
              "      <th></th>\n",
              "      <th>Company</th>\n",
              "      <th>Valuation</th>\n",
              "      <th>Date Joined</th>\n",
              "      <th>Industry</th>\n",
              "      <th>City</th>\n",
              "      <th>Country/Region</th>\n",
              "      <th>Continent</th>\n",
              "      <th>Year Founded</th>\n",
              "      <th>Funding</th>\n",
              "      <th>Select Investors</th>\n",
              "      <th>Month Joined</th>\n",
              "      <th>Years To Join</th>\n",
              "    </tr>\n",
              "  </thead>\n",
              "  <tbody>\n",
              "    <tr>\n",
              "      <th>12</th>\n",
              "      <td>FTX</td>\n",
              "      <td>$32B</td>\n",
              "      <td>2021-07-20</td>\n",
              "      <td>Fintech</td>\n",
              "      <td>NaN</td>\n",
              "      <td>Bahamas</td>\n",
              "      <td>North America</td>\n",
              "      <td>2018</td>\n",
              "      <td>$2B</td>\n",
              "      <td>Sequoia Capital, Thoma Bravo, Softbank</td>\n",
              "      <td>July</td>\n",
              "      <td>3</td>\n",
              "    </tr>\n",
              "    <tr>\n",
              "      <th>16</th>\n",
              "      <td>J&amp;T Express</td>\n",
              "      <td>$20B</td>\n",
              "      <td>2021-04-07</td>\n",
              "      <td>Supply chain, logistics, &amp; delivery</td>\n",
              "      <td>Jakarta</td>\n",
              "      <td>Indonesia</td>\n",
              "      <td>Asia</td>\n",
              "      <td>2015</td>\n",
              "      <td>$5B</td>\n",
              "      <td>Hillhouse Capital Management, Boyu Capital, Se...</td>\n",
              "      <td>April</td>\n",
              "      <td>6</td>\n",
              "    </tr>\n",
              "    <tr>\n",
              "      <th>24</th>\n",
              "      <td>Blockchain.com</td>\n",
              "      <td>$14B</td>\n",
              "      <td>2021-02-17</td>\n",
              "      <td>Fintech</td>\n",
              "      <td>London</td>\n",
              "      <td>United Kingdom</td>\n",
              "      <td>Europe</td>\n",
              "      <td>2011</td>\n",
              "      <td>$490M</td>\n",
              "      <td>Lightspeed Venture Partners, Google Ventures, ...</td>\n",
              "      <td>February</td>\n",
              "      <td>10</td>\n",
              "    </tr>\n",
              "    <tr>\n",
              "      <th>27</th>\n",
              "      <td>OpenSea</td>\n",
              "      <td>$13B</td>\n",
              "      <td>2021-07-20</td>\n",
              "      <td>E-commerce &amp; direct-to-consumer</td>\n",
              "      <td>New York</td>\n",
              "      <td>United States</td>\n",
              "      <td>North America</td>\n",
              "      <td>2017</td>\n",
              "      <td>$427M</td>\n",
              "      <td>Andreessen Horowitz, Thirty Five Ventures, Sou...</td>\n",
              "      <td>July</td>\n",
              "      <td>4</td>\n",
              "    </tr>\n",
              "    <tr>\n",
              "      <th>34</th>\n",
              "      <td>Getir</td>\n",
              "      <td>$12B</td>\n",
              "      <td>2021-03-26</td>\n",
              "      <td>E-commerce &amp; direct-to-consumer</td>\n",
              "      <td>Istanbul</td>\n",
              "      <td>Turkey</td>\n",
              "      <td>Europe</td>\n",
              "      <td>2015</td>\n",
              "      <td>$2B</td>\n",
              "      <td>Tiger Global Management, Sequoia Capital, Revo...</td>\n",
              "      <td>March</td>\n",
              "      <td>6</td>\n",
              "    </tr>\n",
              "  </tbody>\n",
              "</table>\n",
              "</div>"
            ],
            "text/plain": [
              "           Company Valuation Date Joined                             Industry  \\\n",
              "12             FTX      $32B  2021-07-20                              Fintech   \n",
              "16     J&T Express      $20B  2021-04-07  Supply chain, logistics, & delivery   \n",
              "24  Blockchain.com      $14B  2021-02-17                              Fintech   \n",
              "27         OpenSea      $13B  2021-07-20      E-commerce & direct-to-consumer   \n",
              "34           Getir      $12B  2021-03-26      E-commerce & direct-to-consumer   \n",
              "\n",
              "        City  Country/Region      Continent  Year Founded Funding  \\\n",
              "12       NaN         Bahamas  North America          2018     $2B   \n",
              "16   Jakarta       Indonesia           Asia          2015     $5B   \n",
              "24    London  United Kingdom         Europe          2011   $490M   \n",
              "27  New York   United States  North America          2017   $427M   \n",
              "34  Istanbul          Turkey         Europe          2015     $2B   \n",
              "\n",
              "                                     Select Investors Month Joined  \\\n",
              "12             Sequoia Capital, Thoma Bravo, Softbank         July   \n",
              "16  Hillhouse Capital Management, Boyu Capital, Se...        April   \n",
              "24  Lightspeed Venture Partners, Google Ventures, ...     February   \n",
              "27  Andreessen Horowitz, Thirty Five Ventures, Sou...         July   \n",
              "34  Tiger Global Management, Sequoia Capital, Revo...        March   \n",
              "\n",
              "    Years To Join  \n",
              "12              3  \n",
              "16              6  \n",
              "24             10  \n",
              "27              4  \n",
              "34              6  "
            ]
          },
          "execution_count": 28,
          "metadata": {},
          "output_type": "execute_result"
        }
      ],
      "source": [
        "# Filter dataset by a year of your interest (in terms of when companies reached unicorn status).\n",
        "# Save the resulting subset in a new variable. \n",
        "\n",
        "### YOUR CODE HERE ###\n",
        "\n",
        "companies_2021 = companies[companies['Date Joined'].dt.year == 2021]\n",
        "\n",
        "\n",
        "# Display the first few rows of the subset to confirm that it was created.\n",
        "\n",
        "### YOUR CODE HERE ###\n",
        "\n",
        "companies_2021.head()"
      ],
      "id": "5FnSS5fBEUY-"
    },
    {
      "cell_type": "markdown",
      "metadata": {
        "id": "xP7aPBulLnRA"
      },
      "source": [
        "**Question:** What structuring approach would you take to observe trends over time in the companies that became unicorns in the year that interests you?\n"
      ],
      "id": "xP7aPBulLnRA"
    },
    {
      "cell_type": "markdown",
      "metadata": {
        "id": "1LDyIGmtz_Tc"
      },
      "source": [
        "By adding months column, the trends could be observed"
      ],
      "id": "1LDyIGmtz_Tc"
    },
    {
      "cell_type": "markdown",
      "metadata": {
        "id": "xMeC4PjILkAP"
      },
      "source": [
        "### Observe trends over time\n",
        "\n",
        "Implement the structuring approach that you have identified to observe trends over time in the companies that became unicorns for the year that interests you."
      ],
      "id": "xMeC4PjILkAP"
    },
    {
      "cell_type": "code",
      "execution_count": null,
      "metadata": {
        "id": "RTPw3cRqPUI3",
        "outputId": "6f2a7b61-1089-417b-d96c-9b6a642b30c7"
      },
      "outputs": [
        {
          "data": {
            "text/html": [
              "<div>\n",
              "<style scoped>\n",
              "    .dataframe tbody tr th:only-of-type {\n",
              "        vertical-align: middle;\n",
              "    }\n",
              "\n",
              "    .dataframe tbody tr th {\n",
              "        vertical-align: top;\n",
              "    }\n",
              "\n",
              "    .dataframe thead th {\n",
              "        text-align: right;\n",
              "    }\n",
              "</style>\n",
              "<table border=\"1\" class=\"dataframe\">\n",
              "  <thead>\n",
              "    <tr style=\"text-align: right;\">\n",
              "      <th></th>\n",
              "      <th>Month Joined</th>\n",
              "      <th>Company Count</th>\n",
              "    </tr>\n",
              "  </thead>\n",
              "  <tbody>\n",
              "    <tr>\n",
              "      <th>0</th>\n",
              "      <td>2021-01</td>\n",
              "      <td>34</td>\n",
              "    </tr>\n",
              "    <tr>\n",
              "      <th>1</th>\n",
              "      <td>2021-02</td>\n",
              "      <td>22</td>\n",
              "    </tr>\n",
              "    <tr>\n",
              "      <th>2</th>\n",
              "      <td>2021-03</td>\n",
              "      <td>52</td>\n",
              "    </tr>\n",
              "    <tr>\n",
              "      <th>3</th>\n",
              "      <td>2021-04</td>\n",
              "      <td>43</td>\n",
              "    </tr>\n",
              "    <tr>\n",
              "      <th>4</th>\n",
              "      <td>2021-05</td>\n",
              "      <td>46</td>\n",
              "    </tr>\n",
              "    <tr>\n",
              "      <th>5</th>\n",
              "      <td>2021-06</td>\n",
              "      <td>55</td>\n",
              "    </tr>\n",
              "    <tr>\n",
              "      <th>6</th>\n",
              "      <td>2021-07</td>\n",
              "      <td>50</td>\n",
              "    </tr>\n",
              "    <tr>\n",
              "      <th>7</th>\n",
              "      <td>2021-08</td>\n",
              "      <td>32</td>\n",
              "    </tr>\n",
              "    <tr>\n",
              "      <th>8</th>\n",
              "      <td>2021-09</td>\n",
              "      <td>52</td>\n",
              "    </tr>\n",
              "    <tr>\n",
              "      <th>9</th>\n",
              "      <td>2021-10</td>\n",
              "      <td>45</td>\n",
              "    </tr>\n",
              "    <tr>\n",
              "      <th>10</th>\n",
              "      <td>2021-11</td>\n",
              "      <td>47</td>\n",
              "    </tr>\n",
              "    <tr>\n",
              "      <th>11</th>\n",
              "      <td>2021-12</td>\n",
              "      <td>42</td>\n",
              "    </tr>\n",
              "  </tbody>\n",
              "</table>\n",
              "</div>"
            ],
            "text/plain": [
              "   Month Joined  Company Count\n",
              "0       2021-01             34\n",
              "1       2021-02             22\n",
              "2       2021-03             52\n",
              "3       2021-04             43\n",
              "4       2021-05             46\n",
              "5       2021-06             55\n",
              "6       2021-07             50\n",
              "7       2021-08             32\n",
              "8       2021-09             52\n",
              "9       2021-10             45\n",
              "10      2021-11             47\n",
              "11      2021-12             42"
            ]
          },
          "execution_count": 33,
          "metadata": {},
          "output_type": "execute_result"
        }
      ],
      "source": [
        "# After identifying the time interval that interests you, proceed with the following:\n",
        "# Step 1. Take the subset that you defined for the year of interest. \n",
        "#         Insert a column that contains the time interval that each data point belongs to, as needed.\n",
        "# Step 2. Group by the time interval.\n",
        "#         Aggregate by counting companies that joined per interval of that year.\n",
        "#         Save the resulting DataFrame in a new variable.\n",
        "\n",
        "### YOUR CODE HERE ###\n",
        "\n",
        "companies_2021['Month Joined'] = companies_2021['Date Joined'].dt.strftime('%Y-%m')\n",
        "\n",
        "companies_by_month_2021 = companies_2021.groupby('Month Joined')['Company'].count().reset_index().rename(columns={'Company':'Company Count'})\n",
        "\n",
        "# Display the first few rows of the new DataFrame to confirm that it was created\n",
        "\n",
        "### YOUR CODE HERE ###\n",
        "\n",
        "companies_by_month_2021\n"
      ],
      "id": "RTPw3cRqPUI3"
    },
    {
      "cell_type": "markdown",
      "metadata": {
        "id": "vAPjV24TA7lA"
      },
      "source": [
        "**Question:** How would you structure the data to observe trends over time in the average valuation of companies that joined in the year you expressed interest in earlier compared to another year?** "
      ],
      "id": "vAPjV24TA7lA"
    },
    {
      "cell_type": "markdown",
      "metadata": {
        "id": "T5-Kc-zr0AzU"
      },
      "source": [
        "By adding quarter column, joining the datasets 2020 and 2021 and could be compare the average valuation of companies joined"
      ],
      "id": "T5-Kc-zr0AzU"
    },
    {
      "cell_type": "markdown",
      "metadata": {
        "id": "5vGITCLaA7lC"
      },
      "source": [
        "### Compare trends over time\n",
        "\n",
        "Implement the structuring approach that you have identified in order to compare trends over time in the average funding of companies that became unicorns between your years of interest. Keep in mind the data type of the `Valuation` column and what the values in that column contain currently."
      ],
      "id": "5vGITCLaA7lC"
    },
    {
      "cell_type": "code",
      "execution_count": null,
      "metadata": {
        "id": "pQ3sXSbaA7lD",
        "outputId": "b2cee316-040f-47ed-be48-f38c3a407ed8"
      },
      "outputs": [
        {
          "data": {
            "text/html": [
              "<div>\n",
              "<style scoped>\n",
              "    .dataframe tbody tr th:only-of-type {\n",
              "        vertical-align: middle;\n",
              "    }\n",
              "\n",
              "    .dataframe tbody tr th {\n",
              "        vertical-align: top;\n",
              "    }\n",
              "\n",
              "    .dataframe thead th {\n",
              "        text-align: right;\n",
              "    }\n",
              "</style>\n",
              "<table border=\"1\" class=\"dataframe\">\n",
              "  <thead>\n",
              "    <tr style=\"text-align: right;\">\n",
              "      <th></th>\n",
              "      <th>Quarter Joined</th>\n",
              "      <th>Avg Valuation</th>\n",
              "    </tr>\n",
              "  </thead>\n",
              "  <tbody>\n",
              "    <tr>\n",
              "      <th>0</th>\n",
              "      <td>2020-Q1</td>\n",
              "      <td>3.444444</td>\n",
              "    </tr>\n",
              "    <tr>\n",
              "      <th>1</th>\n",
              "      <td>2020-Q2</td>\n",
              "      <td>3.777778</td>\n",
              "    </tr>\n",
              "    <tr>\n",
              "      <th>2</th>\n",
              "      <td>2020-Q3</td>\n",
              "      <td>3.896552</td>\n",
              "    </tr>\n",
              "    <tr>\n",
              "      <th>3</th>\n",
              "      <td>2020-Q4</td>\n",
              "      <td>3.697674</td>\n",
              "    </tr>\n",
              "    <tr>\n",
              "      <th>4</th>\n",
              "      <td>2021-Q1</td>\n",
              "      <td>2.750000</td>\n",
              "    </tr>\n",
              "    <tr>\n",
              "      <th>5</th>\n",
              "      <td>2021-Q2</td>\n",
              "      <td>2.340278</td>\n",
              "    </tr>\n",
              "    <tr>\n",
              "      <th>6</th>\n",
              "      <td>2021-Q3</td>\n",
              "      <td>2.291045</td>\n",
              "    </tr>\n",
              "    <tr>\n",
              "      <th>7</th>\n",
              "      <td>2021-Q4</td>\n",
              "      <td>1.850746</td>\n",
              "    </tr>\n",
              "  </tbody>\n",
              "</table>\n",
              "</div>"
            ],
            "text/plain": [
              "  Quarter Joined  Avg Valuation\n",
              "0        2020-Q1       3.444444\n",
              "1        2020-Q2       3.777778\n",
              "2        2020-Q3       3.896552\n",
              "3        2020-Q4       3.697674\n",
              "4        2021-Q1       2.750000\n",
              "5        2021-Q2       2.340278\n",
              "6        2021-Q3       2.291045\n",
              "7        2021-Q4       1.850746"
            ]
          },
          "execution_count": 35,
          "metadata": {},
          "output_type": "execute_result"
        }
      ],
      "source": [
        "# After identifying the additional year and time interval of interest, proceed with the following:\n",
        "# Step 1. Filter by the additional year to create a subset that consists of companies that joined in that year.\n",
        "# Step 2. Concatenate that new subset with the subset that you defined previously.\n",
        "# Step 3. As needed, add a column that contains the time interval that each data point belongs to, \n",
        "#         in the concatenated DataFrame.\n",
        "# Step 4. Transform the `Valuation` column as needed.\n",
        "# Step 5. Group by the time interval.\n",
        "#         Aggregate by computing average funding of companies that joined per interval of the corresponding year.\n",
        "#         Save the resulting DataFrame in a new variable.\n",
        "\n",
        "### YOUR CODE HERE ###\n",
        "\n",
        "companies_2020 = companies[companies['Date Joined'].dt.year == 2020]\n",
        "\n",
        "companies_2020_2021 = pd.concat([companies_2020, companies_2021.drop(columns='Month Joined')])\n",
        "\n",
        "companies_2020_2021['Quarter Joined'] = companies_2020_2021['Date Joined'].dt.to_period('Q').dt.strftime('%Y-Q%q')\n",
        "\n",
        "companies_2020_2021['Valuation'] = companies_2020_2021['Valuation'].str[1:-1].astype(float)\n",
        "\n",
        "companies_by_quarter_2020_2021 = companies_2020_2021.groupby('Quarter Joined')['Valuation'].mean().reset_index().rename(columns={'Valuation':'Avg Valuation'})\n",
        "\n",
        "# Display the first few rows of the new DataFrame to confirm that it was created.\n",
        "\n",
        "### YOUR CODE HERE ###\n",
        "\n",
        "companies_by_quarter_2020_2021\n"
      ],
      "id": "pQ3sXSbaA7lD"
    },
    {
      "cell_type": "markdown",
      "metadata": {
        "id": "w_HtFyHrXVAc"
      },
      "source": [
        "## Step 3: Statistical tests\n",
        "\n",
        "### Visualize the time it took companies to become unicorns\n",
        "\n",
        "Using the `companies` dataset, create a box plot to visualize the distribution of how long it took companies to become unicorns, with respect to the month they joined. "
      ],
      "id": "w_HtFyHrXVAc"
    },
    {
      "cell_type": "code",
      "execution_count": null,
      "metadata": {
        "id": "4GT0qtPUIlzD",
        "outputId": "dcaaee75-4da7-4c4c-ea6c-55ae4b10324b"
      },
      "outputs": [
        {
          "name": "stdout",
          "output_type": "stream",
          "text": [
            "['January', 'February', 'March', 'April', 'May', 'June', 'July', 'August', 'September', 'October', 'November', 'December']\n"
          ]
        }
      ],
      "source": [
        "# Define a list that contains months in chronological order.\n",
        "\n",
        "### YOUR CODE HERE ###\n",
        "month_order = [\"January\", \"February\", \"March\", \"April\", \"May\", \"June\",\n",
        "               \"July\", \"August\", \"September\", \"October\", \"November\", \n",
        "               \"December\"]\n",
        "\n",
        "# Print out the list to confirm it is correct.\n",
        "\n",
        "### YOUR CODE HERE ###\n",
        "\n",
        "print(month_order)\n",
        "            "
      ],
      "id": "4GT0qtPUIlzD"
    },
    {
      "cell_type": "code",
      "execution_count": null,
      "metadata": {
        "id": "7V-NPXUCIhCT",
        "outputId": "8c6bf2c2-a5b4-4d08-ad7e-60375e383cec"
      },
      "outputs": [
        {
          "data": {
            "image/png": "[encoded data removed]",
            "text/plain": [
              "<Figure size 432x288 with 1 Axes>"
            ]
          },
          "metadata": {
            "needs_background": "light"
          },
          "output_type": "display_data"
        }
      ],
      "source": [
        "# Create the box plot \n",
        "# to visualize the distribution of how long it took companies to become unicorns, \n",
        "# with respect to the month they joined.\n",
        "# Make sure the x-axis goes in chronological order by month, using the list you defined previously.\n",
        "# Plot the data from the `companies` DataFrame.\n",
        "\n",
        "### YOUR CODE HERE ###\n",
        "\n",
        "sns.boxplot(companies['Month Joined'], companies['Years To Join'], order=month_order, showfliers=False)\n",
        "\n",
        "# Set the title of the plot.\n",
        "\n",
        "### YOUR CODE HERE ###\n",
        "\n",
        "plt.title('Years to become unicorn with respect to month joined')\n",
        "\n",
        "# Rotate labels on the x-axis as a way to avoid overlap in the positions of the text.  \n",
        "\n",
        "### YOUR CODE HERE ###\n",
        "\n",
        "plt.xticks(rotation=45, horizontalalignment='right')\n",
        "\n",
        "# Display the plot.\n",
        "\n",
        "### YOUR CODE HERE ###\n",
        "\n",
        "plt.show()\n"
      ],
      "id": "7V-NPXUCIhCT"
    },
    {
      "cell_type": "markdown",
      "metadata": {
        "id": "hJhdI_Y7LK8e"
      },
      "source": [
        "**Question:** What do you observe from the preceding box plot?\n"
      ],
      "id": "hJhdI_Y7LK8e"
    },
    {
      "cell_type": "markdown",
      "metadata": {
        "id": "rLUHSsZl0Cmt"
      },
      "source": [
        "The median Years To Join is lower for the month of September and October"
      ],
      "id": "rLUHSsZl0Cmt"
    },
    {
      "cell_type": "markdown",
      "metadata": {
        "id": "gq9Syq-Cq1zb"
      },
      "source": [
        "## Step 4: Results and evaluation\n"
      ],
      "id": "gq9Syq-Cq1zb"
    },
    {
      "cell_type": "markdown",
      "metadata": {
        "id": "10beff64-16e0-464d-93f0-03ab61f7069b",
        "tags": []
      },
      "source": [
        "### Visualize the time it took companies to reach unicorn status\n",
        "\n",
        "In this section, you will evaluate the result of structuring the data, making observations, and gaining further insights about the data. \n",
        "\n",
        "Using the `companies` dataset, create a bar plot to visualize the average number of years it took companies to reach unicorn status with respect to when they were founded. "
      ],
      "id": "10beff64-16e0-464d-93f0-03ab61f7069b"
    },
    {
      "cell_type": "code",
      "execution_count": null,
      "metadata": {
        "id": "1153ca76-f1e3-4fea-a2db-a5de23614abd",
        "outputId": "6b235a66-ff55-4056-c8dc-c264dad663f4"
      },
      "outputs": [
        {
          "data": {
            "image/png": "[encoded data removed]",
            "text/plain": [
              "<Figure size 720x432 with 1 Axes>"
            ]
          },
          "metadata": {
            "needs_background": "light"
          },
          "output_type": "display_data"
        }
      ],
      "source": [
        "# Set the size of the plot.\n",
        "\n",
        "### YOUR CODE HERE ###\n",
        "\n",
        "plt.figure(figsize=(10,6))\n",
        "\n",
        "\n",
        "# Create bar plot to visualize the average number of years it took companies to reach unicorn status \n",
        "# with respect to when they were founded.\n",
        "# Plot data from the `companies` DataFrame.\n",
        "\n",
        "### YOUR CODE HERE ###\n",
        "\n",
        "sns.barplot(companies[\"Year Founded\"], companies[\"Years To Join\"], ci=False)\n",
        "\n",
        "\n",
        "# Set title\n",
        "\n",
        "### YOUR CODE HERE ###\n",
        "\n",
        "plt.title(\"Years to join with respect to year founded\")\n",
        "\n",
        "\n",
        "# Rotate the labels on the x-axis as a way to avoid overlap in the positions of the text.  \n",
        "\n",
        "### YOUR CODE HERE ###\n",
        "\n",
        "plt.xticks(rotation=45, horizontalalignment='right')\n",
        "\n",
        "# Display the plot.\n",
        "\n",
        "### YOUR CODE HERE ###\n",
        "\n",
        "plt.show()"
      ],
      "id": "1153ca76-f1e3-4fea-a2db-a5de23614abd"
    },
    {
      "cell_type": "markdown",
      "metadata": {
        "id": "xDwKa-UDOmaX"
      },
      "source": [
        "**Question:** What do you observe from the bar plot of years to join with respect to the year founded?\n"
      ],
      "id": "xDwKa-UDOmaX"
    },
    {
      "cell_type": "markdown",
      "metadata": {
        "id": "EapccSkH0Don"
      },
      "source": [
        "The companies founded later took less time to reach unicorn status"
      ],
      "id": "EapccSkH0Don"
    },
    {
      "cell_type": "markdown",
      "metadata": {
        "id": "M9iBEnnStJPJ"
      },
      "source": [
        "### Visualize the number of companies that joined per interval \n",
        "\n",
        "Using the subset of companies joined in the year of interest, grouped by the time interval of your choice, create a bar plot to visualize the number of companies that joined per interval for that year. "
      ],
      "id": "M9iBEnnStJPJ"
    },
    {
      "cell_type": "code",
      "execution_count": null,
      "metadata": {
        "id": "BTdJdubxplHc",
        "outputId": "02bfc398-163a-4538-c64e-306c9cf9378c"
      },
      "outputs": [
        {
          "data": {
            "image/png": "[encoded data removed]",
            "text/plain": [
              "<Figure size 1080x360 with 1 Axes>"
            ]
          },
          "metadata": {
            "needs_background": "light"
          },
          "output_type": "display_data"
        }
      ],
      "source": [
        "# Set the size of the plot.\n",
        "\n",
        "### YOUR CODE HERE ###\n",
        "\n",
        "plt.figure(figsize = (15, 5))\n",
        "\n",
        "# Create bar plot to visualize number of companies that joined per interval for the year of interest.\n",
        "\n",
        "### YOUR CODE HERE ###\n",
        "\n",
        "plt.bar(companies_by_month_2021['Month Joined'], companies_by_month_2021['Company Count'])\n",
        "\n",
        "# Set the x-axis label.\n",
        "\n",
        "### YOUR CODE HERE ###\n",
        "\n",
        "plt.xlabel('Month Joined')\n",
        "\n",
        "# Set the y-axis label.\n",
        "\n",
        "### YOUR CODE HERE ###\n",
        "\n",
        "plt.ylabel('Company Count')\n",
        "\n",
        "# Set the title.\n",
        "\n",
        "### YOUR CODE HERE ###\n",
        "\n",
        "plt.title('No. of companies became unicorns per month in 2021')\n",
        "\n",
        "# Display the plot.\n",
        "\n",
        "### YOUR CODE HERE ###\n",
        "\n",
        "plt.show()"
      ],
      "id": "BTdJdubxplHc"
    },
    {
      "cell_type": "markdown",
      "metadata": {
        "id": "NEsKdFw8sdMJ"
      },
      "source": [
        "**Question:** What do you observe from the bar plot of the number of companies that joined per interval for the year of interest?\n",
        "\n",
        "  "
      ],
      "id": "NEsKdFw8sdMJ"
    },
    {
      "cell_type": "markdown",
      "metadata": {
        "id": "bLmFY7jR0Ewi"
      },
      "source": [
        "The highest no. of companies became unicorns in the month of 'June', the next highest are 'March' and 'September' month of 2021"
      ],
      "id": "bLmFY7jR0Ewi"
    },
    {
      "cell_type": "markdown",
      "metadata": {
        "id": "izcgBCbZhC4w"
      },
      "source": [
        "### Visualize the average valuation over the quarters\n",
        "\n",
        "Using the subset of companies that joined in the years of interest, create a grouped bar plot to visualize the average valuation over the quarters, with two bars for each time interval. There will be two bars for each time interval. This allows you to compare quarterly values between the two years."
      ],
      "id": "izcgBCbZhC4w"
    },
    {
      "cell_type": "code",
      "execution_count": null,
      "metadata": {
        "id": "IC1cFf2ci6Q6",
        "outputId": "4fa74736-de34-4dc4-f8ed-e2a3aa23c2b5"
      },
      "outputs": [
        {
          "data": {
            "image/png": "[encoded data removed]",
            "text/plain": [
              "<Figure size 720x360 with 1 Axes>"
            ]
          },
          "metadata": {
            "needs_background": "light"
          },
          "output_type": "display_data"
        }
      ],
      "source": [
        "# Using slicing, extract the year component and the time interval that you specified, \n",
        "# and save them by adding two new columns into the subset. \n",
        "\n",
        "### YOUR CODE HERE ###\n",
        "\n",
        "companies_by_quarter_2020_2021['Quarter Number'] = companies_by_quarter_2020_2021['Quarter Joined'].str[-2:]\n",
        "companies_by_quarter_2020_2021['Year Joined'] = companies_by_quarter_2020_2021['Quarter Joined'].str[:4]\n",
        "\n",
        "# Set the size of the plot.\n",
        "\n",
        "### YOUR CODE HERE ###\n",
        "\n",
        "plt.figure(figsize = (10, 5))\n",
        "\n",
        "# Create a grouped bar plot.\n",
        "\n",
        "### YOUR CODE HERE ###\n",
        "\n",
        "sns.barplot(companies_by_quarter_2020_2021['Quarter Number'],\n",
        "            companies_by_quarter_2020_2021['Avg Valuation'],\n",
        "            hue=companies_by_quarter_2020_2021['Year Joined'])\n",
        "plt.plot()\n",
        "\n",
        "# Set the title.\n",
        "\n",
        "### YOUR CODE HERE ###\n",
        "\n",
        "plt.title('Avg. Valuation of companies became unicorns per quarter in 2020 Vs. 2021')\n",
        "\n",
        "# Display the plot.\n",
        "\n",
        "### YOUR CODE HERE ###\n",
        "\n",
        "plt.show()"
      ],
      "id": "IC1cFf2ci6Q6"
    },
    {
      "cell_type": "markdown",
      "metadata": {
        "id": "-JSttrHR4v77"
      },
      "source": [
        "**Question:** What do you observe from the preceding grouped bar plot?\n",
        "\n",
        "  "
      ],
      "id": "-JSttrHR4v77"
    },
    {
      "cell_type": "markdown",
      "metadata": {
        "id": "tJjbpUeD0GMH"
      },
      "source": [
        "Avg valuation was higher in 2020 than in 2021\n",
        "\n",
        "Q3 was the highest for year 2020 and Q1 was the highest for year 2021\n",
        "\n",
        "In year 2020, there was a trend of increase from Q1 to Q3 with slight decrease in Q4 but in year 2021, there was a trend decrease from Q1 to Q4"
      ],
      "id": "tJjbpUeD0GMH"
    },
    {
      "cell_type": "markdown",
      "metadata": {
        "id": "CmStN_ox4wSs"
      },
      "source": [
        "**Question:** Is there any bias in the data that could potentially inform your analysis?\n"
      ],
      "id": "CmStN_ox4wSs"
    },
    {
      "cell_type": "markdown",
      "metadata": {
        "id": "Utbk8TTF0Gji"
      },
      "source": [
        "countries listed, industries included, year gaps and the lack of data on recent companies became unicorns are the things could bias the output data"
      ],
      "id": "Utbk8TTF0Gji"
    },
    {
      "cell_type": "markdown",
      "metadata": {
        "id": "9EsEVdiGF9XP"
      },
      "source": [
        "**Question:** What potential next steps could you take with your EDA?"
      ],
      "id": "9EsEVdiGF9XP"
    },
    {
      "cell_type": "markdown",
      "metadata": {
        "id": "nHi73JCn0HrT"
      },
      "source": [
        "Analysing the data in various aspects based on the funding & investors of each company or respect to industries, cities and countries of unicorn companies at different datetime intervals like weekly"
      ],
      "id": "nHi73JCn0HrT"
    },
    {
      "cell_type": "markdown",
      "metadata": {
        "id": "9qPL2qMpIF6g"
      },
      "source": [
        "**Question:** Are there any unanswered questions you have about the data? If yes, what are they?\n"
      ],
      "id": "9qPL2qMpIF6g"
    },
    {
      "cell_type": "markdown",
      "metadata": {
        "id": "ZQ4jXw1s0H_5"
      },
      "source": [
        "Lack of data - date of funding, select investors' capital"
      ],
      "id": "ZQ4jXw1s0H_5"
    },
    {
      "cell_type": "markdown",
      "metadata": {
        "id": "c77e7f0f-d2b9-4464-8a7c-9575d1e1ef9f"
      },
      "source": [
        "## Considerations"
      ],
      "id": "c77e7f0f-d2b9-4464-8a7c-9575d1e1ef9f"
    },
    {
      "cell_type": "markdown",
      "metadata": {
        "id": "bgpSxNeqL_gK"
      },
      "source": [
        "**What are some key takeaways that you learned from this lab?**"
      ],
      "id": "bgpSxNeqL_gK"
    },
    {
      "cell_type": "markdown",
      "metadata": {
        "id": "nh_Uk361MCUM"
      },
      "source": [
        "dt.month_name()\n",
        "\n",
        "dt.to_period('Q')\n",
        "\n",
        "dt.strftime()\n",
        "\n",
        "plt.figure(figsize=(16,9))\n",
        "\n",
        "seaborn"
      ],
      "id": "nh_Uk361MCUM"
    },
    {
      "cell_type": "markdown",
      "metadata": {
        "id": "R9sAADZgr-YI"
      },
      "source": [
        "**References**\n",
        "\n",
        "Bhat, M.A. (2022, March).[*Unicorn Companies*](https://www.kaggle.com/datasets/mysarahmadbhat/unicorn-companies). \n",
        "\n"
      ],
      "id": "R9sAADZgr-YI"
    }
  ],
  "metadata": {
    "colab": {
      "provenance": [],
      "include_colab_link": true
    },
    "kernelspec": {
      "display_name": "Python 3",
      "language": "python",
      "name": "python3"
    },
    "language_info": {
      "codemirror_mode": {
        "name": "ipython",
        "version": 3
      },
      "file_extension": ".py",
      "mimetype": "text/x-python",
      "name": "python",
      "nbconvert_exporter": "python",
      "pygments_lexer": "ipython3",
      "version": "3.7.6"
    },
    "toc-autonumbering": false,
    "toc-showtags": false
  },
  "nbformat": 4,
  "nbformat_minor": 5
}